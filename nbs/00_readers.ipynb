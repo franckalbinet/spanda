{
 "cells": [
  {
   "cell_type": "markdown",
   "metadata": {},
   "source": [
    "# Readers\n",
    "\n",
    "> IR spectrometers readers"
   ]
  },
  {
   "cell_type": "code",
   "execution_count": null,
   "metadata": {},
   "outputs": [],
   "source": [
    "#| default_exp readers"
   ]
  },
  {
   "cell_type": "code",
   "execution_count": null,
   "metadata": {},
   "outputs": [],
   "source": [
    "#| hide\n",
    "from nbdev.showdoc import *\n",
    "from nbdev.cli import *\n",
    "\n",
    "%load_ext autoreload\n",
    "%autoreload 2"
   ]
  },
  {
   "cell_type": "code",
   "execution_count": null,
   "metadata": {},
   "outputs": [],
   "source": [
    "#| export\n",
    "from brukeropusreader import read_file\n",
    "from specdal import Collection, Spectrum, read\n",
    "import pandas as pd\n",
    "import numpy as np\n",
    "from typing import Tuple, Dict, Callable\n",
    "import pandas as pd\n",
    "import matplotlib.pyplot as plt"
   ]
  },
  {
   "cell_type": "markdown",
   "metadata": {},
   "source": [
    "## Readers"
   ]
  },
  {
   "cell_type": "code",
   "execution_count": null,
   "metadata": {},
   "outputs": [],
   "source": [
    "#| export\n",
    "def read_opus(\n",
    "    fname:str # file name\n",
    ") -> Tuple: # (spectrum, wavenumbers) as `np.ndarray`\n",
    "    \"\"\"OPUS (Bruker Optics) infrared spectra reader\n",
    "    \n",
    "    It uses patched `brukeropusreader` third party Python package. \n",
    "    \n",
    "    To install it run: \n",
    "    `conda install -c \"spectrocat/label/dev\" brukeropusreader`\n",
    "    \"\"\"\n",
    "    f = read_file(fname)\n",
    "    return f['AB'], f.get_range('AB')    "
   ]
  },
  {
   "cell_type": "code",
   "execution_count": null,
   "metadata": {},
   "outputs": [
    {
     "name": "stdout",
     "output_type": "stream",
     "text": [
      "spectrum: [0.11326975 0.11811147 0.12199899 ... 1.64596999 1.63877058 1.63174832]\n",
      "wavenumbers:  [7498.04282256 7496.11431361 7494.18580465 ...  603.62330336  601.6947944\n",
      "  599.76628545]\n"
     ]
    }
   ],
   "source": [
    "#|eval: false\n",
    "fname = 'files/32990XS01.0'\n",
    "spectrum, wn = read_opus(fname)\n",
    "print('spectrum:', spectrum)\n",
    "print('wavenumbers: ', wn)"
   ]
  },
  {
   "cell_type": "code",
   "execution_count": null,
   "metadata": {},
   "outputs": [],
   "source": [
    "#| export\n",
    "def set_negative_to_min_positive(arr):\n",
    "    \"\"\"\n",
    "    Ensure all reflectance values > 0\n",
    "    before applying -log10 absorbance transform\n",
    "    \"\"\"\n",
    "    min_positive = np.min(arr[arr > 0])\n",
    "    arr[arr < 0] = min_positive\n",
    "    return arr"
   ]
  },
  {
   "cell_type": "code",
   "execution_count": null,
   "metadata": {},
   "outputs": [],
   "source": [
    "#| export\n",
    "def read_asd(\n",
    "    fname:str, # file name\n",
    "    wl_range:list=[500, 2450] # wavelengh range of interest \n",
    ") -> Tuple: # (spectrum, wavenumbers) as `np.ndarray`\n",
    "    \"\"\".asd file infrared spectra reader\n",
    "    \n",
    "    It uses patched `SpecDal` third party Python package. \n",
    "    \n",
    "    \"\"\"\n",
    "    start, end = wl_range\n",
    "    c = Collection(name='spectrum')\n",
    "    spectrum = Spectrum(filepath=fname)\n",
    "    c.append(spectrum)\n",
    "    values = set_negative_to_min_positive(c.data.values.squeeze())\n",
    "    df = pd.DataFrame({'absorbance': -np.log10(values)}, \n",
    "                      index=c.data.index)\n",
    "    \n",
    "    df = df.loc[start:end,:]\n",
    "    return df.values.squeeze(), df.index.values"
   ]
  },
  {
   "cell_type": "code",
   "execution_count": null,
   "metadata": {},
   "outputs": [
    {
     "name": "stdout",
     "output_type": "stream",
     "text": [
      "spectrum: [0.82470547 0.82104576 0.81702641 ... 0.61010321 0.6110041  0.61188284]\n",
      "wavelenghts:  [ 500.  501.  502. ... 2448. 2449. 2450.]\n"
     ]
    },
    {
     "data": {
      "image/png": "[encoded data removed]",
      "text/plain": [
       "<Figure size 640x480 with 1 Axes>"
      ]
     },
     "metadata": {},
     "output_type": "display_data"
    }
   ],
   "source": [
    "#|eval: false\n",
    "fname = 'files/152706MD01.asd'\n",
    "spectrum, wl = read_asd(fname)\n",
    "print('spectrum:', spectrum)\n",
    "print('wavelenghts: ', wl)\n",
    "plt.plot(wl, spectrum);"
   ]
  },
  {
   "cell_type": "code",
   "execution_count": null,
   "metadata": {},
   "outputs": [],
   "source": [
    "#| export\n",
    "def read_spectra(\n",
    "    fname:str # file name\n",
    ") -> Tuple: # (spectrum, wavenumbers) as `np.ndarray`\n",
    "    'Read KSSL MIRS data exported as .csv by USDA/NRCS'\n",
    "    series = pd.read_csv(fname, index_col=0).squeeze(\"columns\")\n",
    "    return series.values, series.index.values"
   ]
  },
  {
   "cell_type": "code",
   "execution_count": null,
   "metadata": {},
   "outputs": [
    {
     "name": "stdout",
     "output_type": "stream",
     "text": [
      "spectrum: [0.22969 0.22999 0.23026 ... 1.46858 1.45966 1.45319]\n",
      "wavenumbers:  [3999.72758 3997.79907 3995.87056 ...  603.6233   601.69479  599.76629]\n"
     ]
    }
   ],
   "source": [
    "#|eval: false\n",
    "fname = 'files/232985XS03.csv'\n",
    "spectrum, wn = read_spectra(fname)\n",
    "print('spectrum:', spectrum)\n",
    "print('wavenumbers: ', wn)"
   ]
  },
  {
   "cell_type": "code",
   "execution_count": null,
   "metadata": {},
   "outputs": [],
   "source": [
    "#| export\n",
    "def read_spa(filepath):\n",
    "    '''\n",
    "    Input\n",
    "    Read a file (string) *.spa\n",
    "    ----------\n",
    "    Output\n",
    "    Return spectra, wavelength (nm), titles\n",
    "    '''\n",
    "    with open(filepath, 'rb') as f:\n",
    "        f.seek(564)\n",
    "        Spectrum_Pts = np.fromfile(f, np.int32,1)[0]\n",
    "        f.seek(30)\n",
    "        SpectraTitles = np.fromfile(f, np.uint8,255)\n",
    "        SpectraTitles = ''.join([chr(x) for x in SpectraTitles if x!=0])\n",
    "\n",
    "        f.seek(576)\n",
    "        Max_Wavenum=np.fromfile(f, np.single, 1)[0]\n",
    "        Min_Wavenum=np.fromfile(f, np.single, 1)[0]\n",
    "        Wavenumbers = np.flip(np.linspace(Min_Wavenum, Max_Wavenum, Spectrum_Pts))\n",
    "        # print(Wavenumbers)\n",
    "\n",
    "        f.seek(288);\n",
    "\n",
    "        Flag=0\n",
    "        while Flag != 3:\n",
    "            Flag = np.fromfile(f, np.uint16, 1)\n",
    "\n",
    "        DataPosition=np.fromfile(f,np.uint16, 1)\n",
    "        f.seek(DataPosition[0])\n",
    "\n",
    "        Spectra = np.fromfile(f, np.single, Spectrum_Pts)\n",
    "    # return Spectra, 1e7/Wavenumbers, SpectraTitles\n",
    "    # return Spectra, Wavenumbers, SpectraTitles\n",
    "    return Spectra, Wavenumbers"
   ]
  }
 ],
 "metadata": {
  "kernelspec": {
   "display_name": "Python 3 (ipykernel)",
   "language": "python",
   "name": "python3"
  }
 },
 "nbformat": 4,
 "nbformat_minor": 4
}
