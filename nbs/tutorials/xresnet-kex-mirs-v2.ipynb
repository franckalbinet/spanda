{
 "cells": [
  {
   "cell_type": "code",
   "execution_count": null,
   "id": "4e7084f9-a24e-4019-9a0a-f731a84362b6",
   "metadata": {},
   "outputs": [],
   "source": [
    "# TBD: create bash script\n",
    "# To download kssl dataset\n",
    "# pip install gdown install --upgrade --no-cache-dir gdown\n",
    "\n",
    "# cd /root\n",
    "# python\n",
    "# import gdown\n",
    "# id = \"1qh8isMQIzhArsj3RNWJe6g0lx_cs7iBG\" # MIRS KSSL v1 or \"1SzQZqpbJuK3iCqjJYabuEobbgPXm3cHT\" for v2\n",
    "# gdown.download(id=id)\n",
    "# quit()\n",
    "# tar -xvf kssl.tar.gz\n",
    "\n",
    "# paperspace only\n",
    "#!pip install gdown \n",
    "#!pip install --upgrade gdown"
   ]
  },
  {
   "cell_type": "code",
   "execution_count": null,
   "id": "2a9e18d1-d7ea-4774-9682-90db2bdd5cc6",
   "metadata": {},
   "outputs": [
    {
     "name": "stdout",
     "output_type": "stream",
     "text": [
      "Collecting spanda\n",
      "  Downloading spanda-0.0.7-py3-none-any.whl (15 kB)\n",
      "Requirement already satisfied: openpyxl in /usr/lib/python3/dist-packages (from spanda) (3.0.3)\n",
      "Collecting brukeropusreader\n",
      "  Downloading brukeropusreader-1.3.4.tar.gz (3.0 kB)\n",
      "  Preparing metadata (setup.py) ... \u001b[?25ldone\n",
      "\u001b[?25hRequirement already satisfied: matplotlib in /usr/local/lib/python3.9/dist-packages (from spanda) (3.5.2)\n",
      "Requirement already satisfied: fastai in /usr/local/lib/python3.9/dist-packages (from spanda) (2.7.9)\n",
      "Requirement already satisfied: pandas in /usr/local/lib/python3.9/dist-packages (from spanda) (1.4.3)\n",
      "Collecting kennard-stone\n",
      "  Downloading kennard_stone-1.1.2-py3-none-any.whl (7.5 kB)\n",
      "Requirement already satisfied: numpy>=1.13.3 in /usr/local/lib/python3.9/dist-packages (from brukeropusreader->spanda) (1.23.1)\n",
      "Requirement already satisfied: scipy>=0.19.1 in /usr/local/lib/python3.9/dist-packages (from brukeropusreader->spanda) (1.8.1)\n",
      "Requirement already satisfied: spacy<4 in /usr/local/lib/python3.9/dist-packages (from fastai->spanda) (3.4.0)\n",
      "Requirement already satisfied: pip in /usr/local/lib/python3.9/dist-packages (from fastai->spanda) (22.2.2)\n",
      "Requirement already satisfied: pillow>6.0.0 in /usr/local/lib/python3.9/dist-packages (from fastai->spanda) (9.2.0)\n",
      "Requirement already satisfied: scikit-learn in /usr/local/lib/python3.9/dist-packages (from fastai->spanda) (1.1.1)\n",
      "Requirement already satisfied: requests in /usr/local/lib/python3.9/dist-packages (from fastai->spanda) (2.28.1)\n",
      "Requirement already satisfied: fastcore<1.6,>=1.4.5 in /usr/local/lib/python3.9/dist-packages (from fastai->spanda) (1.5.27)\n",
      "Requirement already satisfied: fastdownload<2,>=0.0.5 in /usr/local/lib/python3.9/dist-packages (from fastai->spanda) (0.0.7)\n",
      "Requirement already satisfied: packaging in /usr/local/lib/python3.9/dist-packages (from fastai->spanda) (21.3)\n",
      "Requirement already satisfied: torchvision>=0.8.2 in /usr/local/lib/python3.9/dist-packages (from fastai->spanda) (0.13.0+cu116)\n",
      "Requirement already satisfied: fastprogress>=0.2.4 in /usr/local/lib/python3.9/dist-packages (from fastai->spanda) (1.0.3)\n",
      "Requirement already satisfied: torch<1.14,>=1.7 in /usr/local/lib/python3.9/dist-packages (from fastai->spanda) (1.12.0+cu116)\n",
      "Requirement already satisfied: pyyaml in /usr/lib/python3/dist-packages (from fastai->spanda) (5.3.1)\n",
      "Requirement already satisfied: python-dateutil>=2.7 in /usr/local/lib/python3.9/dist-packages (from matplotlib->spanda) (2.8.2)\n",
      "Requirement already satisfied: fonttools>=4.22.0 in /usr/local/lib/python3.9/dist-packages (from matplotlib->spanda) (4.34.4)\n",
      "Requirement already satisfied: kiwisolver>=1.0.1 in /usr/local/lib/python3.9/dist-packages (from matplotlib->spanda) (1.4.3)\n",
      "Requirement already satisfied: cycler>=0.10 in /usr/local/lib/python3.9/dist-packages (from matplotlib->spanda) (0.11.0)\n",
      "Requirement already satisfied: pyparsing>=2.2.1 in /usr/local/lib/python3.9/dist-packages (from matplotlib->spanda) (3.0.9)\n",
      "Requirement already satisfied: pytz>=2020.1 in /usr/local/lib/python3.9/dist-packages (from pandas->spanda) (2022.1)\n",
      "Requirement already satisfied: six>=1.5 in /usr/lib/python3/dist-packages (from python-dateutil>=2.7->matplotlib->spanda) (1.14.0)\n",
      "Requirement already satisfied: catalogue<2.1.0,>=2.0.6 in /usr/local/lib/python3.9/dist-packages (from spacy<4->fastai->spanda) (2.0.7)\n",
      "Requirement already satisfied: pydantic!=1.8,!=1.8.1,<1.10.0,>=1.7.4 in /usr/local/lib/python3.9/dist-packages (from spacy<4->fastai->spanda) (1.9.1)\n",
      "Requirement already satisfied: preshed<3.1.0,>=3.0.2 in /usr/local/lib/python3.9/dist-packages (from spacy<4->fastai->spanda) (3.0.6)\n",
      "Requirement already satisfied: tqdm<5.0.0,>=4.38.0 in /usr/local/lib/python3.9/dist-packages (from spacy<4->fastai->spanda) (4.64.0)\n",
      "Requirement already satisfied: cymem<2.1.0,>=2.0.2 in /usr/local/lib/python3.9/dist-packages (from spacy<4->fastai->spanda) (2.0.6)\n",
      "Requirement already satisfied: murmurhash<1.1.0,>=0.28.0 in /usr/local/lib/python3.9/dist-packages (from spacy<4->fastai->spanda) (1.0.7)\n",
      "Requirement already satisfied: srsly<3.0.0,>=2.4.3 in /usr/local/lib/python3.9/dist-packages (from spacy<4->fastai->spanda) (2.4.3)\n",
      "Requirement already satisfied: pathy>=0.3.5 in /usr/local/lib/python3.9/dist-packages (from spacy<4->fastai->spanda) (0.6.2)\n",
      "Requirement already satisfied: spacy-legacy<3.1.0,>=3.0.9 in /usr/local/lib/python3.9/dist-packages (from spacy<4->fastai->spanda) (3.0.9)\n",
      "Requirement already satisfied: typer<0.5.0,>=0.3.0 in /usr/local/lib/python3.9/dist-packages (from spacy<4->fastai->spanda) (0.4.2)\n",
      "Requirement already satisfied: spacy-loggers<2.0.0,>=1.0.0 in /usr/local/lib/python3.9/dist-packages (from spacy<4->fastai->spanda) (1.0.2)\n",
      "Requirement already satisfied: wasabi<1.1.0,>=0.9.1 in /usr/local/lib/python3.9/dist-packages (from spacy<4->fastai->spanda) (0.9.1)\n",
      "Requirement already satisfied: jinja2 in /usr/local/lib/python3.9/dist-packages (from spacy<4->fastai->spanda) (3.1.2)\n",
      "Requirement already satisfied: thinc<8.2.0,>=8.1.0 in /usr/local/lib/python3.9/dist-packages (from spacy<4->fastai->spanda) (8.1.0)\n",
      "Requirement already satisfied: setuptools in /usr/local/lib/python3.9/dist-packages (from spacy<4->fastai->spanda) (63.1.0)\n",
      "Requirement already satisfied: langcodes<4.0.0,>=3.2.0 in /usr/local/lib/python3.9/dist-packages (from spacy<4->fastai->spanda) (3.3.0)\n",
      "Requirement already satisfied: urllib3<1.27,>=1.21.1 in /usr/local/lib/python3.9/dist-packages (from requests->fastai->spanda) (1.26.10)\n",
      "Requirement already satisfied: idna<4,>=2.5 in /usr/lib/python3/dist-packages (from requests->fastai->spanda) (2.8)\n",
      "Requirement already satisfied: charset-normalizer<3,>=2 in /usr/local/lib/python3.9/dist-packages (from requests->fastai->spanda) (2.1.0)\n",
      "Requirement already satisfied: certifi>=2017.4.17 in /usr/lib/python3/dist-packages (from requests->fastai->spanda) (2019.11.28)\n",
      "Requirement already satisfied: typing-extensions in /usr/local/lib/python3.9/dist-packages (from torch<1.14,>=1.7->fastai->spanda) (4.3.0)\n",
      "Requirement already satisfied: joblib>=1.0.0 in /usr/local/lib/python3.9/dist-packages (from scikit-learn->fastai->spanda) (1.1.0)\n",
      "Requirement already satisfied: threadpoolctl>=2.0.0 in /usr/local/lib/python3.9/dist-packages (from scikit-learn->fastai->spanda) (3.1.0)\n",
      "Requirement already satisfied: smart-open<6.0.0,>=5.2.1 in /usr/local/lib/python3.9/dist-packages (from pathy>=0.3.5->spacy<4->fastai->spanda) (5.2.1)\n",
      "Requirement already satisfied: blis<0.8.0,>=0.7.8 in /usr/local/lib/python3.9/dist-packages (from thinc<8.2.0,>=8.1.0->spacy<4->fastai->spanda) (0.7.8)\n",
      "Requirement already satisfied: click<9.0.0,>=7.1.1 in /usr/local/lib/python3.9/dist-packages (from typer<0.5.0,>=0.3.0->spacy<4->fastai->spanda) (8.1.3)\n",
      "Requirement already satisfied: MarkupSafe>=2.0 in /usr/local/lib/python3.9/dist-packages (from jinja2->spacy<4->fastai->spanda) (2.1.1)\n",
      "Building wheels for collected packages: brukeropusreader\n",
      "  Building wheel for brukeropusreader (setup.py) ... \u001b[?25ldone\n",
      "\u001b[?25h  Created wheel for brukeropusreader: filename=brukeropusreader-1.3.4-py3-none-any.whl size=5311 sha256=a052988ce8bdbd8f4570df41d72fbbc48936aaa95aca628f94b46d0a1a4a012d\n",
      "  Stored in directory: /root/.cache/pip/wheels/6a/0d/86/91cddedf53ade4d06446f0efb197520a25ccc18b6725c65378\n",
      "Successfully built brukeropusreader\n",
      "Installing collected packages: brukeropusreader, kennard-stone, spanda\n",
      "Successfully installed brukeropusreader-1.3.4 kennard-stone-1.1.2 spanda-0.0.7\n",
      "\u001b[33mWARNING: Running pip as the 'root' user can result in broken permissions and conflicting behaviour with the system package manager. It is recommended to use a virtual environment instead: https://pip.pypa.io/warnings/venv\u001b[0m\u001b[33m\n",
      "\u001b[0m"
     ]
    }
   ],
   "source": [
    "!pip install spanda"
   ]
  },
  {
   "cell_type": "code",
   "execution_count": null,
   "id": "e53d1d63",
   "metadata": {},
   "outputs": [],
   "source": [
    "%load_ext autoreload\n",
    "%autoreload 2"
   ]
  },
  {
   "cell_type": "code",
   "execution_count": null,
   "id": "61c1205d-5b2f-42f3-8dbe-f5453425ab36",
   "metadata": {},
   "outputs": [],
   "source": [
    "from pathlib import Path\n",
    "from fastai.vision.all import *\n",
    "from fastai.data.all import *\n",
    "from tqdm import tqdm\n",
    "\n",
    "from spanda.data.transforms import (SpectraBlock, AnalytesBlock, SpectraTfm, \n",
    "                                    AnalytesTfm, SNVTfm, RandWAvgTfm, NormalizeTfm, LogTfm)\n",
    "\n",
    "use_cuda = torch.cuda.is_available()\n",
    "#device = torch.device('cuda:0' if use_cuda else 'cpu')\n",
    "device = 'mps' if torch.backends.mps.is_available() else 'cuda' if torch.cuda.is_available() else 'cpu'\n",
    "\n",
    "analyte_name = 725"
   ]
  },
  {
   "cell_type": "code",
   "execution_count": null,
   "id": "58ea41c5",
   "metadata": {},
   "outputs": [],
   "source": [
    "# Only samples with spectra\n",
    "path = Path('/root/kssl-mirs-v2'); path.ls()"
   ]
  },
  {
   "cell_type": "code",
   "execution_count": null,
   "id": "795a1352-268b-497c-a372-13ceca479f47",
   "metadata": {},
   "outputs": [
    {
     "name": "stderr",
     "output_type": "stream",
     "text": [
      "100%|██████████| 46305/46305 [00:01<00:00, 27034.24it/s]"
     ]
    },
    {
     "name": "stdout",
     "output_type": "stream",
     "text": [
      "n samples: 46251\n"
     ]
    },
    {
     "name": "stderr",
     "output_type": "stream",
     "text": [
      "\n"
     ]
    }
   ],
   "source": [
    "# keep only when spectra in folder\n",
    "paths = [p for p in tqdm(path.ls()) if len(p.ls()) > 1]; print(f'n samples: {len(paths)}')"
   ]
  },
  {
   "cell_type": "code",
   "execution_count": null,
   "id": "004d2290-c913-47b0-a857-3e24381c77c6",
   "metadata": {},
   "outputs": [],
   "source": [
    "get_spectra = lambda o: L(f for f in o.ls() if not re.match('target', f.name))\n",
    "get_target = lambda o: [f for f in o.ls() if re.match('target', f.name)][0]"
   ]
  },
  {
   "cell_type": "code",
   "execution_count": null,
   "id": "62b8766e",
   "metadata": {},
   "outputs": [
    {
     "name": "stdout",
     "output_type": "stream",
     "text": [
      "n samples: 44565\n"
     ]
    }
   ],
   "source": [
    "# Only strictly positive measurements\n",
    "paths = [p for p in paths if AnalytesTfm(analytes=[analyte_name])(get_target(p)) != 0] \n",
    "print(f'n samples: {len(paths)}')"
   ]
  },
  {
   "cell_type": "code",
   "execution_count": null,
   "id": "74b85e7a",
   "metadata": {},
   "outputs": [],
   "source": [
    "# Stats\n",
    "\n",
    "## Spectra\n",
    "#Xs = []\n",
    "#n = 0\n",
    "#for p in paths:\n",
    "#    Xs.append(SpectraTfm()(get_target(p)))\n",
    "#    n += 1 \n",
    "#    if n > 1000: break\n",
    "#print(f'X mean: {torch.mean(torch.concat(Xs))}, X Std: {torch.std(torch.concat(Xs))}');"
   ]
  },
  {
   "cell_type": "code",
   "execution_count": null,
   "id": "7a3685e2",
   "metadata": {},
   "outputs": [],
   "source": [
    "#ys = []\n",
    "#n = 0\n",
    "#for p in paths:\n",
    "#    ys.append(AnalytesTfm(analytes=['K'])(get_target(p)))\n",
    "#    n += 1 \n",
    "#    if n > 1000: break"
   ]
  },
  {
   "cell_type": "code",
   "execution_count": null,
   "id": "6e413847",
   "metadata": {},
   "outputs": [],
   "source": [
    "#torch.concat(ys).min()"
   ]
  },
  {
   "cell_type": "code",
   "execution_count": null,
   "id": "f28ac29c",
   "metadata": {},
   "outputs": [],
   "source": [
    "#torch.concat(ys).max()"
   ]
  },
  {
   "cell_type": "code",
   "execution_count": null,
   "id": "b55b98c1",
   "metadata": {},
   "outputs": [],
   "source": [
    "#torch.concat(ys).mean()"
   ]
  },
  {
   "cell_type": "code",
   "execution_count": null,
   "id": "3bb2fc48",
   "metadata": {},
   "outputs": [],
   "source": [
    "#import matplotlib.pyplot as plt\n",
    "\n",
    "#plt.hist(torch.log10(torch.concat(ys)), bins=20)\n",
    "#plt.xscale('log') "
   ]
  },
  {
   "cell_type": "code",
   "execution_count": null,
   "id": "724d78b0",
   "metadata": {},
   "outputs": [
    {
     "data": {
      "image/png": "[encoded data removed]",
      "text/plain": [
       "<Figure size 576x144 with 1 Axes>"
      ]
     },
     "metadata": {
      "needs_background": "light"
     },
     "output_type": "display_data"
    },
    {
     "data": {
      "image/png": "[encoded data removed]",
      "text/plain": [
       "<Figure size 576x144 with 1 Axes>"
      ]
     },
     "metadata": {
      "needs_background": "light"
     },
     "output_type": "display_data"
    },
    {
     "data": {
      "image/png": "[encoded data removed]",
      "text/plain": [
       "<Figure size 576x144 with 1 Axes>"
      ]
     },
     "metadata": {
      "needs_background": "light"
     },
     "output_type": "display_data"
    }
   ],
   "source": [
    "n_smp = None # None for all\n",
    "\n",
    "get_spectra = lambda o: L(f for f in o.ls() if not re.match('target', f.name))\n",
    "get_target = lambda o: [f for f in o.ls() if re.match('target', f.name)][0]\n",
    "\n",
    "dblock = DataBlock(blocks=(SpectraBlock, AnalytesBlock(analytes=[analyte_name])),\n",
    "                   get_x=get_spectra,\n",
    "                   get_y=get_target,\n",
    "                   splitter=RandomSplitter(),\n",
    "                   item_tfms=[RandWAvgTfm(), SNVTfm(),\n",
    "                              LogTfm()])\n",
    "\n",
    "dls = dblock.dataloaders(paths[:n_smp], bs=3)\n",
    "dls.show_batch()"
   ]
  },
  {
   "cell_type": "code",
   "execution_count": null,
   "id": "138ae640",
   "metadata": {},
   "outputs": [],
   "source": [
    "# Create Learner\n",
    "model = xresnet18(ndim=1, c_in=1, ks=3, n_out=1).to(device)\n",
    "learn = Learner(dls, model, loss_func=MSELossFlat(), metrics=R2Score()).to_fp16()"
   ]
  },
  {
   "cell_type": "code",
   "execution_count": null,
   "id": "63ed044d",
   "metadata": {},
   "outputs": [
    {
     "data": {
      "text/html": [
       "\n",
       "<style>\n",
       "    /* Turns off some styling */\n",
       "    progress {\n",
       "        /* gets rid of default border in Firefox and Opera. */\n",
       "        border: none;\n",
       "        /* Needs to be in here for Safari polyfill so background images work as expected. */\n",
       "        background-size: auto;\n",
       "    }\n",
       "    progress:not([value]), progress:not([value])::-webkit-progress-bar {\n",
       "        background: repeating-linear-gradient(45deg, #7e7e7e, #7e7e7e 10px, #5c5c5c 10px, #5c5c5c 20px);\n",
       "    }\n",
       "    .progress-bar-interrupted, .progress-bar-interrupted::-webkit-progress-bar {\n",
       "        background: #F44336;\n",
       "    }\n",
       "</style>\n"
      ],
      "text/plain": [
       "<IPython.core.display.HTML object>"
      ]
     },
     "metadata": {},
     "output_type": "display_data"
    },
    {
     "data": {
      "text/html": [],
      "text/plain": [
       "<IPython.core.display.HTML object>"
      ]
     },
     "metadata": {},
     "output_type": "display_data"
    },
    {
     "data": {
      "text/plain": [
       "SuggestedLRs(valley=0.0005754399462603033)"
      ]
     },
     "execution_count": null,
     "metadata": {},
     "output_type": "execute_result"
    },
    {
     "data": {
      "image/png": "[encoded data removed]",
      "text/plain": [
       "<Figure size 432x288 with 1 Axes>"
      ]
     },
     "metadata": {
      "needs_background": "light"
     },
     "output_type": "display_data"
    }
   ],
   "source": [
    "learn.lr_find()"
   ]
  },
  {
   "cell_type": "code",
   "execution_count": null,
   "id": "9489e231",
   "metadata": {},
   "outputs": [
    {
     "data": {
      "text/html": [
       "\n",
       "<style>\n",
       "    /* Turns off some styling */\n",
       "    progress {\n",
       "        /* gets rid of default border in Firefox and Opera. */\n",
       "        border: none;\n",
       "        /* Needs to be in here for Safari polyfill so background images work as expected. */\n",
       "        background-size: auto;\n",
       "    }\n",
       "    progress:not([value]), progress:not([value])::-webkit-progress-bar {\n",
       "        background: repeating-linear-gradient(45deg, #7e7e7e, #7e7e7e 10px, #5c5c5c 10px, #5c5c5c 20px);\n",
       "    }\n",
       "    .progress-bar-interrupted, .progress-bar-interrupted::-webkit-progress-bar {\n",
       "        background: #F44336;\n",
       "    }\n",
       "</style>\n"
      ],
      "text/plain": [
       "<IPython.core.display.HTML object>"
      ]
     },
     "metadata": {},
     "output_type": "display_data"
    },
    {
     "data": {
      "text/html": [
       "<table border=\"1\" class=\"dataframe\">\n",
       "  <thead>\n",
       "    <tr style=\"text-align: left;\">\n",
       "      <th>epoch</th>\n",
       "      <th>train_loss</th>\n",
       "      <th>valid_loss</th>\n",
       "      <th>r2_score</th>\n",
       "      <th>time</th>\n",
       "    </tr>\n",
       "  </thead>\n",
       "  <tbody>\n",
       "    <tr>\n",
       "      <td>0</td>\n",
       "      <td>0.141457</td>\n",
       "      <td>0.123325</td>\n",
       "      <td>0.473447</td>\n",
       "      <td>06:59</td>\n",
       "    </tr>\n",
       "    <tr>\n",
       "      <td>1</td>\n",
       "      <td>0.121291</td>\n",
       "      <td>0.109823</td>\n",
       "      <td>0.531099</td>\n",
       "      <td>06:54</td>\n",
       "    </tr>\n",
       "    <tr>\n",
       "      <td>2</td>\n",
       "      <td>0.114840</td>\n",
       "      <td>0.124020</td>\n",
       "      <td>0.470482</td>\n",
       "      <td>06:55</td>\n",
       "    </tr>\n",
       "    <tr>\n",
       "      <td>3</td>\n",
       "      <td>0.098722</td>\n",
       "      <td>0.089686</td>\n",
       "      <td>0.617071</td>\n",
       "      <td>06:56</td>\n",
       "    </tr>\n",
       "    <tr>\n",
       "      <td>4</td>\n",
       "      <td>0.075183</td>\n",
       "      <td>0.081244</td>\n",
       "      <td>0.653119</td>\n",
       "      <td>06:58</td>\n",
       "    </tr>\n",
       "    <tr>\n",
       "      <td>5</td>\n",
       "      <td>0.069259</td>\n",
       "      <td>0.076557</td>\n",
       "      <td>0.673130</td>\n",
       "      <td>06:56</td>\n",
       "    </tr>\n",
       "    <tr>\n",
       "      <td>6</td>\n",
       "      <td>0.078079</td>\n",
       "      <td>0.074479</td>\n",
       "      <td>0.682002</td>\n",
       "      <td>06:56</td>\n",
       "    </tr>\n",
       "    <tr>\n",
       "      <td>7</td>\n",
       "      <td>0.056177</td>\n",
       "      <td>0.080317</td>\n",
       "      <td>0.657074</td>\n",
       "      <td>06:58</td>\n",
       "    </tr>\n",
       "    <tr>\n",
       "      <td>8</td>\n",
       "      <td>0.061138</td>\n",
       "      <td>0.069402</td>\n",
       "      <td>0.703681</td>\n",
       "      <td>07:00</td>\n",
       "    </tr>\n",
       "    <tr>\n",
       "      <td>9</td>\n",
       "      <td>0.061721</td>\n",
       "      <td>0.067104</td>\n",
       "      <td>0.713490</td>\n",
       "      <td>06:57</td>\n",
       "    </tr>\n",
       "    <tr>\n",
       "      <td>10</td>\n",
       "      <td>0.060385</td>\n",
       "      <td>0.063360</td>\n",
       "      <td>0.729478</td>\n",
       "      <td>06:57</td>\n",
       "    </tr>\n",
       "    <tr>\n",
       "      <td>11</td>\n",
       "      <td>0.057035</td>\n",
       "      <td>0.060135</td>\n",
       "      <td>0.743245</td>\n",
       "      <td>06:58</td>\n",
       "    </tr>\n",
       "    <tr>\n",
       "      <td>12</td>\n",
       "      <td>0.051501</td>\n",
       "      <td>0.055145</td>\n",
       "      <td>0.764550</td>\n",
       "      <td>07:03</td>\n",
       "    </tr>\n",
       "    <tr>\n",
       "      <td>13</td>\n",
       "      <td>0.041996</td>\n",
       "      <td>0.053854</td>\n",
       "      <td>0.770063</td>\n",
       "      <td>07:01</td>\n",
       "    </tr>\n",
       "    <tr>\n",
       "      <td>14</td>\n",
       "      <td>0.033516</td>\n",
       "      <td>0.048894</td>\n",
       "      <td>0.791239</td>\n",
       "      <td>07:01</td>\n",
       "    </tr>\n",
       "    <tr>\n",
       "      <td>15</td>\n",
       "      <td>0.034101</td>\n",
       "      <td>0.048134</td>\n",
       "      <td>0.794485</td>\n",
       "      <td>06:59</td>\n",
       "    </tr>\n",
       "    <tr>\n",
       "      <td>16</td>\n",
       "      <td>0.036729</td>\n",
       "      <td>0.047122</td>\n",
       "      <td>0.798805</td>\n",
       "      <td>06:57</td>\n",
       "    </tr>\n",
       "    <tr>\n",
       "      <td>17</td>\n",
       "      <td>0.027540</td>\n",
       "      <td>0.044754</td>\n",
       "      <td>0.808917</td>\n",
       "      <td>06:58</td>\n",
       "    </tr>\n",
       "    <tr>\n",
       "      <td>18</td>\n",
       "      <td>0.036861</td>\n",
       "      <td>0.044147</td>\n",
       "      <td>0.811510</td>\n",
       "      <td>06:59</td>\n",
       "    </tr>\n",
       "    <tr>\n",
       "      <td>19</td>\n",
       "      <td>0.026957</td>\n",
       "      <td>0.043712</td>\n",
       "      <td>0.813365</td>\n",
       "      <td>06:57</td>\n",
       "    </tr>\n",
       "  </tbody>\n",
       "</table>"
      ],
      "text/plain": [
       "<IPython.core.display.HTML object>"
      ]
     },
     "metadata": {},
     "output_type": "display_data"
    }
   ],
   "source": [
    "learn.fit_one_cycle(20, 1e-3)"
   ]
  },
  {
   "cell_type": "code",
   "execution_count": null,
   "id": "1de7c15e",
   "metadata": {},
   "outputs": [
    {
     "data": {
      "text/plain": [
       "Path('models/xresnet18-kex-mirs-kssl-20-epochs-lr-1e3-r2-0.813-260323.pth')"
      ]
     },
     "execution_count": null,
     "metadata": {},
     "output_type": "execute_result"
    }
   ],
   "source": [
    "learn.save('xresnet18-kex-mirs-kssl-20-epochs-lr-1e3-r2-0.813-260323')"
   ]
  },
  {
   "cell_type": "code",
   "execution_count": null,
   "id": "926e2edb-b76c-4329-ae64-356b759b05a7",
   "metadata": {},
   "outputs": [],
   "source": []
  }
 ],
 "metadata": {
  "kernelspec": {
   "display_name": "Python 3 (ipykernel)",
   "language": "python",
   "name": "python3"
  }
 },
 "nbformat": 4,
 "nbformat_minor": 5
}
