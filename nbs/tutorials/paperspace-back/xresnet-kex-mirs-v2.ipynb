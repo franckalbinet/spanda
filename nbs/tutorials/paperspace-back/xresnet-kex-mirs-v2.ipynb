{
 "cells": [
  {
   "cell_type": "code",
   "execution_count": 5,
   "id": "4e7084f9-a24e-4019-9a0a-f731a84362b6",
   "metadata": {},
   "outputs": [],
   "source": [
    "# TBD: create bash script\n",
    "# To download kssl dataset\n",
    "# pip install gdown install --upgrade --no-cache-dir gdown\n",
    "\n",
    "# cd /root\n",
    "# python\n",
    "# import gdown\n",
    "# id = \"1qh8isMQIzhArsj3RNWJe6g0lx_cs7iBG\" # MIRS KSSL v1 or \"1SzQZqpbJuK3iCqjJYabuEobbgPXm3cHT\" for v2\n",
    "# gdown.download(id=id)\n",
    "# quit()\n",
    "# tar -xvf kssl.tar.gz\n",
    "\n",
    "# paperspace only\n",
    "#!pip install gdown \n",
    "#!pip install --upgrade gdown"
   ]
  },
  {
   "cell_type": "code",
   "execution_count": 1,
   "id": "2a9e18d1-d7ea-4774-9682-90db2bdd5cc6",
   "metadata": {},
   "outputs": [
    {
     "name": "stdout",
     "output_type": "stream",
     "text": [
      "Collecting spanda\n",
      "  Downloading spanda-0.0.8-py3-none-any.whl (15 kB)\n",
      "Requirement already satisfied: pandas in /usr/local/lib/python3.9/dist-packages (from spanda) (1.4.3)\n",
      "Requirement already satisfied: matplotlib in /usr/local/lib/python3.9/dist-packages (from spanda) (3.5.2)\n",
      "Requirement already satisfied: openpyxl in /usr/lib/python3/dist-packages (from spanda) (3.0.3)\n",
      "Collecting brukeropusreader\n",
      "  Downloading brukeropusreader-1.3.4.tar.gz (3.0 kB)\n",
      "  Preparing metadata (setup.py) ... \u001b[?25ldone\n",
      "\u001b[?25hRequirement already satisfied: fastai in /usr/local/lib/python3.9/dist-packages (from spanda) (2.7.9)\n",
      "Collecting kennard-stone\n",
      "  Downloading kennard_stone-1.1.2-py3-none-any.whl (7.5 kB)\n",
      "Requirement already satisfied: numpy>=1.13.3 in /usr/local/lib/python3.9/dist-packages (from brukeropusreader->spanda) (1.23.1)\n",
      "Requirement already satisfied: scipy>=0.19.1 in /usr/local/lib/python3.9/dist-packages (from brukeropusreader->spanda) (1.8.1)\n",
      "Requirement already satisfied: pip in /usr/local/lib/python3.9/dist-packages (from fastai->spanda) (22.2.2)\n",
      "Requirement already satisfied: scikit-learn in /usr/local/lib/python3.9/dist-packages (from fastai->spanda) (1.1.1)\n",
      "Requirement already satisfied: torch<1.14,>=1.7 in /usr/local/lib/python3.9/dist-packages (from fastai->spanda) (1.12.0+cu116)\n",
      "Requirement already satisfied: fastcore<1.6,>=1.4.5 in /usr/local/lib/python3.9/dist-packages (from fastai->spanda) (1.5.27)\n",
      "Requirement already satisfied: torchvision>=0.8.2 in /usr/local/lib/python3.9/dist-packages (from fastai->spanda) (0.13.0+cu116)\n",
      "Requirement already satisfied: packaging in /usr/local/lib/python3.9/dist-packages (from fastai->spanda) (21.3)\n",
      "Requirement already satisfied: pillow>6.0.0 in /usr/local/lib/python3.9/dist-packages (from fastai->spanda) (9.2.0)\n",
      "Requirement already satisfied: spacy<4 in /usr/local/lib/python3.9/dist-packages (from fastai->spanda) (3.4.0)\n",
      "Requirement already satisfied: fastprogress>=0.2.4 in /usr/local/lib/python3.9/dist-packages (from fastai->spanda) (1.0.3)\n",
      "Requirement already satisfied: fastdownload<2,>=0.0.5 in /usr/local/lib/python3.9/dist-packages (from fastai->spanda) (0.0.7)\n",
      "Requirement already satisfied: requests in /usr/local/lib/python3.9/dist-packages (from fastai->spanda) (2.28.1)\n",
      "Requirement already satisfied: pyyaml in /usr/lib/python3/dist-packages (from fastai->spanda) (5.3.1)\n",
      "Requirement already satisfied: kiwisolver>=1.0.1 in /usr/local/lib/python3.9/dist-packages (from matplotlib->spanda) (1.4.3)\n",
      "Requirement already satisfied: pyparsing>=2.2.1 in /usr/local/lib/python3.9/dist-packages (from matplotlib->spanda) (3.0.9)\n",
      "Requirement already satisfied: fonttools>=4.22.0 in /usr/local/lib/python3.9/dist-packages (from matplotlib->spanda) (4.34.4)\n",
      "Requirement already satisfied: python-dateutil>=2.7 in /usr/local/lib/python3.9/dist-packages (from matplotlib->spanda) (2.8.2)\n",
      "Requirement already satisfied: cycler>=0.10 in /usr/local/lib/python3.9/dist-packages (from matplotlib->spanda) (0.11.0)\n",
      "Requirement already satisfied: pytz>=2020.1 in /usr/local/lib/python3.9/dist-packages (from pandas->spanda) (2022.1)\n",
      "Requirement already satisfied: six>=1.5 in /usr/lib/python3/dist-packages (from python-dateutil>=2.7->matplotlib->spanda) (1.14.0)\n",
      "Requirement already satisfied: murmurhash<1.1.0,>=0.28.0 in /usr/local/lib/python3.9/dist-packages (from spacy<4->fastai->spanda) (1.0.7)\n",
      "Requirement already satisfied: langcodes<4.0.0,>=3.2.0 in /usr/local/lib/python3.9/dist-packages (from spacy<4->fastai->spanda) (3.3.0)\n",
      "Requirement already satisfied: catalogue<2.1.0,>=2.0.6 in /usr/local/lib/python3.9/dist-packages (from spacy<4->fastai->spanda) (2.0.7)\n",
      "Requirement already satisfied: srsly<3.0.0,>=2.4.3 in /usr/local/lib/python3.9/dist-packages (from spacy<4->fastai->spanda) (2.4.3)\n",
      "Requirement already satisfied: preshed<3.1.0,>=3.0.2 in /usr/local/lib/python3.9/dist-packages (from spacy<4->fastai->spanda) (3.0.6)\n",
      "Requirement already satisfied: setuptools in /usr/local/lib/python3.9/dist-packages (from spacy<4->fastai->spanda) (63.1.0)\n",
      "Requirement already satisfied: pathy>=0.3.5 in /usr/local/lib/python3.9/dist-packages (from spacy<4->fastai->spanda) (0.6.2)\n",
      "Requirement already satisfied: typer<0.5.0,>=0.3.0 in /usr/local/lib/python3.9/dist-packages (from spacy<4->fastai->spanda) (0.4.2)\n",
      "Requirement already satisfied: spacy-legacy<3.1.0,>=3.0.9 in /usr/local/lib/python3.9/dist-packages (from spacy<4->fastai->spanda) (3.0.9)\n",
      "Requirement already satisfied: cymem<2.1.0,>=2.0.2 in /usr/local/lib/python3.9/dist-packages (from spacy<4->fastai->spanda) (2.0.6)\n",
      "Requirement already satisfied: wasabi<1.1.0,>=0.9.1 in /usr/local/lib/python3.9/dist-packages (from spacy<4->fastai->spanda) (0.9.1)\n",
      "Requirement already satisfied: thinc<8.2.0,>=8.1.0 in /usr/local/lib/python3.9/dist-packages (from spacy<4->fastai->spanda) (8.1.0)\n",
      "Requirement already satisfied: tqdm<5.0.0,>=4.38.0 in /usr/local/lib/python3.9/dist-packages (from spacy<4->fastai->spanda) (4.64.0)\n",
      "Requirement already satisfied: jinja2 in /usr/local/lib/python3.9/dist-packages (from spacy<4->fastai->spanda) (3.1.2)\n",
      "Requirement already satisfied: spacy-loggers<2.0.0,>=1.0.0 in /usr/local/lib/python3.9/dist-packages (from spacy<4->fastai->spanda) (1.0.2)\n",
      "Requirement already satisfied: pydantic!=1.8,!=1.8.1,<1.10.0,>=1.7.4 in /usr/local/lib/python3.9/dist-packages (from spacy<4->fastai->spanda) (1.9.1)\n",
      "Requirement already satisfied: idna<4,>=2.5 in /usr/lib/python3/dist-packages (from requests->fastai->spanda) (2.8)\n",
      "Requirement already satisfied: certifi>=2017.4.17 in /usr/lib/python3/dist-packages (from requests->fastai->spanda) (2019.11.28)\n",
      "Requirement already satisfied: charset-normalizer<3,>=2 in /usr/local/lib/python3.9/dist-packages (from requests->fastai->spanda) (2.1.0)\n",
      "Requirement already satisfied: urllib3<1.27,>=1.21.1 in /usr/local/lib/python3.9/dist-packages (from requests->fastai->spanda) (1.26.10)\n",
      "Requirement already satisfied: typing-extensions in /usr/local/lib/python3.9/dist-packages (from torch<1.14,>=1.7->fastai->spanda) (4.3.0)\n",
      "Requirement already satisfied: joblib>=1.0.0 in /usr/local/lib/python3.9/dist-packages (from scikit-learn->fastai->spanda) (1.1.0)\n",
      "Requirement already satisfied: threadpoolctl>=2.0.0 in /usr/local/lib/python3.9/dist-packages (from scikit-learn->fastai->spanda) (3.1.0)\n",
      "Requirement already satisfied: smart-open<6.0.0,>=5.2.1 in /usr/local/lib/python3.9/dist-packages (from pathy>=0.3.5->spacy<4->fastai->spanda) (5.2.1)\n",
      "Requirement already satisfied: blis<0.8.0,>=0.7.8 in /usr/local/lib/python3.9/dist-packages (from thinc<8.2.0,>=8.1.0->spacy<4->fastai->spanda) (0.7.8)\n",
      "Requirement already satisfied: click<9.0.0,>=7.1.1 in /usr/local/lib/python3.9/dist-packages (from typer<0.5.0,>=0.3.0->spacy<4->fastai->spanda) (8.1.3)\n",
      "Requirement already satisfied: MarkupSafe>=2.0 in /usr/local/lib/python3.9/dist-packages (from jinja2->spacy<4->fastai->spanda) (2.1.1)\n",
      "Building wheels for collected packages: brukeropusreader\n",
      "  Building wheel for brukeropusreader (setup.py) ... \u001b[?25ldone\n",
      "\u001b[?25h  Created wheel for brukeropusreader: filename=brukeropusreader-1.3.4-py3-none-any.whl size=5311 sha256=9ec8b50d924964e0773bb428c4842c14a4299749e9470e5c8e5a2152cdcf0c92\n",
      "  Stored in directory: /root/.cache/pip/wheels/6a/0d/86/91cddedf53ade4d06446f0efb197520a25ccc18b6725c65378\n",
      "Successfully built brukeropusreader\n",
      "Installing collected packages: brukeropusreader, kennard-stone, spanda\n",
      "Successfully installed brukeropusreader-1.3.4 kennard-stone-1.1.2 spanda-0.0.8\n",
      "\u001b[33mWARNING: Running pip as the 'root' user can result in broken permissions and conflicting behaviour with the system package manager. It is recommended to use a virtual environment instead: https://pip.pypa.io/warnings/venv\u001b[0m\u001b[33m\n",
      "\u001b[0m"
     ]
    }
   ],
   "source": [
    "!pip install spanda"
   ]
  },
  {
   "cell_type": "code",
   "execution_count": 2,
   "id": "e53d1d63",
   "metadata": {
    "tags": []
   },
   "outputs": [],
   "source": [
    "%load_ext autoreload\n",
    "%autoreload 2"
   ]
  },
  {
   "cell_type": "code",
   "execution_count": 5,
   "id": "61c1205d-5b2f-42f3-8dbe-f5453425ab36",
   "metadata": {
    "tags": []
   },
   "outputs": [],
   "source": [
    "from pathlib import Path\n",
    "from fastai.vision.all import *\n",
    "from fastai.data.all import *\n",
    "from tqdm import tqdm\n",
    "\n",
    "from spanda.data.transforms import (SpectraBlock, AnalytesBlock, SpectraTfm, DerivTfm,\n",
    "                                    AnalytesTfm, SNVTfm, RandWAvgTfm, NormalizeTfm, LogTfm)\n",
    "\n",
    "use_cuda = torch.cuda.is_available()\n",
    "device = torch.device('cuda:0' if use_cuda else 'cpu')\n",
    "\n",
    "analyte_name = 725"
   ]
  },
  {
   "cell_type": "code",
   "execution_count": 6,
   "id": "94c36e19-b821-4697-86a9-c4a2f03d8acf",
   "metadata": {},
   "outputs": [
    {
     "data": {
      "text/plain": [
       "(#46305) [Path('/root/kssl-mirs-v2/174608'),Path('/root/kssl-mirs-v2/174916'),Path('/root/kssl-mirs-v2/19897'),Path('/root/kssl-mirs-v2/68409'),Path('/root/kssl-mirs-v2/86746'),Path('/root/kssl-mirs-v2/172147'),Path('/root/kssl-mirs-v2/199430'),Path('/root/kssl-mirs-v2/180551'),Path('/root/kssl-mirs-v2/25251'),Path('/root/kssl-mirs-v2/176480')...]"
      ]
     },
     "execution_count": 6,
     "metadata": {},
     "output_type": "execute_result"
    }
   ],
   "source": [
    "# Only samples with spectra\n",
    "path = Path('/root/kssl-mirs-v2'); path.ls()"
   ]
  },
  {
   "cell_type": "code",
   "execution_count": 7,
   "id": "795a1352-268b-497c-a372-13ceca479f47",
   "metadata": {},
   "outputs": [
    {
     "name": "stderr",
     "output_type": "stream",
     "text": [
      "100%|██████████| 46305/46305 [00:01<00:00, 41168.86it/s]"
     ]
    },
    {
     "name": "stdout",
     "output_type": "stream",
     "text": [
      "n samples: 46251\n"
     ]
    },
    {
     "name": "stderr",
     "output_type": "stream",
     "text": [
      "\n"
     ]
    }
   ],
   "source": [
    "# keep only when spectra in folder\n",
    "paths = [p for p in tqdm(path.ls()) if len(p.ls()) > 1]; print(f'n samples: {len(paths)}')"
   ]
  },
  {
   "cell_type": "code",
   "execution_count": 8,
   "id": "004d2290-c913-47b0-a857-3e24381c77c6",
   "metadata": {},
   "outputs": [],
   "source": [
    "get_spectra = lambda o: L(f for f in o.ls() if not re.match('target', f.name))\n",
    "get_target = lambda o: [f for f in o.ls() if re.match('target', f.name)][0]"
   ]
  },
  {
   "cell_type": "code",
   "execution_count": 9,
   "id": "62b8766e",
   "metadata": {},
   "outputs": [
    {
     "name": "stdout",
     "output_type": "stream",
     "text": [
      "n samples: 44565\n"
     ]
    }
   ],
   "source": [
    "# Only strictly positive measurements\n",
    "paths = [p for p in paths if AnalytesTfm(analytes=[analyte_name])(get_target(p)) != 0] \n",
    "print(f'n samples: {len(paths)}')"
   ]
  },
  {
   "cell_type": "code",
   "execution_count": 10,
   "id": "724d78b0",
   "metadata": {},
   "outputs": [
    {
     "data": {
      "image/png": "[encoded data removed]",
      "text/plain": [
       "<Figure size 576x144 with 1 Axes>"
      ]
     },
     "metadata": {
      "needs_background": "light"
     },
     "output_type": "display_data"
    },
    {
     "data": {
      "image/png": "[encoded data removed]",
      "text/plain": [
       "<Figure size 576x144 with 1 Axes>"
      ]
     },
     "metadata": {
      "needs_background": "light"
     },
     "output_type": "display_data"
    },
    {
     "data": {
      "image/png": "[encoded data removed]",
      "text/plain": [
       "<Figure size 576x144 with 1 Axes>"
      ]
     },
     "metadata": {
      "needs_background": "light"
     },
     "output_type": "display_data"
    }
   ],
   "source": [
    "n_smp = None # None for all\n",
    "\n",
    "get_spectra = lambda o: L(f for f in o.ls() if not re.match('target', f.name))\n",
    "get_target = lambda o: [f for f in o.ls() if re.match('target', f.name)][0]\n",
    "\n",
    "dblock = DataBlock(blocks=(SpectraBlock, AnalytesBlock(analytes=[analyte_name])),\n",
    "                   get_x=get_spectra,\n",
    "                   get_y=get_target,\n",
    "                   splitter=RandomSplitter(),\n",
    "                   item_tfms=[RandWAvgTfm(), DerivTfm(), SNVTfm(),\n",
    "                              LogTfm()])\n",
    "\n",
    "dls = dblock.dataloaders(paths[:n_smp], bs=3)\n",
    "dls.show_batch()"
   ]
  },
  {
   "cell_type": "code",
   "execution_count": 11,
   "id": "138ae640",
   "metadata": {},
   "outputs": [],
   "source": [
    "# Create Learner\n",
    "model = xresnet18(ndim=1, c_in=1, ks=3, n_out=1).to(device)\n",
    "learn = Learner(dls, model, loss_func=MSELossFlat(), metrics=R2Score()).to_fp16()"
   ]
  },
  {
   "cell_type": "code",
   "execution_count": 12,
   "id": "63ed044d",
   "metadata": {},
   "outputs": [
    {
     "data": {
      "text/html": [
       "\n",
       "<style>\n",
       "    /* Turns off some styling */\n",
       "    progress {\n",
       "        /* gets rid of default border in Firefox and Opera. */\n",
       "        border: none;\n",
       "        /* Needs to be in here for Safari polyfill so background images work as expected. */\n",
       "        background-size: auto;\n",
       "    }\n",
       "    progress:not([value]), progress:not([value])::-webkit-progress-bar {\n",
       "        background: repeating-linear-gradient(45deg, #7e7e7e, #7e7e7e 10px, #5c5c5c 10px, #5c5c5c 20px);\n",
       "    }\n",
       "    .progress-bar-interrupted, .progress-bar-interrupted::-webkit-progress-bar {\n",
       "        background: #F44336;\n",
       "    }\n",
       "</style>\n"
      ],
      "text/plain": [
       "<IPython.core.display.HTML object>"
      ]
     },
     "metadata": {},
     "output_type": "display_data"
    },
    {
     "data": {
      "text/html": [],
      "text/plain": [
       "<IPython.core.display.HTML object>"
      ]
     },
     "metadata": {},
     "output_type": "display_data"
    },
    {
     "data": {
      "text/plain": [
       "SuggestedLRs(valley=0.009120108559727669)"
      ]
     },
     "execution_count": 12,
     "metadata": {},
     "output_type": "execute_result"
    },
    {
     "data": {
      "image/png": "[encoded data removed]",
      "text/plain": [
       "<Figure size 432x288 with 1 Axes>"
      ]
     },
     "metadata": {
      "needs_background": "light"
     },
     "output_type": "display_data"
    }
   ],
   "source": [
    "learn.lr_find()"
   ]
  },
  {
   "cell_type": "code",
   "execution_count": null,
   "id": "9489e231",
   "metadata": {},
   "outputs": [
    {
     "data": {
      "text/html": [
       "\n",
       "<style>\n",
       "    /* Turns off some styling */\n",
       "    progress {\n",
       "        /* gets rid of default border in Firefox and Opera. */\n",
       "        border: none;\n",
       "        /* Needs to be in here for Safari polyfill so background images work as expected. */\n",
       "        background-size: auto;\n",
       "    }\n",
       "    progress:not([value]), progress:not([value])::-webkit-progress-bar {\n",
       "        background: repeating-linear-gradient(45deg, #7e7e7e, #7e7e7e 10px, #5c5c5c 10px, #5c5c5c 20px);\n",
       "    }\n",
       "    .progress-bar-interrupted, .progress-bar-interrupted::-webkit-progress-bar {\n",
       "        background: #F44336;\n",
       "    }\n",
       "</style>\n"
      ],
      "text/plain": [
       "<IPython.core.display.HTML object>"
      ]
     },
     "metadata": {},
     "output_type": "display_data"
    },
    {
     "data": {
      "text/html": [
       "\n",
       "    <div>\n",
       "      <progress value='15' class='' max='20' style='width:300px; height:20px; vertical-align: middle;'></progress>\n",
       "      75.00% [15/20 1:17:56&lt;25:58]\n",
       "    </div>\n",
       "    \n",
       "<table border=\"1\" class=\"dataframe\">\n",
       "  <thead>\n",
       "    <tr style=\"text-align: left;\">\n",
       "      <th>epoch</th>\n",
       "      <th>train_loss</th>\n",
       "      <th>valid_loss</th>\n",
       "      <th>r2_score</th>\n",
       "      <th>time</th>\n",
       "    </tr>\n",
       "  </thead>\n",
       "  <tbody>\n",
       "    <tr>\n",
       "      <td>0</td>\n",
       "      <td>0.118147</td>\n",
       "      <td>0.096815</td>\n",
       "      <td>0.580741</td>\n",
       "      <td>05:02</td>\n",
       "    </tr>\n",
       "    <tr>\n",
       "      <td>1</td>\n",
       "      <td>0.099177</td>\n",
       "      <td>0.094504</td>\n",
       "      <td>0.590746</td>\n",
       "      <td>05:07</td>\n",
       "    </tr>\n",
       "    <tr>\n",
       "      <td>2</td>\n",
       "      <td>0.098364</td>\n",
       "      <td>0.096574</td>\n",
       "      <td>0.581782</td>\n",
       "      <td>05:04</td>\n",
       "    </tr>\n",
       "    <tr>\n",
       "      <td>3</td>\n",
       "      <td>0.085903</td>\n",
       "      <td>0.092338</td>\n",
       "      <td>0.600127</td>\n",
       "      <td>05:01</td>\n",
       "    </tr>\n",
       "    <tr>\n",
       "      <td>4</td>\n",
       "      <td>0.092930</td>\n",
       "      <td>0.100406</td>\n",
       "      <td>0.565187</td>\n",
       "      <td>05:03</td>\n",
       "    </tr>\n",
       "    <tr>\n",
       "      <td>5</td>\n",
       "      <td>0.089062</td>\n",
       "      <td>0.091285</td>\n",
       "      <td>0.604688</td>\n",
       "      <td>05:16</td>\n",
       "    </tr>\n",
       "    <tr>\n",
       "      <td>6</td>\n",
       "      <td>0.098136</td>\n",
       "      <td>0.085371</td>\n",
       "      <td>0.630299</td>\n",
       "      <td>05:23</td>\n",
       "    </tr>\n",
       "    <tr>\n",
       "      <td>7</td>\n",
       "      <td>0.082076</td>\n",
       "      <td>0.095704</td>\n",
       "      <td>0.585549</td>\n",
       "      <td>05:14</td>\n",
       "    </tr>\n",
       "    <tr>\n",
       "      <td>8</td>\n",
       "      <td>0.083284</td>\n",
       "      <td>0.114712</td>\n",
       "      <td>0.503238</td>\n",
       "      <td>05:07</td>\n",
       "    </tr>\n",
       "    <tr>\n",
       "      <td>9</td>\n",
       "      <td>0.085590</td>\n",
       "      <td>0.076164</td>\n",
       "      <td>0.670170</td>\n",
       "      <td>05:07</td>\n",
       "    </tr>\n",
       "    <tr>\n",
       "      <td>10</td>\n",
       "      <td>0.080099</td>\n",
       "      <td>0.080321</td>\n",
       "      <td>0.652168</td>\n",
       "      <td>05:18</td>\n",
       "    </tr>\n",
       "    <tr>\n",
       "      <td>11</td>\n",
       "      <td>0.058680</td>\n",
       "      <td>0.072580</td>\n",
       "      <td>0.685689</td>\n",
       "      <td>05:23</td>\n",
       "    </tr>\n",
       "    <tr>\n",
       "      <td>12</td>\n",
       "      <td>0.063097</td>\n",
       "      <td>0.072105</td>\n",
       "      <td>0.687747</td>\n",
       "      <td>05:13</td>\n",
       "    </tr>\n",
       "    <tr>\n",
       "      <td>13</td>\n",
       "      <td>0.072171</td>\n",
       "      <td>0.071394</td>\n",
       "      <td>0.690825</td>\n",
       "      <td>05:13</td>\n",
       "    </tr>\n",
       "    <tr>\n",
       "      <td>14</td>\n",
       "      <td>0.050970</td>\n",
       "      <td>0.072736</td>\n",
       "      <td>0.685016</td>\n",
       "      <td>05:16</td>\n",
       "    </tr>\n",
       "  </tbody>\n",
       "</table><p>\n",
       "\n",
       "    <div>\n",
       "      <progress value='514' class='' max='11884' style='width:300px; height:20px; vertical-align: middle;'></progress>\n",
       "      4.33% [514/11884 00:13&lt;04:49 0.0519]\n",
       "    </div>\n",
       "    "
      ],
      "text/plain": [
       "<IPython.core.display.HTML object>"
      ]
     },
     "metadata": {},
     "output_type": "display_data"
    }
   ],
   "source": [
    "learn.fit_one_cycle(20, 1e-2)"
   ]
  },
  {
   "cell_type": "code",
   "execution_count": null,
   "id": "1de7c15e",
   "metadata": {},
   "outputs": [],
   "source": [
    "learn.save('xresnet18-kex-mirs-sg-kssl-20-epochs-lr-1e3-r2-xxx-290323')"
   ]
  },
  {
   "cell_type": "code",
   "execution_count": null,
   "id": "926e2edb-b76c-4329-ae64-356b759b05a7",
   "metadata": {},
   "outputs": [],
   "source": []
  }
 ],
 "metadata": {
  "kernelspec": {
   "display_name": "Python 3 (ipykernel)",
   "language": "python",
   "name": "python3"
  },
  "language_info": {
   "codemirror_mode": {
    "name": "ipython",
    "version": 3
   },
   "file_extension": ".py",
   "mimetype": "text/x-python",
   "name": "python",
   "nbconvert_exporter": "python",
   "pygments_lexer": "ipython3",
   "version": "3.9.13"
  }
 },
 "nbformat": 4,
 "nbformat_minor": 5
}
