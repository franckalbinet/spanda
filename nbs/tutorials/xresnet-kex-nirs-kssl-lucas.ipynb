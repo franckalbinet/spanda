{
 "cells": [
  {
   "cell_type": "code",
   "execution_count": null,
   "id": "4e7084f9-a24e-4019-9a0a-f731a84362b6",
   "metadata": {},
   "outputs": [],
   "source": [
    "# TBD: create bash script\n",
    "# To download kssl dataset\n",
    "# pip install gdown install --upgrade --no-cache-dir gdown\n",
    "\n",
    "# cd /root\n",
    "# python\n",
    "# import gdown\n",
    "# Links: \n",
    "#   - VNIR LUCAS: \"1OnwGgDqvjnDYEik14h_lSi83M4AwzYBt\"\n",
    "#   - VNIR KSSL: \"17ZNSqsQi6PUeOLnUozq-C6Pj22dItm_Y\"\n",
    "# id = \"1qh8isMQIzhArsj3RNWJe6g0lx_cs7iBG\" # MIRS KSSL v1 or \"1SzQZqpbJuK3iCqjJYabuEobbgPXm3cHT\" for v2\n",
    "# gdown.download(id=id)\n",
    "# quit()\n",
    "# tar -xvf kssl.tar.gz\n",
    "\n",
    "# paperspace only\n",
    "#!pip install gdown \n",
    "#!pip install --upgrade gdown"
   ]
  },
  {
   "cell_type": "code",
   "execution_count": null,
   "id": "2a9e18d1-d7ea-4774-9682-90db2bdd5cc6",
   "metadata": {},
   "outputs": [],
   "source": [
    "#!pip install spanda"
   ]
  },
  {
   "cell_type": "code",
   "execution_count": null,
   "id": "e53d1d63",
   "metadata": {},
   "outputs": [],
   "source": [
    "%load_ext autoreload\n",
    "%autoreload 2"
   ]
  },
  {
   "cell_type": "code",
   "execution_count": null,
   "id": "3379fdcf",
   "metadata": {},
   "outputs": [],
   "source": [
    "from pathlib import Path\n",
    "from datetime import datetime\n",
    "\n",
    "\n",
    "from fastai.vision.all import *\n",
    "from fastai.data.all import *\n",
    "from tqdm import tqdm\n",
    "import timm\n",
    "from sklearn.metrics import r2_score\n",
    "\n",
    "from spanda.data.transforms import (SpectraBlock, AnalytesBlock, Analytes, SpectraTfm, \n",
    "                                    TrimTfm, AnalytesTfm, SNVTfm, RandWAvgTfm, AvgTfm, GADFTfm, \n",
    "                                    To3DTfm, ResizeTfm, LogTfm)\n",
    "\n",
    "use_cuda = torch.cuda.is_available()\n",
    "device = 'mps' if torch.backends.mps.is_available() else 'cuda' if torch.cuda.is_available() else 'cpu'\n",
    "\n",
    "\n",
    "import warnings\n",
    "warnings.filterwarnings('ignore')"
   ]
  },
  {
   "cell_type": "markdown",
   "id": "457e1161",
   "metadata": {},
   "source": [
    "## Utilities"
   ]
  },
  {
   "cell_type": "code",
   "execution_count": null,
   "id": "e7cc6587",
   "metadata": {},
   "outputs": [],
   "source": [
    "get_spectra = lambda o: L(f for f in o.ls() if not re.match('target', f.name))\n",
    "get_target = lambda o: [f for f in o.ls() if re.match('target', f.name)][0]"
   ]
  },
  {
   "cell_type": "code",
   "execution_count": null,
   "id": "7cdf12d4",
   "metadata": {},
   "outputs": [],
   "source": [
    "def get_paths(src_dir, analytes=['725']):     \n",
    "    path = Path(src_dir)\n",
    "    \n",
    "    # Only samples with spectra\n",
    "    paths = [p for p in tqdm(path.ls()) if len(p.ls()) > 1]\n",
    "    \n",
    "    # Only strictly positive measurements\n",
    "    paths = [p for p in tqdm(paths) if AnalytesTfm(analytes=analytes)(get_target(p)) > 0] \n",
    "    \n",
    "    return L(paths)"
   ]
  },
  {
   "cell_type": "code",
   "execution_count": null,
   "id": "dbc99334",
   "metadata": {},
   "outputs": [],
   "source": [
    "def get_dls(paths, analytes=['725'], seed=42):\n",
    "    get_spectra = lambda o: L(f for f in o.ls() if not re.match('target', f.name))\n",
    "    get_target = lambda o: [f for f in o.ls() if re.match('target', f.name)][0]\n",
    "\n",
    "    dblock = DataBlock(blocks=(SpectraBlock, AnalytesBlock(analytes=analytes)),\n",
    "                       get_x=get_spectra,\n",
    "                       get_y=get_target,\n",
    "                       splitter=RandomSplitter(valid_pct=0.2, seed=seed),\n",
    "                       item_tfms=[AvgTfm(), SNVTfm(),\n",
    "                                  LogTfm])\n",
    "    return dblock.dataloaders(paths_all, bs=32, num_workers=6)"
   ]
  },
  {
   "cell_type": "code",
   "execution_count": null,
   "id": "a6f153fb",
   "metadata": {},
   "outputs": [],
   "source": [
    "current_date = lambda: datetime.now().date().isoformat()"
   ]
  },
  {
   "cell_type": "markdown",
   "id": "3e1a1d5c",
   "metadata": {},
   "source": [
    "## Data loading"
   ]
  },
  {
   "cell_type": "code",
   "execution_count": null,
   "id": "08d04b6b",
   "metadata": {},
   "outputs": [],
   "source": [
    "analytes = ['725'] # Kex"
   ]
  },
  {
   "cell_type": "code",
   "execution_count": null,
   "id": "f0343a19",
   "metadata": {},
   "outputs": [
    {
     "name": "stderr",
     "output_type": "stream",
     "text": [
      "100%|███████████████████████████████████████████████████████| 21004/21004 [00:00<00:00, 22893.54it/s]\n",
      "100%|████████████████████████████████████████████████████████| 20949/20949 [00:15<00:00, 1331.37it/s]\n"
     ]
    }
   ],
   "source": [
    "paths_kssl = get_paths('../../_data/kssl-vnir', analytes=analytes)"
   ]
  },
  {
   "cell_type": "code",
   "execution_count": null,
   "id": "4f097536",
   "metadata": {},
   "outputs": [
    {
     "name": "stderr",
     "output_type": "stream",
     "text": [
      "100%|███████████████████████████████████████████████████████| 21782/21782 [00:01<00:00, 18393.22it/s]\n",
      "100%|████████████████████████████████████████████████████████| 21782/21782 [00:16<00:00, 1321.91it/s]\n"
     ]
    }
   ],
   "source": [
    "paths_lucas = get_paths('../../_data/lucas-vnir', analytes=analytes)"
   ]
  },
  {
   "cell_type": "code",
   "execution_count": null,
   "id": "92d2a13f",
   "metadata": {},
   "outputs": [
    {
     "data": {
      "text/plain": [
       "(#42728) [Path('../../_data/kssl-vnir/163161'),Path('../../_data/kssl-vnir/110493'),Path('../../_data/kssl-vnir/97322'),Path('../../_data/kssl-vnir/166413'),Path('../../_data/kssl-vnir/92650'),Path('../../_data/kssl-vnir/47957'),Path('../../_data/kssl-vnir/170576'),Path('../../_data/kssl-vnir/120206'),Path('../../_data/kssl-vnir/42419'),Path('../../_data/kssl-vnir/78584')...]"
      ]
     },
     "execution_count": null,
     "metadata": {},
     "output_type": "execute_result"
    }
   ],
   "source": [
    "paths_all = paths_kssl + paths_lucas; paths_all"
   ]
  },
  {
   "cell_type": "markdown",
   "id": "80292402",
   "metadata": {},
   "source": [
    "## Train & evaluate"
   ]
  },
  {
   "cell_type": "markdown",
   "id": "0b47d9c0",
   "metadata": {},
   "source": [
    "## Train KSSL | Eval on KSSL & LUCAS"
   ]
  },
  {
   "cell_type": "code",
   "execution_count": null,
   "id": "85dc16f2",
   "metadata": {},
   "outputs": [
    {
     "data": {
      "image/png": "[encoded data removed]",
      "text/plain": [
       "<Figure size 800x200 with 1 Axes>"
      ]
     },
     "metadata": {},
     "output_type": "display_data"
    },
    {
     "data": {
      "image/png": "[encoded data removed]",
      "text/plain": [
       "<Figure size 800x200 with 1 Axes>"
      ]
     },
     "metadata": {},
     "output_type": "display_data"
    }
   ],
   "source": [
    "dls = get_dls(paths_kssl)\n",
    "dls.show_batch(max_n=2)"
   ]
  },
  {
   "cell_type": "code",
   "execution_count": null,
   "id": "f87707c9-b474-48d7-8642-99f6cd89fa84",
   "metadata": {},
   "outputs": [],
   "source": [
    "# Create Learner\n",
    "model = xresnet18(ndim=1, c_in=1, ks=3, n_out=1).to(device)\n",
    "learn = Learner(dls, model, loss_func=MSELossFlat(), metrics=R2Score())"
   ]
  },
  {
   "cell_type": "code",
   "execution_count": null,
   "id": "46303a9b-b1f3-4085-bfeb-7194386121aa",
   "metadata": {},
   "outputs": [
    {
     "data": {
      "text/html": [
       "\n",
       "<style>\n",
       "    /* Turns off some styling */\n",
       "    progress {\n",
       "        /* gets rid of default border in Firefox and Opera. */\n",
       "        border: none;\n",
       "        /* Needs to be in here for Safari polyfill so background images work as expected. */\n",
       "        background-size: auto;\n",
       "    }\n",
       "    progress:not([value]), progress:not([value])::-webkit-progress-bar {\n",
       "        background: repeating-linear-gradient(45deg, #7e7e7e, #7e7e7e 10px, #5c5c5c 10px, #5c5c5c 20px);\n",
       "    }\n",
       "    .progress-bar-interrupted, .progress-bar-interrupted::-webkit-progress-bar {\n",
       "        background: #F44336;\n",
       "    }\n",
       "</style>\n"
      ],
      "text/plain": [
       "<IPython.core.display.HTML object>"
      ]
     },
     "metadata": {},
     "output_type": "display_data"
    },
    {
     "data": {
      "text/html": [],
      "text/plain": [
       "<IPython.core.display.HTML object>"
      ]
     },
     "metadata": {},
     "output_type": "display_data"
    },
    {
     "data": {
      "text/plain": [
       "SuggestedLRs(valley=0.0004786300996784121)"
      ]
     },
     "execution_count": null,
     "metadata": {},
     "output_type": "execute_result"
    },
    {
     "data": {
      "image/png": "[encoded data removed]",
      "text/plain": [
       "<Figure size 640x480 with 1 Axes>"
      ]
     },
     "metadata": {},
     "output_type": "display_data"
    }
   ],
   "source": [
    "learn.lr_find()"
   ]
  },
  {
   "cell_type": "code",
   "execution_count": null,
   "id": "038c82a4",
   "metadata": {},
   "outputs": [],
   "source": [
    "# params\n",
    "lr = 1e-3\n",
    "epochs = 20"
   ]
  },
  {
   "cell_type": "code",
   "execution_count": null,
   "id": "ce3e8498-900a-4ad9-b30a-867f63ca369d",
   "metadata": {},
   "outputs": [
    {
     "data": {
      "text/html": [
       "\n",
       "<style>\n",
       "    /* Turns off some styling */\n",
       "    progress {\n",
       "        /* gets rid of default border in Firefox and Opera. */\n",
       "        border: none;\n",
       "        /* Needs to be in here for Safari polyfill so background images work as expected. */\n",
       "        background-size: auto;\n",
       "    }\n",
       "    progress:not([value]), progress:not([value])::-webkit-progress-bar {\n",
       "        background: repeating-linear-gradient(45deg, #7e7e7e, #7e7e7e 10px, #5c5c5c 10px, #5c5c5c 20px);\n",
       "    }\n",
       "    .progress-bar-interrupted, .progress-bar-interrupted::-webkit-progress-bar {\n",
       "        background: #F44336;\n",
       "    }\n",
       "</style>\n"
      ],
      "text/plain": [
       "<IPython.core.display.HTML object>"
      ]
     },
     "metadata": {},
     "output_type": "display_data"
    },
    {
     "data": {
      "text/html": [
       "<table border=\"1\" class=\"dataframe\">\n",
       "  <thead>\n",
       "    <tr style=\"text-align: left;\">\n",
       "      <th>epoch</th>\n",
       "      <th>train_loss</th>\n",
       "      <th>valid_loss</th>\n",
       "      <th>r2_score</th>\n",
       "      <th>time</th>\n",
       "    </tr>\n",
       "  </thead>\n",
       "  <tbody>\n",
       "    <tr>\n",
       "      <td>0</td>\n",
       "      <td>0.205711</td>\n",
       "      <td>0.193709</td>\n",
       "      <td>0.185840</td>\n",
       "      <td>00:26</td>\n",
       "    </tr>\n",
       "    <tr>\n",
       "      <td>1</td>\n",
       "      <td>0.192982</td>\n",
       "      <td>0.203334</td>\n",
       "      <td>0.145384</td>\n",
       "      <td>00:27</td>\n",
       "    </tr>\n",
       "    <tr>\n",
       "      <td>2</td>\n",
       "      <td>0.181197</td>\n",
       "      <td>0.181589</td>\n",
       "      <td>0.236780</td>\n",
       "      <td>00:26</td>\n",
       "    </tr>\n",
       "    <tr>\n",
       "      <td>3</td>\n",
       "      <td>0.183489</td>\n",
       "      <td>0.173340</td>\n",
       "      <td>0.271450</td>\n",
       "      <td>00:26</td>\n",
       "    </tr>\n",
       "    <tr>\n",
       "      <td>4</td>\n",
       "      <td>0.184950</td>\n",
       "      <td>0.184100</td>\n",
       "      <td>0.226225</td>\n",
       "      <td>00:27</td>\n",
       "    </tr>\n",
       "    <tr>\n",
       "      <td>5</td>\n",
       "      <td>0.180844</td>\n",
       "      <td>0.225505</td>\n",
       "      <td>0.052202</td>\n",
       "      <td>00:27</td>\n",
       "    </tr>\n",
       "    <tr>\n",
       "      <td>6</td>\n",
       "      <td>0.172236</td>\n",
       "      <td>0.194325</td>\n",
       "      <td>0.183251</td>\n",
       "      <td>00:27</td>\n",
       "    </tr>\n",
       "    <tr>\n",
       "      <td>7</td>\n",
       "      <td>0.159003</td>\n",
       "      <td>0.638735</td>\n",
       "      <td>-1.684610</td>\n",
       "      <td>00:27</td>\n",
       "    </tr>\n",
       "    <tr>\n",
       "      <td>8</td>\n",
       "      <td>0.163752</td>\n",
       "      <td>0.162530</td>\n",
       "      <td>0.316885</td>\n",
       "      <td>00:27</td>\n",
       "    </tr>\n",
       "    <tr>\n",
       "      <td>9</td>\n",
       "      <td>0.149106</td>\n",
       "      <td>0.161757</td>\n",
       "      <td>0.320136</td>\n",
       "      <td>00:27</td>\n",
       "    </tr>\n",
       "    <tr>\n",
       "      <td>10</td>\n",
       "      <td>0.141117</td>\n",
       "      <td>0.158826</td>\n",
       "      <td>0.332454</td>\n",
       "      <td>00:27</td>\n",
       "    </tr>\n",
       "    <tr>\n",
       "      <td>11</td>\n",
       "      <td>0.129108</td>\n",
       "      <td>0.162843</td>\n",
       "      <td>0.315569</td>\n",
       "      <td>00:27</td>\n",
       "    </tr>\n",
       "    <tr>\n",
       "      <td>12</td>\n",
       "      <td>0.126648</td>\n",
       "      <td>0.139726</td>\n",
       "      <td>0.412730</td>\n",
       "      <td>00:26</td>\n",
       "    </tr>\n",
       "    <tr>\n",
       "      <td>13</td>\n",
       "      <td>0.110525</td>\n",
       "      <td>0.162249</td>\n",
       "      <td>0.318068</td>\n",
       "      <td>00:27</td>\n",
       "    </tr>\n",
       "    <tr>\n",
       "      <td>14</td>\n",
       "      <td>0.110917</td>\n",
       "      <td>0.118156</td>\n",
       "      <td>0.503390</td>\n",
       "      <td>00:25</td>\n",
       "    </tr>\n",
       "    <tr>\n",
       "      <td>15</td>\n",
       "      <td>0.103201</td>\n",
       "      <td>0.106001</td>\n",
       "      <td>0.554476</td>\n",
       "      <td>00:27</td>\n",
       "    </tr>\n",
       "    <tr>\n",
       "      <td>16</td>\n",
       "      <td>0.103902</td>\n",
       "      <td>0.123379</td>\n",
       "      <td>0.481438</td>\n",
       "      <td>00:27</td>\n",
       "    </tr>\n",
       "    <tr>\n",
       "      <td>17</td>\n",
       "      <td>0.088400</td>\n",
       "      <td>0.098047</td>\n",
       "      <td>0.587906</td>\n",
       "      <td>00:26</td>\n",
       "    </tr>\n",
       "    <tr>\n",
       "      <td>18</td>\n",
       "      <td>0.090935</td>\n",
       "      <td>0.139668</td>\n",
       "      <td>0.412975</td>\n",
       "      <td>00:26</td>\n",
       "    </tr>\n",
       "    <tr>\n",
       "      <td>19</td>\n",
       "      <td>0.082234</td>\n",
       "      <td>0.096083</td>\n",
       "      <td>0.596163</td>\n",
       "      <td>00:26</td>\n",
       "    </tr>\n",
       "    <tr>\n",
       "      <td>20</td>\n",
       "      <td>0.082564</td>\n",
       "      <td>0.092514</td>\n",
       "      <td>0.611161</td>\n",
       "      <td>00:27</td>\n",
       "    </tr>\n",
       "    <tr>\n",
       "      <td>21</td>\n",
       "      <td>0.078787</td>\n",
       "      <td>0.086947</td>\n",
       "      <td>0.634561</td>\n",
       "      <td>00:27</td>\n",
       "    </tr>\n",
       "    <tr>\n",
       "      <td>22</td>\n",
       "      <td>0.071797</td>\n",
       "      <td>0.097427</td>\n",
       "      <td>0.590512</td>\n",
       "      <td>00:27</td>\n",
       "    </tr>\n",
       "    <tr>\n",
       "      <td>23</td>\n",
       "      <td>0.072611</td>\n",
       "      <td>0.094161</td>\n",
       "      <td>0.604241</td>\n",
       "      <td>00:26</td>\n",
       "    </tr>\n",
       "    <tr>\n",
       "      <td>24</td>\n",
       "      <td>0.066711</td>\n",
       "      <td>0.080420</td>\n",
       "      <td>0.661993</td>\n",
       "      <td>00:26</td>\n",
       "    </tr>\n",
       "    <tr>\n",
       "      <td>25</td>\n",
       "      <td>0.070102</td>\n",
       "      <td>0.098213</td>\n",
       "      <td>0.587209</td>\n",
       "      <td>00:26</td>\n",
       "    </tr>\n",
       "    <tr>\n",
       "      <td>26</td>\n",
       "      <td>0.063770</td>\n",
       "      <td>0.077520</td>\n",
       "      <td>0.674183</td>\n",
       "      <td>00:26</td>\n",
       "    </tr>\n",
       "    <tr>\n",
       "      <td>27</td>\n",
       "      <td>0.057246</td>\n",
       "      <td>0.087931</td>\n",
       "      <td>0.630424</td>\n",
       "      <td>00:26</td>\n",
       "    </tr>\n",
       "    <tr>\n",
       "      <td>28</td>\n",
       "      <td>0.054698</td>\n",
       "      <td>0.074277</td>\n",
       "      <td>0.687813</td>\n",
       "      <td>00:26</td>\n",
       "    </tr>\n",
       "    <tr>\n",
       "      <td>29</td>\n",
       "      <td>0.051483</td>\n",
       "      <td>0.071616</td>\n",
       "      <td>0.698996</td>\n",
       "      <td>00:27</td>\n",
       "    </tr>\n",
       "    <tr>\n",
       "      <td>30</td>\n",
       "      <td>0.050108</td>\n",
       "      <td>0.072491</td>\n",
       "      <td>0.695321</td>\n",
       "      <td>00:27</td>\n",
       "    </tr>\n",
       "    <tr>\n",
       "      <td>31</td>\n",
       "      <td>0.045434</td>\n",
       "      <td>0.068570</td>\n",
       "      <td>0.711800</td>\n",
       "      <td>00:26</td>\n",
       "    </tr>\n",
       "    <tr>\n",
       "      <td>32</td>\n",
       "      <td>0.042217</td>\n",
       "      <td>0.070007</td>\n",
       "      <td>0.705759</td>\n",
       "      <td>00:25</td>\n",
       "    </tr>\n",
       "    <tr>\n",
       "      <td>33</td>\n",
       "      <td>0.041707</td>\n",
       "      <td>0.069991</td>\n",
       "      <td>0.705826</td>\n",
       "      <td>00:26</td>\n",
       "    </tr>\n",
       "    <tr>\n",
       "      <td>34</td>\n",
       "      <td>0.038559</td>\n",
       "      <td>0.067933</td>\n",
       "      <td>0.714478</td>\n",
       "      <td>00:26</td>\n",
       "    </tr>\n",
       "    <tr>\n",
       "      <td>35</td>\n",
       "      <td>0.038968</td>\n",
       "      <td>0.068025</td>\n",
       "      <td>0.714090</td>\n",
       "      <td>00:26</td>\n",
       "    </tr>\n",
       "    <tr>\n",
       "      <td>36</td>\n",
       "      <td>0.037402</td>\n",
       "      <td>0.067887</td>\n",
       "      <td>0.714670</td>\n",
       "      <td>00:27</td>\n",
       "    </tr>\n",
       "    <tr>\n",
       "      <td>37</td>\n",
       "      <td>0.036582</td>\n",
       "      <td>0.068048</td>\n",
       "      <td>0.713993</td>\n",
       "      <td>00:27</td>\n",
       "    </tr>\n",
       "    <tr>\n",
       "      <td>38</td>\n",
       "      <td>0.035560</td>\n",
       "      <td>0.068473</td>\n",
       "      <td>0.712208</td>\n",
       "      <td>00:26</td>\n",
       "    </tr>\n",
       "    <tr>\n",
       "      <td>39</td>\n",
       "      <td>0.033886</td>\n",
       "      <td>0.067876</td>\n",
       "      <td>0.714716</td>\n",
       "      <td>00:27</td>\n",
       "    </tr>\n",
       "  </tbody>\n",
       "</table>"
      ],
      "text/plain": [
       "<IPython.core.display.HTML object>"
      ]
     },
     "metadata": {},
     "output_type": "display_data"
    }
   ],
   "source": [
    "# to do\n",
    "# fit\n",
    "# save model\n",
    "# evaluate load model\n",
    "# save metrics\n",
    "learn.fit_one_cycle(40, 5e-4)"
   ]
  },
  {
   "cell_type": "code",
   "execution_count": null,
   "id": "7745e35c",
   "metadata": {},
   "outputs": [
    {
     "data": {
      "text/plain": [
       "'xresnet18-kex-nirs-kssl-20-epochs-lr-1.0e-03-r2-0.x-2023-06-12'"
      ]
     },
     "execution_count": null,
     "metadata": {},
     "output_type": "execute_result"
    }
   ],
   "source": [
    "model_name = f'xresnet18-kex-nirs-kssl-{epochs}-epochs-lr-{lr:.1e}-r2-0.x-{get_date()}'; model_name"
   ]
  },
  {
   "cell_type": "code",
   "execution_count": null,
   "id": "368adaa2-c019-4391-942b-29109de90979",
   "metadata": {},
   "outputs": [
    {
     "data": {
      "text/plain": [
       "Path('models/xresnet18-kex-nirs-kssl-40-epochs-lr-1e3-r2-0.724-070623.pth')"
      ]
     },
     "execution_count": null,
     "metadata": {},
     "output_type": "execute_result"
    }
   ],
   "source": [
    "learn.save('xresnet18-kex-nirs-kssl-40-epochs-lr-5e4-r2-0.x-070623')"
   ]
  },
  {
   "cell_type": "code",
   "execution_count": null,
   "id": "2a48347d-efbd-4d63-a7a4-fbd9faac9bcc",
   "metadata": {},
   "outputs": [
    {
     "data": {
      "text/plain": [
       "<All keys matched successfully>"
      ]
     },
     "execution_count": null,
     "metadata": {},
     "output_type": "execute_result"
    }
   ],
   "source": [
    "# Pre-trained model (KSSL)\n",
    "model = xresnet18(ndim=1, c_in=1, ks=3, n_out=1).to(device)\n",
    "learn = Learner(dls, model, loss_func=MSELossFlat(), metrics=R2Score())\n",
    "\n",
    "weights_paths = '../../_data/models/xresnet18-kex-nirs-kssl-40-epochs-lr-1e3-r2-0.724-070623.pth'\n",
    "xresnet_dict = torch.load(weights_paths, map_location=torch.device('cpu')) \n",
    "model.load_state_dict(xresnet_dict['model'])"
   ]
  },
  {
   "cell_type": "code",
   "execution_count": null,
   "id": "fcb8e773",
   "metadata": {},
   "outputs": [],
   "source": [
    "dls_kssl = get_dls(paths_kssl)\n",
    "dls_lucas = get_dls(paths_lucas)"
   ]
  },
  {
   "cell_type": "code",
   "execution_count": null,
   "id": "6b464d2a",
   "metadata": {},
   "outputs": [
    {
     "data": {
      "text/html": [
       "\n",
       "<style>\n",
       "    /* Turns off some styling */\n",
       "    progress {\n",
       "        /* gets rid of default border in Firefox and Opera. */\n",
       "        border: none;\n",
       "        /* Needs to be in here for Safari polyfill so background images work as expected. */\n",
       "        background-size: auto;\n",
       "    }\n",
       "    progress:not([value]), progress:not([value])::-webkit-progress-bar {\n",
       "        background: repeating-linear-gradient(45deg, #7e7e7e, #7e7e7e 10px, #5c5c5c 10px, #5c5c5c 20px);\n",
       "    }\n",
       "    .progress-bar-interrupted, .progress-bar-interrupted::-webkit-progress-bar {\n",
       "        background: #F44336;\n",
       "    }\n",
       "</style>\n"
      ],
      "text/plain": [
       "<IPython.core.display.HTML object>"
      ]
     },
     "metadata": {},
     "output_type": "display_data"
    },
    {
     "data": {
      "text/html": [],
      "text/plain": [
       "<IPython.core.display.HTML object>"
      ]
     },
     "metadata": {},
     "output_type": "display_data"
    },
    {
     "data": {
      "text/html": [
       "\n",
       "<style>\n",
       "    /* Turns off some styling */\n",
       "    progress {\n",
       "        /* gets rid of default border in Firefox and Opera. */\n",
       "        border: none;\n",
       "        /* Needs to be in here for Safari polyfill so background images work as expected. */\n",
       "        background-size: auto;\n",
       "    }\n",
       "    progress:not([value]), progress:not([value])::-webkit-progress-bar {\n",
       "        background: repeating-linear-gradient(45deg, #7e7e7e, #7e7e7e 10px, #5c5c5c 10px, #5c5c5c 20px);\n",
       "    }\n",
       "    .progress-bar-interrupted, .progress-bar-interrupted::-webkit-progress-bar {\n",
       "        background: #F44336;\n",
       "    }\n",
       "</style>\n"
      ],
      "text/plain": [
       "<IPython.core.display.HTML object>"
      ]
     },
     "metadata": {},
     "output_type": "display_data"
    },
    {
     "data": {
      "text/html": [],
      "text/plain": [
       "<IPython.core.display.HTML object>"
      ]
     },
     "metadata": {},
     "output_type": "display_data"
    }
   ],
   "source": [
    "preds_kssl, targs_kssl = learn.get_preds(dl=dls_kssl.valid)\n",
    "preds_lucas, targs_lucas = learn.get_preds(dl=dls_lucas.valid)"
   ]
  },
  {
   "cell_type": "code",
   "execution_count": null,
   "id": "2aa4cd24",
   "metadata": {},
   "outputs": [
    {
     "data": {
      "text/plain": [
       "torch.Size([8545, 1])"
      ]
     },
     "execution_count": null,
     "metadata": {},
     "output_type": "execute_result"
    }
   ],
   "source": [
    "preds_kssl.shape"
   ]
  },
  {
   "cell_type": "code",
   "execution_count": null,
   "id": "f1b315ef",
   "metadata": {},
   "outputs": [],
   "source": [
    "from sklearn.metrics import (r2_score, mean_squared_error, mean_absolute_error)"
   ]
  },
  {
   "cell_type": "code",
   "execution_count": null,
   "id": "f63ee4a3",
   "metadata": {},
   "outputs": [
    {
     "data": {
      "text/plain": [
       "tensor([-0.5202, -0.2356, -1.6265,  ..., -0.4708,  0.0519, -0.9509])"
      ]
     },
     "execution_count": null,
     "metadata": {},
     "output_type": "execute_result"
    }
   ],
   "source": [
    "targs_kssl.squeeze()"
   ]
  },
  {
   "cell_type": "code",
   "execution_count": null,
   "id": "75eb5c06",
   "metadata": {},
   "outputs": [
    {
     "data": {
      "text/plain": [
       "0.46322491551140144"
      ]
     },
     "execution_count": null,
     "metadata": {},
     "output_type": "execute_result"
    }
   ],
   "source": [
    "r2_score(targs_kssl, preds_kssl)"
   ]
  },
  {
   "cell_type": "code",
   "execution_count": null,
   "id": "04dc8c1e",
   "metadata": {},
   "outputs": [
    {
     "data": {
      "text/plain": [
       "0.46322491551140144"
      ]
     },
     "execution_count": null,
     "metadata": {},
     "output_type": "execute_result"
    }
   ],
   "source": [
    "r2_score(targs_lucas, preds_lucas)"
   ]
  },
  {
   "cell_type": "code",
   "execution_count": null,
   "id": "653c7ff8",
   "metadata": {},
   "outputs": [],
   "source": []
  }
 ],
 "metadata": {
  "kernelspec": {
   "display_name": "Python 3 (ipykernel)",
   "language": "python",
   "name": "python3"
  }
 },
 "nbformat": 4,
 "nbformat_minor": 5
}
