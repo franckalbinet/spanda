{
 "cells": [
  {
   "cell_type": "markdown",
   "id": "b28a738a",
   "metadata": {},
   "source": [
    "# Fukushima"
   ]
  },
  {
   "cell_type": "code",
   "execution_count": null,
   "id": "f78875da",
   "metadata": {},
   "outputs": [],
   "source": [
    "#| hide\n",
    "%load_ext autoreload\n",
    "%autoreload 2"
   ]
  },
  {
   "cell_type": "code",
   "execution_count": null,
   "id": "2e528bfd",
   "metadata": {},
   "outputs": [],
   "source": [
    "#| hide\n",
    "from nbdev.showdoc import *\n",
    "from nbdev.cli import *"
   ]
  },
  {
   "cell_type": "code",
   "execution_count": null,
   "id": "ff932a4d",
   "metadata": {},
   "outputs": [],
   "source": [
    "#from spanda.data.transforms.kssl import (get_spectra_files, to_spectra, \n",
    "#                                         rand_w_avg, avg, snv, AnalytesTfm)\n",
    "\n",
    "\n",
    "from spanda.data.transforms import (SpectraBlock, AnalytesBlock, SpectraTfm, Analytes, Spectra,\n",
    "                                    DerivTfm, AnalytesTfm, SNVTfm, RandWAvgTfm, AvgTfm, TrimTfm,\n",
    "                                    NormalizeTfm, LogTfm)\n",
    "\n",
    "\n",
    "from pathlib import Path\n",
    "from fastai.vision.all import *\n",
    "from fastai.callback.hook import *\n",
    "from fastai.data.all import *\n",
    "from fastcore.parallel import parallel\n",
    "from tqdm import tqdm\n",
    "\n",
    "from mirzai.data.transform import TakeDerivative, SNV, DropSpectralRegions\n",
    "from mirzai.vis.core import plot_spectra\n",
    "from sklearn.model_selection import train_test_split\n",
    "from sklearn.pipeline import Pipeline\n",
    "import kennard_stone as ks\n",
    "from sklearn.cross_decomposition import PLSRegression\n",
    "from sklearn.metrics import r2_score\n",
    "from scipy.stats import skew\n",
    "\n",
    "use_cuda = torch.cuda.is_available()\n",
    "device = torch.device('cuda:0' if use_cuda else 'cpu')\n",
    "\n",
    "pd.options.display.max_rows = 20\n",
    "pd.options.display.max_columns = 8"
   ]
  },
  {
   "cell_type": "code",
   "execution_count": null,
   "id": "31c0b1b8",
   "metadata": {},
   "outputs": [],
   "source": [
    "# file getters\n",
    "get_spectra = lambda o: L(f for f in o.ls() if not re.match('target', f.name))\n",
    "get_target = lambda o: [f for f in o.ls() if re.match('target', f.name)][0]"
   ]
  },
  {
   "cell_type": "markdown",
   "id": "41e29a13",
   "metadata": {},
   "source": [
    "## PLSR"
   ]
  },
  {
   "cell_type": "markdown",
   "id": "daa86a32",
   "metadata": {},
   "source": [
    "### Data preparation"
   ]
  },
  {
   "cell_type": "code",
   "execution_count": null,
   "id": "66ea1da6",
   "metadata": {},
   "outputs": [],
   "source": [
    "#analyte = 'kd_cs133'\n",
    "#analyte = 'c'\n",
    "#analyte = 'ex_cs_total_cs_ratio'\n",
    "#analyte = 'ph'\n",
    "#analyte = 'cs137_total'\n",
    "analytes = ['kd_cs133', 'ex_cs_total_cs_ratio', 'cs137', 'cs137_total', \n",
    "            'ex_cs137', 'ex_k2o', 'ph', 'c', 'n', 'c_n_ratio', 'ex_mgo',\n",
    "            'ex_cao', 'cec']\n",
    "#analyte = 'cec'\n",
    "path = Path('../../_data/seibersdorf-mirs')\n",
    "X_names = np.arange(4000, 600, -2)"
   ]
  },
  {
   "cell_type": "code",
   "execution_count": null,
   "id": "5ec0e53b",
   "metadata": {},
   "outputs": [
    {
     "data": {
      "text/plain": [
       "False"
      ]
     },
     "execution_count": null,
     "metadata": {},
     "output_type": "execute_result"
    }
   ],
   "source": [
    "torch.cuda.is_available()"
   ]
  },
  {
   "cell_type": "code",
   "execution_count": null,
   "id": "7a19fbad",
   "metadata": {},
   "outputs": [
    {
     "data": {
      "text/plain": [
       "(#176) [Path('../../_data/seibersdorf-mirs/135'),Path('../../_data/seibersdorf-mirs/95'),Path('../../_data/seibersdorf-mirs/66'),Path('../../_data/seibersdorf-mirs/104'),Path('../../_data/seibersdorf-mirs/68'),Path('../../_data/seibersdorf-mirs/103'),Path('../../_data/seibersdorf-mirs/168'),Path('../../_data/seibersdorf-mirs/157'),Path('../../_data/seibersdorf-mirs/150'),Path('../../_data/seibersdorf-mirs/159')...]"
      ]
     },
     "execution_count": null,
     "metadata": {},
     "output_type": "execute_result"
    }
   ],
   "source": [
    "path.ls()"
   ]
  },
  {
   "cell_type": "code",
   "execution_count": null,
   "id": "2132c573",
   "metadata": {},
   "outputs": [
    {
     "data": {
      "text/plain": [
       "176"
      ]
     },
     "execution_count": null,
     "metadata": {},
     "output_type": "execute_result"
    }
   ],
   "source": [
    "len([get_spectra(p) for p in path.ls()])"
   ]
  },
  {
   "cell_type": "code",
   "execution_count": null,
   "id": "167d58e4",
   "metadata": {},
   "outputs": [],
   "source": [
    "#def is_valid(path, analytes=analytes):\n",
    "#    is_analyte_pos = AnalytesTfm(analytes)(path).item() > 0\n",
    "#    has_spectra = len(get_spectra_files(path)) > 0\n",
    "#    return is_analyte_pos and has_spectra"
   ]
  },
  {
   "cell_type": "code",
   "execution_count": null,
   "id": "ba6c9b17",
   "metadata": {},
   "outputs": [],
   "source": [
    "#%%time \n",
    "#paths_mask = parallel(is_valid, path.ls(), progress=True)"
   ]
  },
  {
   "cell_type": "code",
   "execution_count": null,
   "id": "d7c9586d",
   "metadata": {},
   "outputs": [
    {
     "data": {
      "text/plain": [
       "(#4) [Path('../../_data/seibersdorf-mirs/135/135d.csv'),Path('../../_data/seibersdorf-mirs/135/135a.csv'),Path('../../_data/seibersdorf-mirs/135/135b.csv'),Path('../../_data/seibersdorf-mirs/135/135c.csv')]"
      ]
     },
     "execution_count": null,
     "metadata": {},
     "output_type": "execute_result"
    }
   ],
   "source": [
    "#get_spectra_files(path.ls()[0])"
   ]
  },
  {
   "cell_type": "code",
   "execution_count": null,
   "id": "977d63ef",
   "metadata": {},
   "outputs": [],
   "source": [
    "#to_spectra(get_spectra_files(path.ls()[0])).show(wn=X_names)"
   ]
  },
  {
   "cell_type": "markdown",
   "id": "f36ef224",
   "metadata": {},
   "source": [
    "#### Generate tabular dataset"
   ]
  },
  {
   "cell_type": "code",
   "execution_count": null,
   "id": "c89cfa8f",
   "metadata": {},
   "outputs": [],
   "source": [
    "n_smp = None # None for all\n",
    "dblock = DataBlock(blocks=(SpectraBlock, AnalytesBlock(analytes=analytes)),\n",
    "                   get_x=get_spectra,\n",
    "                   get_y=get_target,\n",
    "                   #splitter=RandomSplitter(),\n",
    "                   #splitter=IndexSplitter(val_idx),\n",
    "                   item_tfms=[AvgTfm(), TrimTfm(), SNVTfm()])\n",
    "\n",
    "dls = dblock.dataloaders(path.ls()[:n_smp], bs=256, drop_last=False)"
   ]
  },
  {
   "cell_type": "code",
   "execution_count": null,
   "id": "76490b17",
   "metadata": {},
   "outputs": [
    {
     "data": {
      "text/plain": [
       "torch.Size([141, 1, 1700])"
      ]
     },
     "execution_count": null,
     "metadata": {},
     "output_type": "execute_result"
    }
   ],
   "source": [
    "dls.train.one_batch()[0].shape"
   ]
  },
  {
   "cell_type": "code",
   "execution_count": null,
   "id": "29ddf91c",
   "metadata": {},
   "outputs": [
    {
     "data": {
      "text/plain": [
       "torch.Size([35, 1, 1700])"
      ]
     },
     "execution_count": null,
     "metadata": {},
     "output_type": "execute_result"
    }
   ],
   "source": [
    "dls.valid.one_batch()[0].shape"
   ]
  },
  {
   "cell_type": "code",
   "execution_count": null,
   "id": "52f49efb",
   "metadata": {},
   "outputs": [],
   "source": [
    "#x_tfms = [get_spectra_files, to_spectra, avg, snv]\n",
    "#y_tfms = [AnalytesTfm(analytes=analytes)]"
   ]
  },
  {
   "cell_type": "code",
   "execution_count": null,
   "id": "88499b91",
   "metadata": {},
   "outputs": [],
   "source": [
    "#dsets = Datasets(path.ls(), [x_tfms, y_tfms])\n",
    "#dls = dsets.dataloaders(bs=32, drop_last=False)\n",
    "#dls.train.one_batch()[0].shape"
   ]
  },
  {
   "cell_type": "code",
   "execution_count": null,
   "id": "e4ea634b",
   "metadata": {},
   "outputs": [],
   "source": [
    "def asTabular(dls, n=1):\n",
    "    xs, ys = [], []\n",
    "    for i in range(n):\n",
    "        for x, y in tqdm(dls):\n",
    "            xs.append(x)\n",
    "            ys.append(y)\n",
    "    return (torch.cat(ds).squeeze().numpy() for ds in (xs, ys))"
   ]
  },
  {
   "cell_type": "code",
   "execution_count": null,
   "id": "27fa0aa5",
   "metadata": {},
   "outputs": [
    {
     "name": "stderr",
     "output_type": "stream",
     "text": [
      "100%|██████████████████████████████████████████████████████████████████| 5/5 [00:00<00:00,  7.72it/s]\n"
     ]
    }
   ],
   "source": [
    "(X, y) = asTabular(dls.train)"
   ]
  },
  {
   "cell_type": "code",
   "execution_count": null,
   "id": "7421d560",
   "metadata": {},
   "outputs": [
    {
     "data": {
      "text/plain": [
       "array([[2.4402809e+01, 1.6857143e-01, 2.4376132e+00, ..., 2.2500000e+01,\n",
       "        1.6700000e+02, 1.6299999e+01],\n",
       "       [5.2116890e+00, 1.4920948e-01, 9.3576604e-01, ..., 3.0299999e+01,\n",
       "        1.4400000e+02, 1.4500000e+01],\n",
       "       [1.5421143e+00, 2.4053030e-02, 3.5636824e-01, ..., 3.1299999e+01,\n",
       "        2.4100000e+02, 1.5000000e+01],\n",
       "       ...,\n",
       "       [8.4760571e+00, 2.9322870e-02, 4.0614414e+00, ..., 3.0299999e+01,\n",
       "        1.6500000e+02, 1.4000000e+01],\n",
       "       [1.6616539e+01, 2.4143646e-02, 1.4131598e+00, ..., 8.6599998e+01,\n",
       "        3.3100000e+02, 2.4000000e+01],\n",
       "       [5.9861565e+00, 9.8314606e-02, 1.1581967e+00, ..., 1.6900000e+01,\n",
       "        1.5000000e+02, 2.0200001e+01]], dtype=float32)"
      ]
     },
     "execution_count": null,
     "metadata": {},
     "output_type": "execute_result"
    }
   ],
   "source": [
    "y"
   ]
  },
  {
   "cell_type": "code",
   "execution_count": null,
   "id": "f1900755",
   "metadata": {},
   "outputs": [],
   "source": [
    "fname = Path('../../_data/seibersdorf-mirs-tabular/data.pkl')\n",
    "save_pickle(fname, (X, y))"
   ]
  },
  {
   "cell_type": "markdown",
   "id": "64e0e03f",
   "metadata": {},
   "source": [
    "#### Generate augmented tabular dataset"
   ]
  },
  {
   "cell_type": "code",
   "execution_count": null,
   "id": "12a0df0a",
   "metadata": {},
   "outputs": [],
   "source": [
    "x_tfms = [get_spectra_files, to_spectra, rand_w_avg, snv]\n",
    "y_tfms = [AnalytesTfm(analytes=analytes)]"
   ]
  },
  {
   "cell_type": "code",
   "execution_count": null,
   "id": "6523a16b",
   "metadata": {},
   "outputs": [],
   "source": [
    "splits = RandomSplitter(valid_pct=0.2, seed=41)(path.ls())\n",
    "dsets = Datasets(path.ls(), [x_tfms, y_tfms], splits=splits)\n",
    "dls = dsets.dataloaders(bs=32, drop_last=False)\n",
    "#dls.train.one_batch()[0].shape"
   ]
  },
  {
   "cell_type": "code",
   "execution_count": null,
   "id": "ace1d117",
   "metadata": {},
   "outputs": [
    {
     "name": "stderr",
     "output_type": "stream",
     "text": [
      "100%|██████████████████████████████████████████████████████████████████| 5/5 [00:00<00:00,  8.29it/s]\n",
      "100%|██████████████████████████████████████████████████████████████████| 5/5 [00:00<00:00, 10.20it/s]\n",
      "100%|██████████████████████████████████████████████████████████████████| 5/5 [00:00<00:00, 10.17it/s]\n",
      "100%|██████████████████████████████████████████████████████████████████| 5/5 [00:00<00:00, 10.40it/s]\n",
      "100%|██████████████████████████████████████████████████████████████████| 5/5 [00:00<00:00, 10.48it/s]\n",
      "100%|██████████████████████████████████████████████████████████████████| 5/5 [00:00<00:00, 10.49it/s]\n",
      "100%|██████████████████████████████████████████████████████████████████| 5/5 [00:00<00:00, 10.57it/s]\n",
      "100%|██████████████████████████████████████████████████████████████████| 5/5 [00:00<00:00, 10.55it/s]\n",
      "100%|██████████████████████████████████████████████████████████████████| 5/5 [00:00<00:00, 10.55it/s]\n",
      "100%|██████████████████████████████████████████████████████████████████| 5/5 [00:00<00:00, 10.43it/s]\n",
      "100%|██████████████████████████████████████████████████████████████████| 5/5 [00:00<00:00, 10.59it/s]\n",
      "100%|██████████████████████████████████████████████████████████████████| 5/5 [00:00<00:00, 10.47it/s]\n",
      "100%|██████████████████████████████████████████████████████████████████| 5/5 [00:00<00:00, 10.46it/s]\n",
      "100%|██████████████████████████████████████████████████████████████████| 5/5 [00:00<00:00, 10.50it/s]\n",
      "100%|██████████████████████████████████████████████████████████████████| 5/5 [00:00<00:00, 10.49it/s]\n",
      "100%|██████████████████████████████████████████████████████████████████| 5/5 [00:00<00:00, 10.55it/s]\n",
      "100%|██████████████████████████████████████████████████████████████████| 5/5 [00:00<00:00, 10.50it/s]\n",
      "100%|██████████████████████████████████████████████████████████████████| 5/5 [00:00<00:00, 10.43it/s]\n",
      "100%|██████████████████████████████████████████████████████████████████| 5/5 [00:00<00:00, 10.44it/s]\n",
      "100%|██████████████████████████████████████████████████████████████████| 5/5 [00:00<00:00, 10.48it/s]\n",
      "100%|██████████████████████████████████████████████████████████████████| 2/2 [00:00<00:00, 13.47it/s]\n",
      "100%|██████████████████████████████████████████████████████████████████| 2/2 [00:00<00:00, 16.42it/s]\n",
      "100%|██████████████████████████████████████████████████████████████████| 2/2 [00:00<00:00, 16.39it/s]\n",
      "100%|██████████████████████████████████████████████████████████████████| 2/2 [00:00<00:00, 16.67it/s]\n",
      "100%|██████████████████████████████████████████████████████████████████| 2/2 [00:00<00:00, 16.17it/s]\n",
      "100%|██████████████████████████████████████████████████████████████████| 2/2 [00:00<00:00, 15.96it/s]\n",
      "100%|██████████████████████████████████████████████████████████████████| 2/2 [00:00<00:00, 16.32it/s]\n",
      "100%|██████████████████████████████████████████████████████████████████| 2/2 [00:00<00:00, 16.32it/s]\n",
      "100%|██████████████████████████████████████████████████████████████████| 2/2 [00:00<00:00, 16.35it/s]\n",
      "100%|██████████████████████████████████████████████████████████████████| 2/2 [00:00<00:00, 16.47it/s]\n",
      "100%|██████████████████████████████████████████████████████████████████| 2/2 [00:00<00:00, 16.34it/s]\n",
      "100%|██████████████████████████████████████████████████████████████████| 2/2 [00:00<00:00, 16.13it/s]\n",
      "100%|██████████████████████████████████████████████████████████████████| 2/2 [00:00<00:00, 16.39it/s]\n",
      "100%|██████████████████████████████████████████████████████████████████| 2/2 [00:00<00:00, 16.56it/s]\n",
      "100%|██████████████████████████████████████████████████████████████████| 2/2 [00:00<00:00, 16.13it/s]\n",
      "100%|██████████████████████████████████████████████████████████████████| 2/2 [00:00<00:00, 16.26it/s]\n",
      "100%|██████████████████████████████████████████████████████████████████| 2/2 [00:00<00:00, 16.46it/s]\n",
      "100%|██████████████████████████████████████████████████████████████████| 2/2 [00:00<00:00, 16.77it/s]\n",
      "100%|██████████████████████████████████████████████████████████████████| 2/2 [00:00<00:00, 16.44it/s]\n",
      "100%|██████████████████████████████████████████████████████████████████| 2/2 [00:00<00:00, 16.07it/s]\n"
     ]
    }
   ],
   "source": [
    "(X_train, y_train), (X_valid, y_valid) = asTabular(dls.train, n=20), asTabular(dls.valid, n=20)"
   ]
  },
  {
   "cell_type": "code",
   "execution_count": null,
   "id": "8710a1fe",
   "metadata": {},
   "outputs": [],
   "source": [
    "fname = Path('../../_data/seibersdorf-mirs-tabular/data-augmented.pkl')\n",
    "save_pickle(fname, (X_train, y_train, X_valid, y_valid))"
   ]
  },
  {
   "cell_type": "markdown",
   "id": "0d29bb69",
   "metadata": {},
   "source": [
    "### Modeling pipeline"
   ]
  },
  {
   "cell_type": "markdown",
   "id": "8b13f66f",
   "metadata": {},
   "source": [
    "#### Default"
   ]
  },
  {
   "cell_type": "code",
   "execution_count": null,
   "id": "2ff56d86",
   "metadata": {},
   "outputs": [
    {
     "data": {
      "text/plain": [
       "(141, 1700)"
      ]
     },
     "execution_count": null,
     "metadata": {},
     "output_type": "execute_result"
    }
   ],
   "source": [
    "# Data loading\n",
    "fname = Path('../../_data/seibersdorf-mirs-tabular/data.pkl')\n",
    "X, y = load_pickle(fname)\n",
    "X.shape"
   ]
  },
  {
   "cell_type": "code",
   "execution_count": null,
   "id": "f190be77",
   "metadata": {},
   "outputs": [
    {
     "data": {
      "image/png": "[encoded data removed]",
      "text/plain": [
       "<Figure size 1200x400 with 1 Axes>"
      ]
     },
     "metadata": {},
     "output_type": "display_data"
    }
   ],
   "source": [
    "plot_spectra(X, X_names, figsize=(12,4), sample=100)"
   ]
  },
  {
   "cell_type": "code",
   "execution_count": null,
   "id": "d0e26b66",
   "metadata": {},
   "outputs": [
    {
     "name": "stdout",
     "output_type": "stream",
     "text": [
      "--------------------------------------------------------------------------------\n",
      "kd_cs133\n",
      "--------------------------------------------------------------------------------\n",
      "skewness: 5.641400317833495\n",
      "# of training samples: 112\n",
      "# of valid samples: 29\n",
      "n_cpts: 2, train_score: 0.14790035816806613, valid_score: -0.03754365237995794\n",
      "n_cpts: 3, train_score: 0.21267427028865316, valid_score: -0.03330558558450125\n",
      "n_cpts: 4, train_score: 0.2505013257238847, valid_score: 0.019437906863258192\n",
      "n_cpts: 5, train_score: 0.2655167770002087, valid_score: 0.06510871741852098\n",
      "n_cpts: 6, train_score: 0.2822621011884414, valid_score: 0.08590696359421235\n",
      "n_cpts: 7, train_score: 0.2936370234502531, valid_score: 0.12592380817500892\n",
      "n_cpts: 8, train_score: 0.3365745594022195, valid_score: 0.18887911567288607\n",
      "n_cpts: 9, train_score: 0.40138233701426973, valid_score: 0.34264387489617\n",
      "n_cpts: 10, train_score: 0.4619104680740188, valid_score: 0.39312845979574007\n",
      "n_cpts: 11, train_score: 0.49608435220706293, valid_score: 0.3710342459942021\n",
      "n_cpts: 12, train_score: 0.5138409034716058, valid_score: 0.3887255730524545\n",
      "n_cpts: 13, train_score: 0.5388524033923016, valid_score: 0.3891543727956974\n",
      "n_cpts: 14, train_score: 0.5589536435926882, valid_score: 0.4293399332598292\n",
      "n_cpts: 15, train_score: 0.5743172827584262, valid_score: 0.4414151922485965\n",
      "n_cpts: 16, train_score: 0.5960037701432281, valid_score: 0.4587514532831034\n",
      "n_cpts: 17, train_score: 0.6101928826240255, valid_score: 0.448658172967912\n",
      "n_cpts: 18, train_score: 0.6499180227667138, valid_score: 0.5584692192116063\n",
      "n_cpts: 19, train_score: 0.6806604493324322, valid_score: 0.6039007030537498\n",
      "n_cpts: 20, train_score: 0.7023821700229891, valid_score: 0.6148174865888878\n",
      "n_cpts: 21, train_score: 0.7252454869145183, valid_score: 0.6301412823531116\n",
      "n_cpts: 22, train_score: 0.7410302227594872, valid_score: 0.6260562303112268\n",
      "n_cpts: 23, train_score: 0.7521091175245452, valid_score: 0.6278657548571822\n",
      "n_cpts: 24, train_score: 0.7646096401246326, valid_score: 0.5992570467385036\n",
      "n_cpts: 25, train_score: 0.7726190486801636, valid_score: 0.6056460180594796\n",
      "n_cpts: 26, train_score: 0.7815381158066554, valid_score: 0.6184209943337244\n",
      "n_cpts: 27, train_score: 0.7897348396588688, valid_score: 0.6162624370074854\n",
      "n_cpts: 28, train_score: 0.8098733089127905, valid_score: 0.5742518384247197\n",
      "n_cpts: 29, train_score: 0.8266219430650903, valid_score: 0.5023564381442772\n",
      "--------------------------------------------------------------------------------\n",
      "ex_cs_total_cs_ratio\n",
      "--------------------------------------------------------------------------------\n",
      "skewness: 0.7647597679083016\n",
      "# of training samples: 100\n",
      "# of valid samples: 26\n",
      "n_cpts: 2, train_score: 0.209977860650704, valid_score: 0.22779311003633684\n",
      "n_cpts: 3, train_score: 0.2906070953531781, valid_score: 0.2867723831820461\n",
      "n_cpts: 4, train_score: 0.36006680832639004, valid_score: 0.24408946846935886\n",
      "n_cpts: 5, train_score: 0.3723391121923745, valid_score: 0.24035722964723893\n",
      "n_cpts: 6, train_score: 0.3856412435565165, valid_score: 0.20690284327491337\n",
      "n_cpts: 7, train_score: 0.4107213708927958, valid_score: 0.14416650675284537\n",
      "n_cpts: 8, train_score: 0.46841672536330903, valid_score: 0.15680551388982067\n",
      "n_cpts: 9, train_score: 0.5366487314430374, valid_score: 0.19790358392651652\n",
      "n_cpts: 10, train_score: 0.6100403759152686, valid_score: 0.14955398241091933\n",
      "n_cpts: 11, train_score: 0.6284989615237461, valid_score: 0.14005249494800553\n",
      "n_cpts: 12, train_score: 0.6539063117471926, valid_score: 0.21573915575318836\n",
      "n_cpts: 13, train_score: 0.6892875925752747, valid_score: 0.1714481560286094\n",
      "n_cpts: 14, train_score: 0.7192345200211017, valid_score: 0.16742724754833738\n",
      "n_cpts: 15, train_score: 0.735395444240103, valid_score: 0.22280082107977084\n",
      "n_cpts: 16, train_score: 0.7512369636934799, valid_score: 0.19613402043480244\n",
      "n_cpts: 17, train_score: 0.7597225523306832, valid_score: 0.23444670208508034\n",
      "n_cpts: 18, train_score: 0.7819803342299649, valid_score: 0.25212820722333795\n",
      "n_cpts: 19, train_score: 0.8010455756898036, valid_score: 0.22425547107713018\n",
      "n_cpts: 20, train_score: 0.8121033587896918, valid_score: 0.24632790670387017\n",
      "n_cpts: 21, train_score: 0.8264427431211879, valid_score: 0.2874807113190928\n",
      "n_cpts: 22, train_score: 0.8378154807038981, valid_score: 0.2061610488338348\n",
      "n_cpts: 23, train_score: 0.8467518375918814, valid_score: 0.24382531684338105\n",
      "n_cpts: 24, train_score: 0.8601308138028786, valid_score: 0.2706478016599495\n",
      "n_cpts: 25, train_score: 0.8712869700993467, valid_score: 0.2519134634955206\n",
      "n_cpts: 26, train_score: 0.8762632919244473, valid_score: 0.25036945257948373\n",
      "n_cpts: 27, train_score: 0.8815411273662948, valid_score: 0.20391076898886196\n",
      "n_cpts: 28, train_score: 0.8932697183870795, valid_score: 0.22676112429713546\n",
      "n_cpts: 29, train_score: 0.915525762234202, valid_score: 0.26996102874384176\n",
      "--------------------------------------------------------------------------------\n",
      "cs137\n",
      "--------------------------------------------------------------------------------\n",
      "skewness: 7.124235998146462\n",
      "# of training samples: 112\n",
      "# of valid samples: 29\n",
      "n_cpts: 2, train_score: 0.10358383141315242, valid_score: 0.08202233582438478\n",
      "n_cpts: 3, train_score: 0.17447791429787896, valid_score: 0.09878353230625325\n",
      "n_cpts: 4, train_score: 0.20686506673998917, valid_score: 0.17710959416444638\n",
      "n_cpts: 5, train_score: 0.28318552800726615, valid_score: 0.09011724540092503\n",
      "n_cpts: 6, train_score: 0.2944405895303642, valid_score: 0.09340365645807636\n",
      "n_cpts: 7, train_score: 0.3682839802031058, valid_score: 0.07211294541686297\n",
      "n_cpts: 8, train_score: 0.3959021347139986, valid_score: 0.009189802970621774\n",
      "n_cpts: 9, train_score: 0.4191732913262334, valid_score: 0.05220366149201927\n",
      "n_cpts: 10, train_score: 0.493648350693598, valid_score: 0.2292568428648325\n",
      "n_cpts: 11, train_score: 0.5097074375258821, valid_score: 0.2700273353913162\n",
      "n_cpts: 12, train_score: 0.5356753631209956, valid_score: 0.211746110278914\n",
      "n_cpts: 13, train_score: 0.5701690885369686, valid_score: 0.22815636223310765\n",
      "n_cpts: 14, train_score: 0.5949760477625284, valid_score: 0.20977302235262396\n",
      "n_cpts: 15, train_score: 0.6180781483957574, valid_score: 0.21421696932077572\n",
      "n_cpts: 16, train_score: 0.6415975782612002, valid_score: 0.2153244117167752\n",
      "n_cpts: 17, train_score: 0.6629346236699116, valid_score: 0.265590101175333\n",
      "n_cpts: 18, train_score: 0.7045235812628838, valid_score: 0.2906245466581918\n",
      "n_cpts: 19, train_score: 0.739852015587293, valid_score: 0.2310051652671793\n",
      "n_cpts: 20, train_score: 0.7562575013023283, valid_score: 0.2122307704488593\n",
      "n_cpts: 21, train_score: 0.7672843998209375, valid_score: 0.2636764700557801\n",
      "n_cpts: 22, train_score: 0.7811348257980467, valid_score: 0.2968226949689836\n",
      "n_cpts: 23, train_score: 0.805032065393186, valid_score: 0.3156871362146242\n",
      "n_cpts: 24, train_score: 0.8103262279671252, valid_score: 0.3061329866171919\n",
      "n_cpts: 25, train_score: 0.8216264682068637, valid_score: 0.25530485802236924\n",
      "n_cpts: 26, train_score: 0.8371853729002395, valid_score: 0.23221751098101096\n",
      "n_cpts: 27, train_score: 0.8446628840670073, valid_score: 0.23283595097778653\n",
      "n_cpts: 28, train_score: 0.8554729672213877, valid_score: 0.2918191967992071\n",
      "n_cpts: 29, train_score: 0.8664092318425078, valid_score: 0.3314922436338681\n",
      "--------------------------------------------------------------------------------\n",
      "cs137_total\n",
      "--------------------------------------------------------------------------------\n",
      "skewness: 1.2422946512591566\n",
      "# of training samples: 112\n",
      "# of valid samples: 29\n",
      "n_cpts: 2, train_score: 0.13330928625413174, valid_score: 0.1583631814196752\n",
      "n_cpts: 3, train_score: 0.21730803947454058, valid_score: 0.2063219831325377\n",
      "n_cpts: 4, train_score: 0.24767247351594124, valid_score: 0.15463569001118438\n",
      "n_cpts: 5, train_score: 0.29409979070688796, valid_score: 0.16888425548160202\n",
      "n_cpts: 6, train_score: 0.3094538498781728, valid_score: 0.15664169158651897\n",
      "n_cpts: 7, train_score: 0.37351735042532574, valid_score: 0.12223947503653043\n",
      "n_cpts: 8, train_score: 0.394276404803761, valid_score: 0.0900966293190234\n",
      "n_cpts: 9, train_score: 0.44266831229892467, valid_score: 0.1706579840569371\n",
      "n_cpts: 10, train_score: 0.4734816948489021, valid_score: 0.21928241837176965\n",
      "n_cpts: 11, train_score: 0.5027050827009432, valid_score: 0.26565275017245005\n",
      "n_cpts: 12, train_score: 0.524388859082644, valid_score: 0.29289596943001994\n",
      "n_cpts: 13, train_score: 0.5507115464747727, valid_score: 0.31267542964962014\n",
      "n_cpts: 14, train_score: 0.5633961635289775, valid_score: 0.32904348920045035\n",
      "n_cpts: 15, train_score: 0.5848468597912101, valid_score: 0.292022492737101\n",
      "n_cpts: 16, train_score: 0.6015054379465663, valid_score: 0.23486115129441265\n",
      "n_cpts: 17, train_score: 0.6140481723222302, valid_score: 0.2604375786295936\n",
      "n_cpts: 18, train_score: 0.6190445131589134, valid_score: 0.28550634674337305\n"
     ]
    },
    {
     "name": "stdout",
     "output_type": "stream",
     "text": [
      "n_cpts: 19, train_score: 0.6379737109405186, valid_score: 0.1914096180271484\n",
      "n_cpts: 20, train_score: 0.6611822103261948, valid_score: 0.1753509097530498\n",
      "n_cpts: 21, train_score: 0.6788244505300052, valid_score: 0.10298006411837257\n",
      "n_cpts: 22, train_score: 0.6973965565503963, valid_score: 0.17307983161936902\n",
      "n_cpts: 23, train_score: 0.7216952015753954, valid_score: 0.19685677119799416\n",
      "n_cpts: 24, train_score: 0.7375003588693547, valid_score: 0.18152612730737994\n",
      "n_cpts: 25, train_score: 0.7573668029157701, valid_score: 0.1135605593155149\n",
      "n_cpts: 26, train_score: 0.7744542402112773, valid_score: 0.19453082270441802\n",
      "n_cpts: 27, train_score: 0.7905094438832003, valid_score: 0.10896585453591112\n",
      "n_cpts: 28, train_score: 0.8059098173320431, valid_score: -0.023628796081493597\n",
      "n_cpts: 29, train_score: 0.8274592473158331, valid_score: -0.15355544546886346\n",
      "--------------------------------------------------------------------------------\n",
      "ex_cs137\n",
      "--------------------------------------------------------------------------------\n",
      "skewness: 2.898862519753185\n",
      "# of training samples: 100\n",
      "# of valid samples: 26\n",
      "n_cpts: 2, train_score: 0.10028329689330195, valid_score: 0.09380383500229794\n",
      "n_cpts: 3, train_score: 0.19091256880897556, valid_score: 0.026348479581207673\n",
      "n_cpts: 4, train_score: 0.2229865297208069, valid_score: 0.048463040778478406\n",
      "n_cpts: 5, train_score: 0.26199711960365757, valid_score: 0.06811100810627646\n",
      "n_cpts: 6, train_score: 0.26732802294495506, valid_score: 0.058347558868726446\n",
      "n_cpts: 7, train_score: 0.3224298184480654, valid_score: -0.015780121693687033\n",
      "n_cpts: 8, train_score: 0.35391153394731767, valid_score: -0.16002715278274682\n",
      "n_cpts: 9, train_score: 0.37445135643835503, valid_score: -0.17064175410457816\n",
      "n_cpts: 10, train_score: 0.4605836261660847, valid_score: -0.29004467841899095\n",
      "n_cpts: 11, train_score: 0.47636411273030665, valid_score: -0.3928897220619445\n",
      "n_cpts: 12, train_score: 0.49156643453611604, valid_score: -0.4649347181740897\n",
      "n_cpts: 13, train_score: 0.5076097482147423, valid_score: -0.5338092738527802\n",
      "n_cpts: 14, train_score: 0.5385373099886699, valid_score: -0.40292523361023536\n",
      "n_cpts: 15, train_score: 0.5658763153901607, valid_score: -0.3438278591809534\n",
      "n_cpts: 16, train_score: 0.5902020941471272, valid_score: -0.36602870122731\n",
      "n_cpts: 17, train_score: 0.6124635020732871, valid_score: -0.32513379266632847\n",
      "n_cpts: 18, train_score: 0.6555011109690945, valid_score: -0.4834210923861215\n",
      "n_cpts: 19, train_score: 0.689309816869115, valid_score: -0.5085189696437593\n",
      "n_cpts: 20, train_score: 0.715367117651025, valid_score: -0.48113500552153776\n",
      "n_cpts: 21, train_score: 0.7314672952670513, valid_score: -0.4133288567135043\n",
      "n_cpts: 22, train_score: 0.7648130727809338, valid_score: -0.427230618081198\n",
      "n_cpts: 23, train_score: 0.7875594645184604, valid_score: -0.4608516429798666\n",
      "n_cpts: 24, train_score: 0.8097726522382283, valid_score: -0.5259656775657011\n",
      "n_cpts: 25, train_score: 0.8224888730798574, valid_score: -0.5502073750657712\n",
      "n_cpts: 26, train_score: 0.8343791249994689, valid_score: -0.5789366600564942\n",
      "n_cpts: 27, train_score: 0.8522736304186018, valid_score: -0.5747437289341333\n",
      "n_cpts: 28, train_score: 0.8669622588610431, valid_score: -0.5603011629069707\n",
      "n_cpts: 29, train_score: 0.889975498233319, valid_score: -0.3707135864518245\n",
      "--------------------------------------------------------------------------------\n",
      "ex_k2o\n",
      "--------------------------------------------------------------------------------\n",
      "skewness: 0.9542907305611479\n",
      "# of training samples: 112\n",
      "# of valid samples: 29\n",
      "n_cpts: 2, train_score: 0.07206552506112396, valid_score: -0.055065719686644865\n",
      "n_cpts: 3, train_score: 0.11170310831366359, valid_score: -0.14151628677292316\n",
      "n_cpts: 4, train_score: 0.13599480455347313, valid_score: -0.14343576539199643\n",
      "n_cpts: 5, train_score: 0.18646269278114214, valid_score: -0.11642443043725725\n",
      "n_cpts: 6, train_score: 0.19858876491189525, valid_score: -0.11185883503895377\n",
      "n_cpts: 7, train_score: 0.23679918785905996, valid_score: -0.09480326444788179\n",
      "n_cpts: 8, train_score: 0.280409696319428, valid_score: -0.027943748658193046\n",
      "n_cpts: 9, train_score: 0.3205861096152506, valid_score: -0.06480925315581598\n",
      "n_cpts: 10, train_score: 0.38100875004487234, valid_score: -0.035927689306880284\n",
      "n_cpts: 11, train_score: 0.3997675721048969, valid_score: -0.022402681168500305\n",
      "n_cpts: 12, train_score: 0.4090458456027447, valid_score: 0.02425163896885285\n",
      "n_cpts: 13, train_score: 0.43151250582391476, valid_score: 0.018102699545315515\n",
      "n_cpts: 14, train_score: 0.45872395988380377, valid_score: 0.10428300317609795\n",
      "n_cpts: 15, train_score: 0.47823571231303097, valid_score: 0.06053889167829707\n",
      "n_cpts: 16, train_score: 0.496970198499731, valid_score: 0.08413380603553344\n",
      "n_cpts: 17, train_score: 0.5253560212929211, valid_score: 0.05996585524829179\n",
      "n_cpts: 18, train_score: 0.5666358362749444, valid_score: 0.08162655341397085\n",
      "n_cpts: 19, train_score: 0.6028721616664148, valid_score: 0.07144088164386664\n",
      "n_cpts: 20, train_score: 0.6254964892540689, valid_score: 0.17876661455381648\n",
      "n_cpts: 21, train_score: 0.6400877776217916, valid_score: 0.20010884400173323\n",
      "n_cpts: 22, train_score: 0.6550928358413354, valid_score: 0.2225286057222775\n",
      "n_cpts: 23, train_score: 0.6732851059364204, valid_score: 0.16848616559857055\n",
      "n_cpts: 24, train_score: 0.6912676925399986, valid_score: 0.1954154253892053\n",
      "n_cpts: 25, train_score: 0.7076001041940309, valid_score: 0.21461318341793367\n",
      "n_cpts: 26, train_score: 0.7200371093169091, valid_score: 0.2084671943359221\n",
      "n_cpts: 27, train_score: 0.749755522274562, valid_score: 0.23087553569624242\n",
      "n_cpts: 28, train_score: 0.776494038056326, valid_score: 0.26695803251033223\n",
      "n_cpts: 29, train_score: 0.8103537390068538, valid_score: 0.26857888694083765\n",
      "--------------------------------------------------------------------------------\n",
      "ph\n",
      "--------------------------------------------------------------------------------\n",
      "skewness: 0.22277462288834776\n",
      "# of training samples: 112\n",
      "# of valid samples: 29\n",
      "n_cpts: 2, train_score: 0.15608026506498973, valid_score: 0.06407822396527751\n",
      "n_cpts: 3, train_score: 0.3470735035219791, valid_score: 0.30822106126732807\n",
      "n_cpts: 4, train_score: 0.37614887773276295, valid_score: 0.38213213899107157\n",
      "n_cpts: 5, train_score: 0.4220830543130385, valid_score: 0.40137319856151465\n",
      "n_cpts: 6, train_score: 0.4436471294893365, valid_score: 0.46891743373541606\n",
      "n_cpts: 7, train_score: 0.46599704128808517, valid_score: 0.5022965441300489\n",
      "n_cpts: 8, train_score: 0.5332153431873934, valid_score: 0.5746534195083159\n",
      "n_cpts: 9, train_score: 0.5691268154134838, valid_score: 0.575881295107634\n",
      "n_cpts: 10, train_score: 0.5920902983738523, valid_score: 0.5733193890803475\n",
      "n_cpts: 11, train_score: 0.6199983855516606, valid_score: 0.5464486056378592\n",
      "n_cpts: 12, train_score: 0.6334138708491338, valid_score: 0.5455478826184506\n",
      "n_cpts: 13, train_score: 0.6521701072558016, valid_score: 0.5652927894746004\n",
      "n_cpts: 14, train_score: 0.6843065061561877, valid_score: 0.5837671821133201\n",
      "n_cpts: 15, train_score: 0.700017725129072, valid_score: 0.6071211328721009\n",
      "n_cpts: 16, train_score: 0.7337891371232719, valid_score: 0.604481523209683\n",
      "n_cpts: 17, train_score: 0.7426556780083159, valid_score: 0.6019078667514001\n",
      "n_cpts: 18, train_score: 0.7626277750418016, valid_score: 0.6190375996476505\n",
      "n_cpts: 19, train_score: 0.7851810950405348, valid_score: 0.5933128985899074\n",
      "n_cpts: 20, train_score: 0.8116621073625765, valid_score: 0.6331587275092276\n",
      "n_cpts: 21, train_score: 0.8263585526959593, valid_score: 0.6374005031290157\n",
      "n_cpts: 22, train_score: 0.8462879283013179, valid_score: 0.6245170475363127\n",
      "n_cpts: 23, train_score: 0.8619724817568801, valid_score: 0.6407259453166496\n",
      "n_cpts: 24, train_score: 0.8721952359043508, valid_score: 0.6619984169268718\n",
      "n_cpts: 25, train_score: 0.885763651119354, valid_score: 0.6452802552582043\n",
      "n_cpts: 26, train_score: 0.8938604597151546, valid_score: 0.6378519251169481\n",
      "n_cpts: 27, train_score: 0.9045700043757896, valid_score: 0.6162269041320327\n",
      "n_cpts: 28, train_score: 0.9152907463381341, valid_score: 0.6165935308694097\n",
      "n_cpts: 29, train_score: 0.9245796923813261, valid_score: 0.5878737785553365\n",
      "--------------------------------------------------------------------------------\n",
      "c\n",
      "--------------------------------------------------------------------------------\n",
      "skewness: 1.080642567573653\n"
     ]
    },
    {
     "name": "stdout",
     "output_type": "stream",
     "text": [
      "# of training samples: 108\n",
      "# of valid samples: 27\n",
      "n_cpts: 2, train_score: 0.7076253234788468, valid_score: 0.8130433652401373\n",
      "n_cpts: 3, train_score: 0.7327871119998887, valid_score: 0.838355868200729\n",
      "n_cpts: 4, train_score: 0.7752931491192838, valid_score: 0.8665923879618147\n",
      "n_cpts: 5, train_score: 0.7926090446327876, valid_score: 0.8782913929941697\n",
      "n_cpts: 6, train_score: 0.8115134753952855, valid_score: 0.8911165596578667\n",
      "n_cpts: 7, train_score: 0.8234023625656615, valid_score: 0.9078616033271814\n",
      "n_cpts: 8, train_score: 0.8393879532463571, valid_score: 0.8995250080659305\n",
      "n_cpts: 9, train_score: 0.8503320118128144, valid_score: 0.8982352418241065\n",
      "n_cpts: 10, train_score: 0.8583783058576244, valid_score: 0.8954063201975617\n",
      "n_cpts: 11, train_score: 0.8635753010995207, valid_score: 0.8926085540323333\n",
      "n_cpts: 12, train_score: 0.8691174488179667, valid_score: 0.8807558156024289\n",
      "n_cpts: 13, train_score: 0.8777376061568967, valid_score: 0.8964218519461364\n",
      "n_cpts: 14, train_score: 0.8879207094451878, valid_score: 0.8876183418739871\n",
      "n_cpts: 15, train_score: 0.8938196515236835, valid_score: 0.8798553005056785\n",
      "n_cpts: 16, train_score: 0.8986528910799262, valid_score: 0.8765854913847546\n",
      "n_cpts: 17, train_score: 0.9085141410876717, valid_score: 0.8730884858468372\n",
      "n_cpts: 18, train_score: 0.9141369746481698, valid_score: 0.857688918221483\n",
      "n_cpts: 19, train_score: 0.9192338024966255, valid_score: 0.8557455902090005\n",
      "n_cpts: 20, train_score: 0.927933593390061, valid_score: 0.8465296583709531\n",
      "n_cpts: 21, train_score: 0.9325905674844329, valid_score: 0.8548442854348107\n",
      "n_cpts: 22, train_score: 0.9383926914161644, valid_score: 0.8379236295425841\n",
      "n_cpts: 23, train_score: 0.9412781386241336, valid_score: 0.8362320611767048\n",
      "n_cpts: 24, train_score: 0.9450770176954177, valid_score: 0.815633564258319\n",
      "n_cpts: 25, train_score: 0.9517719251014168, valid_score: 0.812496433936128\n",
      "n_cpts: 26, train_score: 0.9553244310670332, valid_score: 0.7866677378197884\n",
      "n_cpts: 27, train_score: 0.961569235102458, valid_score: 0.7470825480284817\n",
      "n_cpts: 28, train_score: 0.9668122081391493, valid_score: 0.7469407593236315\n",
      "n_cpts: 29, train_score: 0.9702889131156833, valid_score: 0.7530185955358669\n",
      "--------------------------------------------------------------------------------\n",
      "n\n",
      "--------------------------------------------------------------------------------\n",
      "skewness: 0.8183137940859482\n",
      "# of training samples: 108\n",
      "# of valid samples: 27\n",
      "n_cpts: 2, train_score: 0.6652738648433026, valid_score: 0.6729179118263692\n",
      "n_cpts: 3, train_score: 0.6844674060838887, valid_score: 0.6847347638960246\n",
      "n_cpts: 4, train_score: 0.728474216131717, valid_score: 0.7362978061158609\n",
      "n_cpts: 5, train_score: 0.7454461390195737, valid_score: 0.7077795935325388\n",
      "n_cpts: 6, train_score: 0.7561287733423683, valid_score: 0.7321269462850224\n",
      "n_cpts: 7, train_score: 0.7789896114202677, valid_score: 0.7670247572405776\n",
      "n_cpts: 8, train_score: 0.7871978013291399, valid_score: 0.7281993793292074\n",
      "n_cpts: 9, train_score: 0.7992115838087571, valid_score: 0.7239023911740525\n",
      "n_cpts: 10, train_score: 0.8117785896483228, valid_score: 0.7295425683847565\n",
      "n_cpts: 11, train_score: 0.8176335553390296, valid_score: 0.7526663075778908\n",
      "n_cpts: 12, train_score: 0.8266924590250299, valid_score: 0.733080379694927\n",
      "n_cpts: 13, train_score: 0.8467367016723298, valid_score: 0.7771216305675036\n",
      "n_cpts: 14, train_score: 0.8634326959620453, valid_score: 0.8109863602008548\n",
      "n_cpts: 15, train_score: 0.8757355520325576, valid_score: 0.8304055164421413\n",
      "n_cpts: 16, train_score: 0.8839723452871521, valid_score: 0.8131651394525595\n",
      "n_cpts: 17, train_score: 0.8891619230683496, valid_score: 0.8017016265150354\n",
      "n_cpts: 18, train_score: 0.8965507032677114, valid_score: 0.8257172172490088\n",
      "n_cpts: 19, train_score: 0.9084234039823785, valid_score: 0.8342525632659545\n",
      "n_cpts: 20, train_score: 0.9187808795553504, valid_score: 0.8344611312602653\n",
      "n_cpts: 21, train_score: 0.9245196691086075, valid_score: 0.8557924227856407\n",
      "n_cpts: 22, train_score: 0.9301599034431113, valid_score: 0.8401126031035804\n",
      "n_cpts: 23, train_score: 0.934623952786547, valid_score: 0.8382810086415459\n",
      "n_cpts: 24, train_score: 0.9417755700263544, valid_score: 0.8392337127250589\n",
      "n_cpts: 25, train_score: 0.9488542028283482, valid_score: 0.8231842845866277\n",
      "n_cpts: 26, train_score: 0.9530493919825463, valid_score: 0.7955790639018196\n",
      "n_cpts: 27, train_score: 0.9556301174890456, valid_score: 0.7992412207203947\n",
      "n_cpts: 28, train_score: 0.9601894325968782, valid_score: 0.8023126612790037\n",
      "n_cpts: 29, train_score: 0.9634614588869269, valid_score: 0.798659514679956\n",
      "--------------------------------------------------------------------------------\n",
      "c_n_ratio\n",
      "--------------------------------------------------------------------------------\n",
      "skewness: -2.2905279633072455\n",
      "# of training samples: 108\n",
      "# of valid samples: 27\n",
      "n_cpts: 2, train_score: 0.19767263591786566, valid_score: 0.26749742046527014\n",
      "n_cpts: 3, train_score: 0.22783562731348994, valid_score: 0.32100281302555445\n",
      "n_cpts: 4, train_score: 0.2976027377282193, valid_score: 0.34024367438947833\n",
      "n_cpts: 5, train_score: 0.3091575638430982, valid_score: 0.3693452318192382\n",
      "n_cpts: 6, train_score: 0.34121243613817875, valid_score: 0.2943939947907819\n",
      "n_cpts: 7, train_score: 0.35307826978878587, valid_score: 0.2983930715724443\n",
      "n_cpts: 8, train_score: 0.3833829759469791, valid_score: 0.38127960435369357\n",
      "n_cpts: 9, train_score: 0.42055384048965794, valid_score: 0.35057816436392475\n",
      "n_cpts: 10, train_score: 0.4451312556582875, valid_score: 0.38268915852517804\n",
      "n_cpts: 11, train_score: 0.49432253618626687, valid_score: 0.3866962151558727\n",
      "n_cpts: 12, train_score: 0.5257666300068337, valid_score: 0.3969318725416533\n",
      "n_cpts: 13, train_score: 0.5784282105429135, valid_score: 0.43919485688857574\n",
      "n_cpts: 14, train_score: 0.6223666221835775, valid_score: 0.5599259339610678\n",
      "n_cpts: 15, train_score: 0.6502081478086663, valid_score: 0.595853466210106\n",
      "n_cpts: 16, train_score: 0.6845254380704304, valid_score: 0.6129879979017948\n",
      "n_cpts: 17, train_score: 0.718630233381945, valid_score: 0.6449340459061614\n",
      "n_cpts: 18, train_score: 0.7600738016566162, valid_score: 0.7081306441587658\n",
      "n_cpts: 19, train_score: 0.7853276740218929, valid_score: 0.6975117638045416\n",
      "n_cpts: 20, train_score: 0.804762844087183, valid_score: 0.6421407540798914\n",
      "n_cpts: 21, train_score: 0.8178411272065904, valid_score: 0.6505858014736816\n",
      "n_cpts: 22, train_score: 0.8300577398314168, valid_score: 0.6242054382714448\n",
      "n_cpts: 23, train_score: 0.8392317046470326, valid_score: 0.6156840136053028\n",
      "n_cpts: 24, train_score: 0.8485842627545335, valid_score: 0.6174163470011479\n",
      "n_cpts: 25, train_score: 0.8670818317166707, valid_score: 0.6057675647477931\n",
      "n_cpts: 26, train_score: 0.8773745258974784, valid_score: 0.6133119798578657\n",
      "n_cpts: 27, train_score: 0.8833961230838348, valid_score: 0.5977637991020643\n",
      "n_cpts: 28, train_score: 0.8936332549296413, valid_score: 0.6139962119907143\n",
      "n_cpts: 29, train_score: 0.9021825039512591, valid_score: 0.5917409293728746\n",
      "--------------------------------------------------------------------------------\n",
      "ex_mgo\n",
      "--------------------------------------------------------------------------------\n",
      "skewness: 3.2090864889951733\n",
      "# of training samples: 112\n",
      "# of valid samples: 29\n",
      "n_cpts: 2, train_score: 0.31480672415225086, valid_score: 0.3800546935514957\n",
      "n_cpts: 3, train_score: 0.46035682160496816, valid_score: 0.4158659495115\n",
      "n_cpts: 4, train_score: 0.4996221346878682, valid_score: 0.40722321461821265\n",
      "n_cpts: 5, train_score: 0.5649274382202473, valid_score: 0.453777149927178\n",
      "n_cpts: 6, train_score: 0.5937486626953992, valid_score: 0.4713357209132414\n",
      "n_cpts: 7, train_score: 0.6750264090979523, valid_score: 0.4635839757175252\n",
      "n_cpts: 8, train_score: 0.7006478949338935, valid_score: 0.5235174397341162\n",
      "n_cpts: 9, train_score: 0.7358939489789071, valid_score: 0.5313009853027175\n",
      "n_cpts: 10, train_score: 0.7680591085763492, valid_score: 0.5857503398287636\n",
      "n_cpts: 11, train_score: 0.7879508698877303, valid_score: 0.6302310430836119\n",
      "n_cpts: 12, train_score: 0.8023951952372534, valid_score: 0.6677036630217861\n",
      "n_cpts: 13, train_score: 0.8114160267980542, valid_score: 0.6468968239628425\n",
      "n_cpts: 14, train_score: 0.8236621810230106, valid_score: 0.6474120283150016\n",
      "n_cpts: 15, train_score: 0.8355222544548776, valid_score: 0.6832694613241344\n",
      "n_cpts: 16, train_score: 0.8423231883279164, valid_score: 0.693529010443481\n",
      "n_cpts: 17, train_score: 0.8487933340000051, valid_score: 0.6998369108985759\n"
     ]
    },
    {
     "name": "stdout",
     "output_type": "stream",
     "text": [
      "n_cpts: 18, train_score: 0.862615778331787, valid_score: 0.7022730120135869\n",
      "n_cpts: 19, train_score: 0.8807641797684512, valid_score: 0.7273798744090045\n",
      "n_cpts: 20, train_score: 0.8910391369958102, valid_score: 0.7419860479996264\n",
      "n_cpts: 21, train_score: 0.8988194052627826, valid_score: 0.7500396549304287\n",
      "n_cpts: 22, train_score: 0.9056756458689261, valid_score: 0.7552822793493443\n",
      "n_cpts: 23, train_score: 0.9113852365074556, valid_score: 0.744175930922415\n",
      "n_cpts: 24, train_score: 0.9169725087042141, valid_score: 0.7522916052202808\n",
      "n_cpts: 25, train_score: 0.9221822569765077, valid_score: 0.7566186932968355\n",
      "n_cpts: 26, train_score: 0.9267202242881548, valid_score: 0.7433682545090916\n",
      "n_cpts: 27, train_score: 0.9324554664354552, valid_score: 0.7239280316678087\n",
      "n_cpts: 28, train_score: 0.9375610034109351, valid_score: 0.6978317339518293\n",
      "n_cpts: 29, train_score: 0.9419150980601586, valid_score: 0.6965143619818246\n",
      "--------------------------------------------------------------------------------\n",
      "ex_cao\n",
      "--------------------------------------------------------------------------------\n",
      "skewness: 1.0911037144555027\n",
      "# of training samples: 112\n",
      "# of valid samples: 29\n",
      "n_cpts: 2, train_score: 0.23668272433694149, valid_score: 0.2728798025469268\n",
      "n_cpts: 3, train_score: 0.3802841768127092, valid_score: 0.25164400032541523\n",
      "n_cpts: 4, train_score: 0.4486269883234252, valid_score: 0.19959730779543172\n",
      "n_cpts: 5, train_score: 0.48001166893413627, valid_score: 0.1712932664422333\n",
      "n_cpts: 6, train_score: 0.5539080891071235, valid_score: 0.28023851816178424\n",
      "n_cpts: 7, train_score: 0.6448554377477702, valid_score: 0.3057640053915053\n",
      "n_cpts: 8, train_score: 0.6714880555099934, valid_score: 0.42123285971017643\n",
      "n_cpts: 9, train_score: 0.6992299402152345, valid_score: 0.39775474033860847\n",
      "n_cpts: 10, train_score: 0.7318951511162828, valid_score: 0.536162861704057\n",
      "n_cpts: 11, train_score: 0.7597483408312207, valid_score: 0.5717303570949328\n",
      "n_cpts: 12, train_score: 0.7835678746061916, valid_score: 0.6096964748845872\n",
      "n_cpts: 13, train_score: 0.7996907026589024, valid_score: 0.5544118898055577\n",
      "n_cpts: 14, train_score: 0.8075553091058083, valid_score: 0.521541077854005\n",
      "n_cpts: 15, train_score: 0.8262914675816379, valid_score: 0.5316922815089846\n",
      "n_cpts: 16, train_score: 0.8393218802128981, valid_score: 0.5413862278360211\n",
      "n_cpts: 17, train_score: 0.8488964431933457, valid_score: 0.5266432419584368\n",
      "n_cpts: 18, train_score: 0.8710577837376119, valid_score: 0.4610424199756209\n",
      "n_cpts: 19, train_score: 0.8909629635858759, valid_score: 0.5120181540408022\n",
      "n_cpts: 20, train_score: 0.8989108759297146, valid_score: 0.5235378827026866\n",
      "n_cpts: 21, train_score: 0.9068854209524686, valid_score: 0.5433506577094096\n",
      "n_cpts: 22, train_score: 0.9111371782420996, valid_score: 0.5382351852056819\n",
      "n_cpts: 23, train_score: 0.9196393617000861, valid_score: 0.5431882539694294\n",
      "n_cpts: 24, train_score: 0.9250468021305024, valid_score: 0.537299963780828\n",
      "n_cpts: 25, train_score: 0.9337432993932029, valid_score: 0.4777284564195903\n",
      "n_cpts: 26, train_score: 0.936264519193613, valid_score: 0.4414419376308789\n",
      "n_cpts: 27, train_score: 0.9395756402034136, valid_score: 0.43940870540725574\n",
      "n_cpts: 28, train_score: 0.9455762002143765, valid_score: 0.41372687510481987\n",
      "n_cpts: 29, train_score: 0.9498977000471767, valid_score: 0.38436409128914406\n",
      "--------------------------------------------------------------------------------\n",
      "cec\n",
      "--------------------------------------------------------------------------------\n",
      "skewness: 1.158146450148246\n",
      "# of training samples: 112\n",
      "# of valid samples: 29\n",
      "n_cpts: 2, train_score: 0.36340710148022937, valid_score: 0.3432275621848403\n",
      "n_cpts: 3, train_score: 0.4460900703999706, valid_score: 0.4184959846892843\n",
      "n_cpts: 4, train_score: 0.5385525032339542, valid_score: 0.4710579585422334\n",
      "n_cpts: 5, train_score: 0.5642789411041589, valid_score: 0.4988313498345931\n",
      "n_cpts: 6, train_score: 0.6284576605006544, valid_score: 0.5029908742409734\n",
      "n_cpts: 7, train_score: 0.7032311006445813, valid_score: 0.4944155524333801\n",
      "n_cpts: 8, train_score: 0.7334565988492407, valid_score: 0.5619161782566493\n",
      "n_cpts: 9, train_score: 0.7540632592785184, valid_score: 0.586524344283281\n",
      "n_cpts: 10, train_score: 0.7794757536102723, valid_score: 0.5741004361772939\n",
      "n_cpts: 11, train_score: 0.7895710401529235, valid_score: 0.5683930616901101\n",
      "n_cpts: 12, train_score: 0.7976827226553901, valid_score: 0.5921397046159409\n",
      "n_cpts: 13, train_score: 0.8017718942654092, valid_score: 0.5855381273158804\n",
      "n_cpts: 14, train_score: 0.8095837807916404, valid_score: 0.6034227444069449\n",
      "n_cpts: 15, train_score: 0.8197702784851705, valid_score: 0.6159744642822178\n",
      "n_cpts: 16, train_score: 0.8260609493334304, valid_score: 0.6424980467603902\n",
      "n_cpts: 17, train_score: 0.8334782916997705, valid_score: 0.6425758947866205\n",
      "n_cpts: 18, train_score: 0.8490240630680267, valid_score: 0.658967575577236\n",
      "n_cpts: 19, train_score: 0.8601909171511263, valid_score: 0.6115244961665391\n",
      "n_cpts: 20, train_score: 0.8690167088257074, valid_score: 0.6140810070967279\n",
      "n_cpts: 21, train_score: 0.8741265774838791, valid_score: 0.5944839153900077\n",
      "n_cpts: 22, train_score: 0.8811171609812671, valid_score: 0.585267904676189\n",
      "n_cpts: 23, train_score: 0.8966538186699838, valid_score: 0.5381738779531489\n",
      "n_cpts: 24, train_score: 0.9066750565347289, valid_score: 0.5287069364849846\n",
      "n_cpts: 25, train_score: 0.9107715019662974, valid_score: 0.533262040669956\n",
      "n_cpts: 26, train_score: 0.9143842661381546, valid_score: 0.46298425625867634\n",
      "n_cpts: 27, train_score: 0.9188834321974524, valid_score: 0.44669003746732705\n",
      "n_cpts: 28, train_score: 0.9260547631725224, valid_score: 0.38822809045928497\n",
      "n_cpts: 29, train_score: 0.9346209182231509, valid_score: 0.34185477267557784\n"
     ]
    }
   ],
   "source": [
    "summary = {}\n",
    "for i, analyte in enumerate(analytes):\n",
    "    mask = ~np.isnan(y[:,i])\n",
    "    skewness = skew(y[:,i][mask])\n",
    "    print(80*'-')\n",
    "    print(f'{analyte}')\n",
    "    print(80*'-')\n",
    "    print(f'skewness: {skewness}')\n",
    "\n",
    "    mask_all = np.logical_and(mask, y[:,i] > 0)\n",
    "    \n",
    "    # KS on features\n",
    "    #y_train, y_valid, X_train, X_valid = ks.train_test_split(y[:,i][mask_all].reshape(-1, 1), \n",
    "    #                                                         X[mask_all, :], test_size=0.2)\n",
    "    # KS on target\n",
    "    X_train, X_valid, y_train, y_valid = ks.train_test_split(X[mask_all, :], \n",
    "                                                             y[:,i][mask_all], test_size=0.2)\n",
    "    \n",
    "    print(f'# of training samples: {y_train.shape[0]}')\n",
    "    print(f'# of valid samples: {y_valid.shape[0]}')\n",
    "    \n",
    "    if np.abs(skewness) > 0.5:\n",
    "        y_train, y_valid = [np.log10(y) for y in [y_train, y_valid]]\n",
    "    \n",
    "    valid_scores = []\n",
    "    for n_cpts in range(2, 30):\n",
    "        m = Pipeline([\n",
    "            ('snv', SNV()),\n",
    "            #('derivative', TakeDerivative()),\n",
    "            #('dropper', DropSpectralRegions(self.X_names, **self.pipeline_kwargs['dropper'])),\n",
    "            ('model', PLSRegression(n_components=n_cpts))])\n",
    "\n",
    "        m.fit(X_train, y_train)\n",
    "        train_score = r2_score(y_train, m.predict(X_train))\n",
    "        valid_score = r2_score(y_valid, m.predict(X_valid))\n",
    "        valid_scores.append(valid_score)\n",
    "        print(f'n_cpts: {n_cpts}, train_score: {train_score}, valid_score: {valid_score}')\n",
    "    #print(f'max score: {np.max(np.array(valid_scores))}')\n",
    "    summary[analyte] = np.max(np.array(valid_scores))"
   ]
  },
  {
   "cell_type": "code",
   "execution_count": null,
   "id": "90d55151",
   "metadata": {},
   "outputs": [
    {
     "data": {
      "text/plain": [
       "{'kd_cs133': 0.6301412823531116,\n",
       " 'ex_cs_total_cs_ratio': 0.2874807113190928,\n",
       " 'cs137': 0.3314922436338681,\n",
       " 'cs137_total': 0.32904348920045035,\n",
       " 'ex_cs137': 0.09380383500229794,\n",
       " 'ex_k2o': 0.26857888694083765,\n",
       " 'ph': 0.6619984169268718,\n",
       " 'c': 0.9078616033271814,\n",
       " 'n': 0.8557924227856407,\n",
       " 'c_n_ratio': 0.7081306441587658,\n",
       " 'ex_mgo': 0.7566186932968355,\n",
       " 'ex_cao': 0.6096964748845872,\n",
       " 'cec': 0.658967575577236}"
      ]
     },
     "execution_count": null,
     "metadata": {},
     "output_type": "execute_result"
    }
   ],
   "source": [
    "# KS in target\n",
    "summary"
   ]
  },
  {
   "cell_type": "markdown",
   "id": "b84b2a3d",
   "metadata": {},
   "source": [
    "#### Augmented"
   ]
  },
  {
   "cell_type": "code",
   "execution_count": null,
   "id": "bfbcca65",
   "metadata": {},
   "outputs": [],
   "source": [
    "# Data loading\n",
    "fname = Path('../../_data/seibersdorf-mirs-tabular/data-augmented.pkl')\n",
    "X_train, y_train, X_valid, y_valid = load_pickle(fname)"
   ]
  },
  {
   "cell_type": "code",
   "execution_count": null,
   "id": "781a17f5",
   "metadata": {},
   "outputs": [
    {
     "name": "stdout",
     "output_type": "stream",
     "text": [
      "--------------------------------------------------------------------------------\n",
      "kd_cs133\n",
      "--------------------------------------------------------------------------------\n",
      "skewness: 5.034500664275883\n",
      "# of training samples: 2820, 2820\n",
      "# of valid samples: 700\n",
      "n_cpts: 2, train_score: 0.2956142483816444, valid_score: 0.1887874383090753\n",
      "n_cpts: 3, train_score: 0.32750598006316745, valid_score: 0.14209107350094197\n",
      "n_cpts: 4, train_score: 0.37728922785127395, valid_score: 0.22623066186605523\n",
      "n_cpts: 5, train_score: 0.45869218313886273, valid_score: 0.28298218867647507\n",
      "n_cpts: 6, train_score: 0.511507013760039, valid_score: 0.2655841929199072\n",
      "n_cpts: 7, train_score: 0.5487660003100481, valid_score: 0.3184646021623321\n",
      "n_cpts: 8, train_score: 0.5664531373170518, valid_score: 0.28920945566077283\n",
      "n_cpts: 9, train_score: 0.6019298278599833, valid_score: 0.18250344393660256\n",
      "n_cpts: 10, train_score: 0.6491267440291213, valid_score: 0.1327616729603106\n",
      "n_cpts: 11, train_score: 0.6817458903415352, valid_score: 0.13137272160491187\n",
      "n_cpts: 12, train_score: 0.6997051177820277, valid_score: 0.2209755027894359\n",
      "n_cpts: 13, train_score: 0.7180806185397655, valid_score: 0.24784252361394254\n",
      "n_cpts: 14, train_score: 0.7505599422350322, valid_score: 0.27800912955526436\n",
      "n_cpts: 15, train_score: 0.7714393598489818, valid_score: 0.1810946568580516\n",
      "n_cpts: 16, train_score: 0.789359420277283, valid_score: 0.09464368287124181\n",
      "n_cpts: 17, train_score: 0.809094450633238, valid_score: 0.07448693232394987\n",
      "n_cpts: 18, train_score: 0.8316082299491812, valid_score: 0.03229862237546233\n",
      "n_cpts: 19, train_score: 0.8408717913209576, valid_score: 0.006843949267054561\n",
      "n_cpts: 20, train_score: 0.8521926539719215, valid_score: -0.014145829843593916\n",
      "n_cpts: 21, train_score: 0.8673140531167225, valid_score: -0.022932798033830082\n",
      "n_cpts: 22, train_score: 0.8773060407819987, valid_score: -0.12826188708928443\n",
      "n_cpts: 23, train_score: 0.8891787309734817, valid_score: -0.22740123564681736\n",
      "n_cpts: 24, train_score: 0.8975066636632651, valid_score: -0.2744050084211651\n",
      "n_cpts: 25, train_score: 0.9071868997343266, valid_score: -0.27999309919872895\n",
      "n_cpts: 26, train_score: 0.9194921137532983, valid_score: -0.32017325394844187\n",
      "n_cpts: 27, train_score: 0.9230844863392916, valid_score: -0.3312530067784456\n",
      "n_cpts: 28, train_score: 0.9295558254531094, valid_score: -0.3492638560432113\n",
      "n_cpts: 29, train_score: 0.9339781982194272, valid_score: -0.357492311776775\n",
      "--------------------------------------------------------------------------------\n",
      "ex_cs_total_cs_ratio\n",
      "--------------------------------------------------------------------------------\n",
      "skewness: 0.852649887558278\n",
      "# of training samples: 2520, 2520\n",
      "# of valid samples: 600\n",
      "n_cpts: 2, train_score: 0.36983776906582233, valid_score: 0.30117293546293755\n",
      "n_cpts: 3, train_score: 0.39570354346910375, valid_score: 0.32272460157999017\n",
      "n_cpts: 4, train_score: 0.457344841580257, valid_score: 0.49580119572683323\n",
      "n_cpts: 5, train_score: 0.5629244682569681, valid_score: 0.41829958922621735\n",
      "n_cpts: 6, train_score: 0.6085002834867456, valid_score: 0.44087091576857185\n",
      "n_cpts: 7, train_score: 0.6308345718101206, valid_score: 0.3993710274065656\n",
      "n_cpts: 8, train_score: 0.6529664445153016, valid_score: 0.44612235764407826\n",
      "n_cpts: 9, train_score: 0.6856656775109293, valid_score: 0.4490989707212659\n",
      "n_cpts: 10, train_score: 0.7181069780398494, valid_score: 0.49882123833531655\n",
      "n_cpts: 11, train_score: 0.7377834619218593, valid_score: 0.5264520526317408\n",
      "n_cpts: 12, train_score: 0.7581927481729388, valid_score: 0.49266983258734787\n",
      "n_cpts: 13, train_score: 0.7851272271141194, valid_score: 0.4207940626472497\n",
      "n_cpts: 14, train_score: 0.8205271786251342, valid_score: 0.3961911966789986\n",
      "n_cpts: 15, train_score: 0.8458793463784922, valid_score: 0.43391766264467413\n",
      "n_cpts: 16, train_score: 0.8599166523161238, valid_score: 0.5178331701390442\n",
      "n_cpts: 17, train_score: 0.8727478677979117, valid_score: 0.5097193399440878\n",
      "n_cpts: 18, train_score: 0.8888679396815626, valid_score: 0.49951382218477003\n",
      "n_cpts: 19, train_score: 0.8988165624878119, valid_score: 0.4854851994348641\n",
      "n_cpts: 20, train_score: 0.9105366336248814, valid_score: 0.5164296315988284\n",
      "n_cpts: 21, train_score: 0.9216382930951922, valid_score: 0.4821855516342354\n",
      "n_cpts: 22, train_score: 0.9334319516650847, valid_score: 0.5309745380447501\n",
      "n_cpts: 23, train_score: 0.9414754495229857, valid_score: 0.5021026744802835\n",
      "n_cpts: 24, train_score: 0.9496352877874935, valid_score: 0.4782423899740865\n",
      "n_cpts: 25, train_score: 0.9531323337843497, valid_score: 0.48967988197782497\n",
      "n_cpts: 26, train_score: 0.9554450255940864, valid_score: 0.4840701266422671\n",
      "n_cpts: 27, train_score: 0.9584268424719475, valid_score: 0.4953323585071949\n",
      "n_cpts: 28, train_score: 0.9613631995468036, valid_score: 0.4724361597807868\n",
      "n_cpts: 29, train_score: 0.9640288088195803, valid_score: 0.4541954297016627\n",
      "--------------------------------------------------------------------------------\n",
      "cs137\n",
      "--------------------------------------------------------------------------------\n",
      "skewness: 6.908558522590631\n",
      "# of training samples: 2820, 2820\n",
      "# of valid samples: 700\n",
      "n_cpts: 2, train_score: 0.26957377103824265, valid_score: 0.38997128028365813\n",
      "n_cpts: 3, train_score: 0.3443214555456954, valid_score: 0.4606774061670823\n",
      "n_cpts: 4, train_score: 0.3821675995078453, valid_score: 0.4885880794865024\n",
      "n_cpts: 5, train_score: 0.4340112363071533, valid_score: 0.44165148998777526\n",
      "n_cpts: 6, train_score: 0.4931653354716191, valid_score: 0.450683784986323\n",
      "n_cpts: 7, train_score: 0.5294517865214968, valid_score: 0.5058167898218315\n",
      "n_cpts: 8, train_score: 0.5560025429235733, valid_score: 0.4837920985666895\n",
      "n_cpts: 9, train_score: 0.6073577506284475, valid_score: 0.45246609477721034\n",
      "n_cpts: 10, train_score: 0.6412277703155862, valid_score: 0.48568533342097464\n",
      "n_cpts: 11, train_score: 0.6723731018180577, valid_score: 0.4780363326970781\n",
      "n_cpts: 12, train_score: 0.7235006352021703, valid_score: 0.4067882318878795\n",
      "n_cpts: 13, train_score: 0.7543091312600119, valid_score: 0.3241094174218794\n",
      "n_cpts: 14, train_score: 0.7701211133006122, valid_score: 0.28278249792525745\n",
      "n_cpts: 15, train_score: 0.7932766760220982, valid_score: 0.25245757593683604\n",
      "n_cpts: 16, train_score: 0.8167723450880473, valid_score: 0.29301179255891363\n",
      "n_cpts: 17, train_score: 0.8318052014263358, valid_score: 0.3083518823271182\n",
      "n_cpts: 18, train_score: 0.8464212965045137, valid_score: 0.29525562701025043\n",
      "n_cpts: 19, train_score: 0.8646303161281478, valid_score: 0.18821431377230746\n",
      "n_cpts: 20, train_score: 0.8769625690328107, valid_score: 0.2192422903097856\n",
      "n_cpts: 21, train_score: 0.88462035023243, valid_score: 0.20731246365950873\n",
      "n_cpts: 22, train_score: 0.8948880280460817, valid_score: 0.17102303237290606\n",
      "n_cpts: 23, train_score: 0.9026217727334828, valid_score: 0.1250057850668702\n",
      "n_cpts: 24, train_score: 0.9092635050522776, valid_score: 0.07910536679670321\n",
      "n_cpts: 25, train_score: 0.9167633442383366, valid_score: 0.10050429750679835\n",
      "n_cpts: 26, train_score: 0.9255934522479965, valid_score: 0.20983305414574027\n",
      "n_cpts: 27, train_score: 0.9299078658693386, valid_score: 0.20292272574602743\n",
      "n_cpts: 28, train_score: 0.934328647455355, valid_score: 0.1980677834209733\n",
      "n_cpts: 29, train_score: 0.9393451299660958, valid_score: 0.1402301521452073\n",
      "--------------------------------------------------------------------------------\n",
      "cs137_total\n",
      "--------------------------------------------------------------------------------\n",
      "skewness: 1.255593797128972\n",
      "# of training samples: 2820, 2820\n",
      "# of valid samples: 700\n",
      "n_cpts: 2, train_score: 0.2331957441616307, valid_score: 0.3032221930773742\n",
      "n_cpts: 3, train_score: 0.3316120382268898, valid_score: 0.3799234244145768\n",
      "n_cpts: 4, train_score: 0.37190159269217915, valid_score: 0.36647820688065225\n",
      "n_cpts: 5, train_score: 0.40949463357491533, valid_score: 0.3316256725668092\n",
      "n_cpts: 6, train_score: 0.4390106335992978, valid_score: 0.38271420189166316\n",
      "n_cpts: 7, train_score: 0.4741587043418708, valid_score: 0.4046382894065731\n",
      "n_cpts: 8, train_score: 0.5168971595255624, valid_score: 0.39816349719204847\n",
      "n_cpts: 9, train_score: 0.5486449526499397, valid_score: 0.40270804066880883\n",
      "n_cpts: 10, train_score: 0.5981177207532868, valid_score: 0.3397285272980378\n"
     ]
    },
    {
     "name": "stdout",
     "output_type": "stream",
     "text": [
      "n_cpts: 11, train_score: 0.620246361175167, valid_score: 0.31386402330506236\n",
      "n_cpts: 12, train_score: 0.6506800690357187, valid_score: 0.18254409876441424\n",
      "n_cpts: 13, train_score: 0.7036186595545195, valid_score: 0.14495472798078346\n",
      "n_cpts: 14, train_score: 0.7393887171750884, valid_score: 0.12189723951452036\n",
      "n_cpts: 15, train_score: 0.7542477155168943, valid_score: 0.0999784492686947\n",
      "n_cpts: 16, train_score: 0.7766046886068073, valid_score: 0.15964509058577303\n",
      "n_cpts: 17, train_score: 0.811347141204148, valid_score: 0.14353655478699245\n",
      "n_cpts: 18, train_score: 0.8267018092766318, valid_score: 0.16291321098281697\n",
      "n_cpts: 19, train_score: 0.8351687214796284, valid_score: 0.18011701153174253\n",
      "n_cpts: 20, train_score: 0.8455418379609687, valid_score: 0.14956059631076668\n",
      "n_cpts: 21, train_score: 0.855612677156101, valid_score: 0.12851655009601803\n",
      "n_cpts: 22, train_score: 0.8702205829188614, valid_score: 0.07260559601665384\n",
      "n_cpts: 23, train_score: 0.8801034241502798, valid_score: 0.014273051855381413\n",
      "n_cpts: 24, train_score: 0.8897181794779192, valid_score: 0.02679310021305159\n",
      "n_cpts: 25, train_score: 0.902186561706139, valid_score: 0.005835086049579941\n",
      "n_cpts: 26, train_score: 0.9115873142848263, valid_score: 0.013666906080439079\n",
      "n_cpts: 27, train_score: 0.9172090764271238, valid_score: 0.008739254341700198\n",
      "n_cpts: 28, train_score: 0.9264526872714969, valid_score: -0.026732973005902272\n",
      "n_cpts: 29, train_score: 0.9318661617353335, valid_score: -0.015485799005840128\n",
      "--------------------------------------------------------------------------------\n",
      "ex_cs137\n",
      "--------------------------------------------------------------------------------\n",
      "skewness: 2.8045941473507594\n",
      "# of training samples: 2520, 2520\n",
      "# of valid samples: 600\n",
      "n_cpts: 2, train_score: 0.1971883923403358, valid_score: 0.03971334982701358\n",
      "n_cpts: 3, train_score: 0.2576136264477549, valid_score: 0.13593771250363107\n",
      "n_cpts: 4, train_score: 0.31534434510288367, valid_score: 0.24372755979805028\n",
      "n_cpts: 5, train_score: 0.3889303476550974, valid_score: 0.28519703614918335\n",
      "n_cpts: 6, train_score: 0.4348345191501263, valid_score: 0.2604433864220912\n",
      "n_cpts: 7, train_score: 0.475079531692845, valid_score: 0.22810227672743444\n",
      "n_cpts: 8, train_score: 0.5082362381197033, valid_score: 0.32676138164082746\n",
      "n_cpts: 9, train_score: 0.5503365806794482, valid_score: 0.22166680900706348\n",
      "n_cpts: 10, train_score: 0.6087376544826169, valid_score: 0.4011868291583687\n",
      "n_cpts: 11, train_score: 0.631549383402962, valid_score: 0.4082363503497226\n",
      "n_cpts: 12, train_score: 0.6660179185384889, valid_score: 0.3216217054189424\n",
      "n_cpts: 13, train_score: 0.6870773094359288, valid_score: 0.3387709876825006\n",
      "n_cpts: 14, train_score: 0.7324808521573571, valid_score: 0.2854931847947576\n",
      "n_cpts: 15, train_score: 0.7804923768529225, valid_score: 0.289101810848972\n",
      "n_cpts: 16, train_score: 0.8063608365984859, valid_score: 0.33545150028789217\n",
      "n_cpts: 17, train_score: 0.8230339847435867, valid_score: 0.4072619287659738\n",
      "n_cpts: 18, train_score: 0.838433526688322, valid_score: 0.4628665935213362\n",
      "n_cpts: 19, train_score: 0.8567496077005134, valid_score: 0.4986447616454688\n",
      "n_cpts: 20, train_score: 0.8728085626994967, valid_score: 0.4393777734137798\n",
      "n_cpts: 21, train_score: 0.8851523313965745, valid_score: 0.41280614464409027\n",
      "n_cpts: 22, train_score: 0.8978386782953964, valid_score: 0.41709259915709473\n",
      "n_cpts: 23, train_score: 0.9060970721192763, valid_score: 0.384301828944982\n",
      "n_cpts: 24, train_score: 0.9130999647682461, valid_score: 0.3116212114092912\n",
      "n_cpts: 25, train_score: 0.9195882699990149, valid_score: 0.3604795121782627\n",
      "n_cpts: 26, train_score: 0.926819021956109, valid_score: 0.341837701551594\n",
      "n_cpts: 27, train_score: 0.933640044101042, valid_score: 0.3543401506681876\n",
      "n_cpts: 28, train_score: 0.9380441155227329, valid_score: 0.3271454540606469\n",
      "n_cpts: 29, train_score: 0.9438950334372588, valid_score: 0.3202414660530365\n",
      "--------------------------------------------------------------------------------\n",
      "ex_k2o\n",
      "--------------------------------------------------------------------------------\n",
      "skewness: 0.9274474738646115\n",
      "# of training samples: 2820, 2820\n",
      "# of valid samples: 700\n",
      "n_cpts: 2, train_score: 0.19326397618380253, valid_score: -0.2006785438647367\n",
      "n_cpts: 3, train_score: 0.237730669297041, valid_score: -0.07104662448685062\n",
      "n_cpts: 4, train_score: 0.30171197873626776, valid_score: 0.0852129192939115\n",
      "n_cpts: 5, train_score: 0.35304331207805684, valid_score: 0.08174985975825677\n",
      "n_cpts: 6, train_score: 0.40376538615016955, valid_score: 0.1872861286993721\n",
      "n_cpts: 7, train_score: 0.43352383187931, valid_score: 0.19453245523961116\n",
      "n_cpts: 8, train_score: 0.4779693650805883, valid_score: 0.23511583156134164\n",
      "n_cpts: 9, train_score: 0.5099793488990723, valid_score: 0.2015722075236287\n",
      "n_cpts: 10, train_score: 0.5586490012065686, valid_score: 0.307868787251651\n",
      "n_cpts: 11, train_score: 0.5860984250578356, valid_score: 0.304658796229788\n",
      "n_cpts: 12, train_score: 0.6494846170138296, valid_score: 0.14527715961582266\n",
      "n_cpts: 13, train_score: 0.6711293280651711, valid_score: 0.11838000941470306\n",
      "n_cpts: 14, train_score: 0.6965487887610409, valid_score: 0.0006602544124213461\n",
      "n_cpts: 15, train_score: 0.7205159139029946, valid_score: 0.10596094991091731\n",
      "n_cpts: 16, train_score: 0.7409363092009482, valid_score: 0.07851399231879497\n",
      "n_cpts: 17, train_score: 0.7748065366370531, valid_score: -0.004912946521750783\n",
      "n_cpts: 18, train_score: 0.7930628380574668, valid_score: -0.06314668490516473\n",
      "n_cpts: 19, train_score: 0.8076435799175692, valid_score: -0.2115156724056788\n",
      "n_cpts: 20, train_score: 0.8211123119899468, valid_score: -0.2789660072897453\n",
      "n_cpts: 21, train_score: 0.8496666662456211, valid_score: -0.25362183648775094\n",
      "n_cpts: 22, train_score: 0.8606429004080702, valid_score: -0.1905008035068696\n",
      "n_cpts: 23, train_score: 0.871127066763191, valid_score: -0.22042969220911224\n",
      "n_cpts: 24, train_score: 0.8839283690406663, valid_score: -0.2239337994305246\n",
      "n_cpts: 25, train_score: 0.8910891125944922, valid_score: -0.23856396414355618\n",
      "n_cpts: 26, train_score: 0.9005646914128767, valid_score: -0.1997061518979375\n",
      "n_cpts: 27, train_score: 0.9074551921004907, valid_score: -0.23097788399148955\n",
      "n_cpts: 28, train_score: 0.9171313929295728, valid_score: -0.24469346746479315\n",
      "n_cpts: 29, train_score: 0.9256481023918915, valid_score: -0.31885114228960787\n",
      "--------------------------------------------------------------------------------\n",
      "ph\n",
      "--------------------------------------------------------------------------------\n",
      "skewness: 0.35251555052798517\n",
      "# of training samples: 2820, 2820\n",
      "# of valid samples: 700\n",
      "n_cpts: 2, train_score: 0.42170516178038375, valid_score: 0.5049549720688702\n",
      "n_cpts: 3, train_score: 0.5122092318039063, valid_score: 0.5110421967036249\n",
      "n_cpts: 4, train_score: 0.558774633112824, valid_score: 0.5293122340706884\n",
      "n_cpts: 5, train_score: 0.6157225667379702, valid_score: 0.43650081331975854\n",
      "n_cpts: 6, train_score: 0.6633536669485576, valid_score: 0.41374032856963494\n",
      "n_cpts: 7, train_score: 0.7104789052217012, valid_score: 0.350449111350269\n",
      "n_cpts: 8, train_score: 0.7488886680985355, valid_score: 0.4416275282413106\n",
      "n_cpts: 9, train_score: 0.7704954437242444, valid_score: 0.46860520456764787\n",
      "n_cpts: 10, train_score: 0.802397360339826, valid_score: 0.4862363610013948\n",
      "n_cpts: 11, train_score: 0.8172246119721853, valid_score: 0.5224274235306392\n",
      "n_cpts: 12, train_score: 0.8319045845797777, valid_score: 0.5269052920914792\n",
      "n_cpts: 13, train_score: 0.8491390546758562, valid_score: 0.5365497908422427\n",
      "n_cpts: 14, train_score: 0.8671274222897142, valid_score: 0.5957500403883556\n",
      "n_cpts: 15, train_score: 0.88052130821341, valid_score: 0.6437053447777275\n",
      "n_cpts: 16, train_score: 0.8904768135635177, valid_score: 0.6464172331024506\n",
      "n_cpts: 17, train_score: 0.9049611366675628, valid_score: 0.6158472336832421\n",
      "n_cpts: 18, train_score: 0.9143707170805218, valid_score: 0.6008204099738397\n",
      "n_cpts: 19, train_score: 0.9251558082181471, valid_score: 0.6323368421058891\n",
      "n_cpts: 20, train_score: 0.9360706098139384, valid_score: 0.6550754090920717\n",
      "n_cpts: 21, train_score: 0.9427948123382257, valid_score: 0.6284479469302151\n",
      "n_cpts: 22, train_score: 0.949268983076901, valid_score: 0.6555013786396309\n",
      "n_cpts: 23, train_score: 0.9545054659152258, valid_score: 0.6133241667822724\n"
     ]
    },
    {
     "name": "stdout",
     "output_type": "stream",
     "text": [
      "n_cpts: 24, train_score: 0.9575524979811044, valid_score: 0.5899559121411132\n",
      "n_cpts: 25, train_score: 0.9606094265460294, valid_score: 0.5697793707640891\n",
      "n_cpts: 26, train_score: 0.9647505959384981, valid_score: 0.5291264543839935\n",
      "n_cpts: 27, train_score: 0.9674691678448303, valid_score: 0.5003364485031367\n",
      "n_cpts: 28, train_score: 0.971313652356311, valid_score: 0.47796803021836265\n",
      "n_cpts: 29, train_score: 0.9735065275944128, valid_score: 0.4719570228705172\n",
      "--------------------------------------------------------------------------------\n",
      "c\n",
      "--------------------------------------------------------------------------------\n",
      "skewness: 1.0779575228438951\n",
      "# of training samples: 2720, 2720\n",
      "# of valid samples: 660\n",
      "n_cpts: 2, train_score: 0.7773766092607226, valid_score: 0.6760674891090016\n",
      "n_cpts: 3, train_score: 0.8092518580558121, valid_score: 0.667864547824558\n",
      "n_cpts: 4, train_score: 0.8423223794807729, valid_score: 0.7017880883932962\n",
      "n_cpts: 5, train_score: 0.8656861541755521, valid_score: 0.7015259615411542\n",
      "n_cpts: 6, train_score: 0.8745572167797392, valid_score: 0.7094266667991249\n",
      "n_cpts: 7, train_score: 0.8864062031570492, valid_score: 0.7072586094581328\n",
      "n_cpts: 8, train_score: 0.8920017876575217, valid_score: 0.7197184053657535\n",
      "n_cpts: 9, train_score: 0.9014568268932726, valid_score: 0.6854251584770066\n",
      "n_cpts: 10, train_score: 0.9078347538958939, valid_score: 0.6759531466448979\n",
      "n_cpts: 11, train_score: 0.9159458634719388, valid_score: 0.7033457958140921\n",
      "n_cpts: 12, train_score: 0.9276218524912121, valid_score: 0.720704166333706\n",
      "n_cpts: 13, train_score: 0.9355748768326415, valid_score: 0.7137418872557937\n",
      "n_cpts: 14, train_score: 0.939892927712371, valid_score: 0.7128528141390043\n",
      "n_cpts: 15, train_score: 0.9433756856264996, valid_score: 0.7152721162239406\n",
      "n_cpts: 16, train_score: 0.9483423128074878, valid_score: 0.6894803702106193\n",
      "n_cpts: 17, train_score: 0.9526701400598865, valid_score: 0.6884623163709161\n",
      "n_cpts: 18, train_score: 0.9565199651753165, valid_score: 0.6708304919763304\n",
      "n_cpts: 19, train_score: 0.9603405209694643, valid_score: 0.6683248640940957\n",
      "n_cpts: 20, train_score: 0.9648569275346832, valid_score: 0.6717769907478981\n",
      "n_cpts: 21, train_score: 0.9682342713916534, valid_score: 0.6660135066931989\n",
      "n_cpts: 22, train_score: 0.972449910288715, valid_score: 0.6668481708393577\n",
      "n_cpts: 23, train_score: 0.9749728648834423, valid_score: 0.6709918408531708\n",
      "n_cpts: 24, train_score: 0.9783215466152411, valid_score: 0.6664008825928691\n",
      "n_cpts: 25, train_score: 0.9802914742136594, valid_score: 0.6570191887294423\n",
      "n_cpts: 26, train_score: 0.9815042362094556, valid_score: 0.666885678898687\n",
      "n_cpts: 27, train_score: 0.9824831885887502, valid_score: 0.6716337587013533\n",
      "n_cpts: 28, train_score: 0.9836914662123234, valid_score: 0.6775618050841781\n",
      "n_cpts: 29, train_score: 0.9845203684696276, valid_score: 0.6828952613248025\n",
      "--------------------------------------------------------------------------------\n",
      "n\n",
      "--------------------------------------------------------------------------------\n",
      "skewness: 0.7459388277606892\n",
      "# of training samples: 2720, 2720\n",
      "# of valid samples: 660\n",
      "n_cpts: 2, train_score: 0.7361757710381482, valid_score: 0.6022413124878608\n",
      "n_cpts: 3, train_score: 0.7683011095735203, valid_score: 0.6148199267636453\n",
      "n_cpts: 4, train_score: 0.7987409736310103, valid_score: 0.6613621258421147\n",
      "n_cpts: 5, train_score: 0.8144959446984652, valid_score: 0.6699338772538923\n",
      "n_cpts: 6, train_score: 0.823194571288209, valid_score: 0.6884497626350348\n",
      "n_cpts: 7, train_score: 0.8404552442723126, valid_score: 0.7107466330462884\n",
      "n_cpts: 8, train_score: 0.8585260420392482, valid_score: 0.7360760912300643\n",
      "n_cpts: 9, train_score: 0.877461539021215, valid_score: 0.7502132537374174\n",
      "n_cpts: 10, train_score: 0.8875309080493728, valid_score: 0.7485579195011403\n",
      "n_cpts: 11, train_score: 0.9013048166262493, valid_score: 0.7625616781373332\n",
      "n_cpts: 12, train_score: 0.9073751557931136, valid_score: 0.7754999563709017\n",
      "n_cpts: 13, train_score: 0.9180249312169828, valid_score: 0.7750878061985598\n",
      "n_cpts: 14, train_score: 0.9246997374680659, valid_score: 0.7553269364129102\n",
      "n_cpts: 15, train_score: 0.9318460936419636, valid_score: 0.7590179828218924\n",
      "n_cpts: 16, train_score: 0.9375860769382919, valid_score: 0.7576337651176953\n",
      "n_cpts: 17, train_score: 0.9422725904748468, valid_score: 0.744819353739921\n",
      "n_cpts: 18, train_score: 0.9477083134555426, valid_score: 0.7527985696364811\n",
      "n_cpts: 19, train_score: 0.9543488848256092, valid_score: 0.7422315350606403\n",
      "n_cpts: 20, train_score: 0.9588815925233921, valid_score: 0.7410904486822423\n",
      "n_cpts: 21, train_score: 0.9634617460384739, valid_score: 0.7385308574391187\n",
      "n_cpts: 22, train_score: 0.967218489605061, valid_score: 0.7296249958853673\n",
      "n_cpts: 23, train_score: 0.9700039079457615, valid_score: 0.7249085815713343\n",
      "n_cpts: 24, train_score: 0.9727926628500478, valid_score: 0.7164399439655167\n",
      "n_cpts: 25, train_score: 0.9749587450755802, valid_score: 0.7196919779927454\n",
      "n_cpts: 26, train_score: 0.9778174134342144, valid_score: 0.7103359349869602\n",
      "n_cpts: 27, train_score: 0.9793094689332755, valid_score: 0.7129582584635312\n",
      "n_cpts: 28, train_score: 0.9808517738432525, valid_score: 0.728600134565645\n",
      "n_cpts: 29, train_score: 0.9823531177447026, valid_score: 0.7217610487336985\n",
      "--------------------------------------------------------------------------------\n",
      "c_n_ratio\n",
      "--------------------------------------------------------------------------------\n",
      "skewness: -2.571243326641658\n",
      "# of training samples: 2720, 2720\n",
      "# of valid samples: 660\n",
      "n_cpts: 2, train_score: 0.29217771167090845, valid_score: 0.1862584535145686\n",
      "n_cpts: 3, train_score: 0.3644966811192265, valid_score: 0.08204896034611309\n",
      "n_cpts: 4, train_score: 0.42826150400294516, valid_score: 0.04122262929390619\n",
      "n_cpts: 5, train_score: 0.4692327440095083, valid_score: 0.03971633808592667\n",
      "n_cpts: 6, train_score: 0.5281578790671053, valid_score: 0.030020097357586262\n",
      "n_cpts: 7, train_score: 0.590694115337163, valid_score: 0.22075475228012742\n",
      "n_cpts: 8, train_score: 0.6452322531178989, valid_score: 0.19623278972100866\n",
      "n_cpts: 9, train_score: 0.6951708821579519, valid_score: 0.23875569652525996\n",
      "n_cpts: 10, train_score: 0.7218448339931713, valid_score: 0.28209795488751144\n",
      "n_cpts: 11, train_score: 0.7576309412950003, valid_score: 0.30500313274071666\n",
      "n_cpts: 12, train_score: 0.7925677855511091, valid_score: 0.38526565278074043\n",
      "n_cpts: 13, train_score: 0.8116905146883988, valid_score: 0.4242334433994873\n",
      "n_cpts: 14, train_score: 0.8273308467095674, valid_score: 0.409008847693102\n",
      "n_cpts: 15, train_score: 0.8511462171426927, valid_score: 0.3396442560069475\n",
      "n_cpts: 16, train_score: 0.8680434378115991, valid_score: 0.35287010384198503\n",
      "n_cpts: 17, train_score: 0.8884455997208934, valid_score: 0.3653513443224783\n",
      "n_cpts: 18, train_score: 0.8999329902110311, valid_score: 0.35182808272676935\n",
      "n_cpts: 19, train_score: 0.9108077774785108, valid_score: 0.31851930088120994\n",
      "n_cpts: 20, train_score: 0.9218819677118578, valid_score: 0.31159592809045633\n",
      "n_cpts: 21, train_score: 0.9305426893621349, valid_score: 0.3214423294154577\n",
      "n_cpts: 22, train_score: 0.9389708167227765, valid_score: 0.29274974422054123\n",
      "n_cpts: 23, train_score: 0.9450155019437034, valid_score: 0.27109405480492743\n",
      "n_cpts: 24, train_score: 0.9524455816163493, valid_score: 0.2932588428944295\n",
      "n_cpts: 25, train_score: 0.9555513868159824, valid_score: 0.29132721915165316\n",
      "n_cpts: 26, train_score: 0.9584491103215226, valid_score: 0.2648827714339458\n",
      "n_cpts: 27, train_score: 0.9619144024465703, valid_score: 0.3196263071070594\n",
      "n_cpts: 28, train_score: 0.9637874863177865, valid_score: 0.31853596263965744\n",
      "n_cpts: 29, train_score: 0.9666785698805564, valid_score: 0.29985247247652147\n",
      "--------------------------------------------------------------------------------\n",
      "ex_mgo\n",
      "--------------------------------------------------------------------------------\n",
      "skewness: 3.32907696671459\n",
      "# of training samples: 2820, 2820\n",
      "# of valid samples: 700\n",
      "n_cpts: 2, train_score: 0.6144081089802891, valid_score: 0.4316500464158235\n",
      "n_cpts: 3, train_score: 0.6704277076567515, valid_score: 0.4693772723973476\n",
      "n_cpts: 4, train_score: 0.7053521639091245, valid_score: 0.5309064996567641\n",
      "n_cpts: 5, train_score: 0.7369226841129347, valid_score: 0.5552828646661132\n",
      "n_cpts: 6, train_score: 0.7514444579647411, valid_score: 0.5588075949198865\n"
     ]
    },
    {
     "name": "stdout",
     "output_type": "stream",
     "text": [
      "n_cpts: 7, train_score: 0.7777866939532961, valid_score: 0.6138840137055832\n",
      "n_cpts: 8, train_score: 0.7970592341012461, valid_score: 0.6312488737909224\n",
      "n_cpts: 9, train_score: 0.8188615217679343, valid_score: 0.652126180729963\n",
      "n_cpts: 10, train_score: 0.8424096329052894, valid_score: 0.6218047555176235\n",
      "n_cpts: 11, train_score: 0.857046647502095, valid_score: 0.620976819645197\n",
      "n_cpts: 12, train_score: 0.8718671661279686, valid_score: 0.6069162852727938\n",
      "n_cpts: 13, train_score: 0.8853626472666196, valid_score: 0.6086015338921968\n",
      "n_cpts: 14, train_score: 0.8927577888552978, valid_score: 0.596124242636187\n",
      "n_cpts: 15, train_score: 0.9074578177428178, valid_score: 0.585631155328124\n",
      "n_cpts: 16, train_score: 0.9136900287724807, valid_score: 0.6069172657496291\n",
      "n_cpts: 17, train_score: 0.9280659457794731, valid_score: 0.600958864721644\n",
      "n_cpts: 18, train_score: 0.9353242910143132, valid_score: 0.6023092530568406\n",
      "n_cpts: 19, train_score: 0.9414409887014614, valid_score: 0.5875275730696932\n",
      "n_cpts: 20, train_score: 0.9491258478174489, valid_score: 0.5805044547838065\n",
      "n_cpts: 21, train_score: 0.9546949131506337, valid_score: 0.5580691851496564\n",
      "n_cpts: 22, train_score: 0.9584417094265515, valid_score: 0.5542669135393559\n",
      "n_cpts: 23, train_score: 0.9632176954095356, valid_score: 0.5426113833274757\n",
      "n_cpts: 24, train_score: 0.9665254015708026, valid_score: 0.5390828158617473\n",
      "n_cpts: 25, train_score: 0.9703717408427616, valid_score: 0.5210907556193173\n",
      "n_cpts: 26, train_score: 0.9731076252583709, valid_score: 0.519156737340218\n",
      "n_cpts: 27, train_score: 0.9754111833869432, valid_score: 0.49639303278965996\n",
      "n_cpts: 28, train_score: 0.9771371604169434, valid_score: 0.49277021411607547\n",
      "n_cpts: 29, train_score: 0.9791729748923313, valid_score: 0.4864396531134151\n",
      "--------------------------------------------------------------------------------\n",
      "ex_cao\n",
      "--------------------------------------------------------------------------------\n",
      "skewness: 0.9911637910324237\n",
      "# of training samples: 2820, 2820\n",
      "# of valid samples: 700\n",
      "n_cpts: 2, train_score: 0.5889080127690893, valid_score: 0.5395355312427499\n",
      "n_cpts: 3, train_score: 0.6269414825381081, valid_score: 0.5618858390995096\n",
      "n_cpts: 4, train_score: 0.6853604300093696, valid_score: 0.64089783785979\n",
      "n_cpts: 5, train_score: 0.715356632875868, valid_score: 0.6141124058532159\n",
      "n_cpts: 6, train_score: 0.7383327430942557, valid_score: 0.6592538220774598\n",
      "n_cpts: 7, train_score: 0.770261932937075, valid_score: 0.6573783649387588\n",
      "n_cpts: 8, train_score: 0.7939833065432169, valid_score: 0.6394776981805325\n",
      "n_cpts: 9, train_score: 0.8145801097353309, valid_score: 0.6766734787819086\n",
      "n_cpts: 10, train_score: 0.8383823058756128, valid_score: 0.6658526057070924\n",
      "n_cpts: 11, train_score: 0.8583317402085671, valid_score: 0.7170419396244756\n",
      "n_cpts: 12, train_score: 0.8737266664211063, valid_score: 0.71754641691551\n",
      "n_cpts: 13, train_score: 0.8877569582386058, valid_score: 0.7092667878087915\n",
      "n_cpts: 14, train_score: 0.894624801487991, valid_score: 0.6857074817792179\n",
      "n_cpts: 15, train_score: 0.9041497923978873, valid_score: 0.7435301539028089\n",
      "n_cpts: 16, train_score: 0.9117642347121684, valid_score: 0.7363219815729323\n",
      "n_cpts: 17, train_score: 0.9237666290952159, valid_score: 0.7628995327593434\n",
      "n_cpts: 18, train_score: 0.9312058713939165, valid_score: 0.7663009312103682\n",
      "n_cpts: 19, train_score: 0.9400055870597349, valid_score: 0.7749303922493236\n",
      "n_cpts: 20, train_score: 0.9480500839987338, valid_score: 0.7795471675612241\n",
      "n_cpts: 21, train_score: 0.9536563644908127, valid_score: 0.759111737350442\n",
      "n_cpts: 22, train_score: 0.9595687904301358, valid_score: 0.7565153713617162\n",
      "n_cpts: 23, train_score: 0.9636647993148271, valid_score: 0.7507949543774136\n",
      "n_cpts: 24, train_score: 0.9664515168768428, valid_score: 0.7375213459643915\n",
      "n_cpts: 25, train_score: 0.9708291572796335, valid_score: 0.7400445259905166\n",
      "n_cpts: 26, train_score: 0.9731383041196983, valid_score: 0.7380904617180204\n",
      "n_cpts: 27, train_score: 0.9752067969908303, valid_score: 0.7345754562357407\n",
      "n_cpts: 28, train_score: 0.9768362071774871, valid_score: 0.7169040560135007\n",
      "n_cpts: 29, train_score: 0.9778950768568317, valid_score: 0.7069232324355672\n",
      "--------------------------------------------------------------------------------\n",
      "cec\n",
      "--------------------------------------------------------------------------------\n",
      "skewness: 1.3090191956575177\n",
      "# of training samples: 2820, 2820\n",
      "# of valid samples: 700\n",
      "n_cpts: 2, train_score: 0.5870576004103168, valid_score: 0.42234459768949306\n",
      "n_cpts: 3, train_score: 0.6729428134754956, valid_score: 0.5943851466280563\n",
      "n_cpts: 4, train_score: 0.7193464176219162, valid_score: 0.6537209713511979\n",
      "n_cpts: 5, train_score: 0.7501567139735971, valid_score: 0.7142898780258589\n",
      "n_cpts: 6, train_score: 0.7720678243980655, valid_score: 0.7426189861378665\n",
      "n_cpts: 7, train_score: 0.7920070606404638, valid_score: 0.7452826951989611\n",
      "n_cpts: 8, train_score: 0.8126832048590847, valid_score: 0.7472137931118179\n",
      "n_cpts: 9, train_score: 0.8262209879751913, valid_score: 0.759062730348329\n",
      "n_cpts: 10, train_score: 0.8380090288518138, valid_score: 0.7468517937078364\n",
      "n_cpts: 11, train_score: 0.8510291985422934, valid_score: 0.7742196349209908\n",
      "n_cpts: 12, train_score: 0.867771243923355, valid_score: 0.7695553771096153\n",
      "n_cpts: 13, train_score: 0.8829132084708052, valid_score: 0.7635681806651923\n",
      "n_cpts: 14, train_score: 0.8960608241117134, valid_score: 0.7279227622492445\n",
      "n_cpts: 15, train_score: 0.9048912835860099, valid_score: 0.7157148311046531\n",
      "n_cpts: 16, train_score: 0.9119944806089257, valid_score: 0.7193550855587643\n",
      "n_cpts: 17, train_score: 0.9201230333339381, valid_score: 0.7071460763344068\n",
      "n_cpts: 18, train_score: 0.9286162212235588, valid_score: 0.6873951763321029\n",
      "n_cpts: 19, train_score: 0.935931998152056, valid_score: 0.69091755923831\n",
      "n_cpts: 20, train_score: 0.9442315071025282, valid_score: 0.6671088787248384\n",
      "n_cpts: 21, train_score: 0.9491728130733381, valid_score: 0.6678421968488928\n",
      "n_cpts: 22, train_score: 0.9527126211627825, valid_score: 0.6760689061306145\n",
      "n_cpts: 23, train_score: 0.9562884683560461, valid_score: 0.6614894276178649\n",
      "n_cpts: 24, train_score: 0.9601920186166857, valid_score: 0.6565995020931512\n",
      "n_cpts: 25, train_score: 0.9633548476920798, valid_score: 0.6769659558247336\n",
      "n_cpts: 26, train_score: 0.9664642829452574, valid_score: 0.6758736412033299\n",
      "n_cpts: 27, train_score: 0.9683046244800724, valid_score: 0.675162548214701\n",
      "n_cpts: 28, train_score: 0.9702668686738221, valid_score: 0.6714886429803064\n",
      "n_cpts: 29, train_score: 0.9728285981324875, valid_score: 0.6654793963741665\n"
     ]
    }
   ],
   "source": [
    "summary = {}\n",
    "for i, analyte in enumerate(analytes):\n",
    "    mask = ~np.isnan(y_train[:,i])\n",
    "    skewness = skew(y_train[:,i][mask])\n",
    "    print(80*'-')\n",
    "    print(f'{analyte}')\n",
    "    print(80*'-')\n",
    "    print(f'skewness: {skewness}')\n",
    "\n",
    "    # Filter out 0 and NaN values\n",
    "    mask_train = np.logical_and(y_train[:,i] > 0, ~np.isnan(y_train[:,i]))\n",
    "    mask_valid = np.logical_and(y_valid[:,i] > 0, ~np.isnan(y_valid[:,i]))\n",
    "    \n",
    "    \n",
    "    X_train_clean, y_train_clean = X_train[mask_train,:], y_train[mask_train, i] \n",
    "    X_valid_clean, y_valid_clean = X_valid[mask_valid,:], y_valid[mask_valid, i] \n",
    "  \n",
    "    print(f'# of training samples: {X_train_clean.shape[0]}, {y_train_clean.shape[0]}')\n",
    "    print(f'# of valid samples: {y_valid_clean.shape[0]}')\n",
    "    \n",
    "    if np.abs(skewness) > 0.5:\n",
    "        y_train_clean, y_valid_clean = [np.log10(y) for y in [y_train_clean, y_valid_clean]]\n",
    "\n",
    "    valid_scores = []\n",
    "    for n_cpts in range(2, 30):\n",
    "        m = Pipeline([\n",
    "            #('snv', SNV()),\n",
    "            ('derivative', TakeDerivative()),\n",
    "            #('dropper', DropSpectralRegions(self.X_names, **self.pipeline_kwargs['dropper'])),\n",
    "            ('model', PLSRegression(n_components=n_cpts))])\n",
    "\n",
    "        m.fit(X_train_clean, y_train_clean)\n",
    "        train_score = r2_score(y_train_clean, m.predict(X_train_clean))\n",
    "        valid_score = r2_score(y_valid_clean, m.predict(X_valid_clean))\n",
    "        print(f'n_cpts: {n_cpts}, train_score: {train_score}, valid_score: {valid_score}')\n",
    "        valid_scores.append(valid_score)\n",
    "    summary[analyte] = np.max(np.array(valid_scores))"
   ]
  },
  {
   "cell_type": "code",
   "execution_count": null,
   "id": "d9577d42",
   "metadata": {},
   "outputs": [
    {
     "data": {
      "text/plain": [
       "{'kd_cs133': 0.3184646021623321,\n",
       " 'ex_cs_total_cs_ratio': 0.5309745380447501,\n",
       " 'cs137': 0.5058167898218315,\n",
       " 'cs137_total': 0.4046382894065731,\n",
       " 'ex_cs137': 0.4986447616454688,\n",
       " 'ex_k2o': 0.307868787251651,\n",
       " 'ph': 0.6555013786396309,\n",
       " 'c': 0.720704166333706,\n",
       " 'n': 0.7754999563709017,\n",
       " 'c_n_ratio': 0.4242334433994873,\n",
       " 'ex_mgo': 0.652126180729963,\n",
       " 'ex_cao': 0.7795471675612241,\n",
       " 'cec': 0.7742196349209908}"
      ]
     },
     "execution_count": null,
     "metadata": {},
     "output_type": "execute_result"
    }
   ],
   "source": [
    "summary"
   ]
  },
  {
   "cell_type": "markdown",
   "id": "47f09be2",
   "metadata": {},
   "source": [
    "## Resnet + Transfer Learning"
   ]
  },
  {
   "cell_type": "code",
   "execution_count": null,
   "id": "808ea70b",
   "metadata": {},
   "outputs": [],
   "source": [
    "path = Path('../../_data/seibersdorf-mirs')"
   ]
  },
  {
   "cell_type": "code",
   "execution_count": null,
   "id": "62dc1ba2",
   "metadata": {},
   "outputs": [
    {
     "data": {
      "text/plain": [
       "(#176) [Path('../../_data/seibersdorf-mirs/135'),Path('../../_data/seibersdorf-mirs/95'),Path('../../_data/seibersdorf-mirs/66'),Path('../../_data/seibersdorf-mirs/104'),Path('../../_data/seibersdorf-mirs/68'),Path('../../_data/seibersdorf-mirs/103'),Path('../../_data/seibersdorf-mirs/168'),Path('../../_data/seibersdorf-mirs/157'),Path('../../_data/seibersdorf-mirs/150'),Path('../../_data/seibersdorf-mirs/159')...]"
      ]
     },
     "execution_count": null,
     "metadata": {},
     "output_type": "execute_result"
    }
   ],
   "source": [
    "path.ls()"
   ]
  },
  {
   "cell_type": "code",
   "execution_count": null,
   "id": "83186bd5",
   "metadata": {},
   "outputs": [],
   "source": [
    "#analytes = ['kd_cs133', 'ex_cs_total_cs_ratio', 'cs137', 'cs137_total', \n",
    "#            'ex_cs137', 'ex_k2o', 'ph', 'c', 'n', 'c_n_ratio', 'ex_mgo',\n",
    "#            'ex_cao', 'cec']\n",
    "#analyte = 'ex_k2o'\n",
    "analyte = 'cec'"
   ]
  },
  {
   "cell_type": "code",
   "execution_count": null,
   "id": "e22ce3ec",
   "metadata": {},
   "outputs": [],
   "source": [
    "from spanda.data.transforms.kssl import Spectra"
   ]
  },
  {
   "cell_type": "code",
   "execution_count": null,
   "id": "2492ec7f",
   "metadata": {},
   "outputs": [],
   "source": [
    "@Transform\n",
    "def plateau(x:Spectra) -> Spectra:\n",
    "    val = x[:,1675]\n",
    "    x[:,1675:] = val\n",
    "    return x"
   ]
  },
  {
   "cell_type": "code",
   "execution_count": null,
   "id": "823ea0ee",
   "metadata": {},
   "outputs": [],
   "source": [
    "#x_tfms = [get_spectra_files, to_spectra, rand_w_avg, snv]\n",
    "x_tfms = [get_spectra_files, to_spectra, avg, snv]\n",
    "#y_tfms = [AnalytesTfm(analytes=[analyte]), lambda x: x/10, torch.log10]\n",
    "#y_tfms = [AnalytesTfm(analytes=[analyte]), torch.log10]\n",
    "y_tfms = [AnalytesTfm(analytes=[analyte])]"
   ]
  },
  {
   "cell_type": "code",
   "execution_count": null,
   "id": "1a516911",
   "metadata": {},
   "outputs": [],
   "source": [
    "splits = RandomSplitter(valid_pct=0.2, seed=41)(path.ls())\n",
    "dsets = Datasets(path.ls(), [x_tfms, y_tfms], splits=splits)\n",
    "dls = dsets.dataloaders(bs=16, num_workers=8, drop_last=False)\n",
    "#dls.train.one_batch()[0][0]\n",
    "#dls.train.one_batch()[1]"
   ]
  },
  {
   "cell_type": "code",
   "execution_count": null,
   "id": "2f697c4f",
   "metadata": {},
   "outputs": [],
   "source": [
    "# Pre-trained model\n",
    "model = xresnet18(ndim=1, c_in=1, ks=3, n_out=1).to(device)\n",
    "#weights_paths = '../../_data/models/xresnet18-k-ex-snv-lr-5e-4-r2-0-828.pth'\n",
    "#xresnet_dict = torch.load(weights_paths, map_location=torch.device('cpu')) \n",
    "#model.load_state_dict(xresnet_dict['model'])"
   ]
  },
  {
   "cell_type": "code",
   "execution_count": null,
   "id": "a747f3fe",
   "metadata": {},
   "outputs": [],
   "source": [
    "learn = Learner(dls, model, loss_func=MSELossFlat(), metrics=R2Score())\n",
    "#learn = Learner(dls, model, loss_func=MSELossFlat(), metrics=PearsonCorrCoef())"
   ]
  },
  {
   "cell_type": "code",
   "execution_count": null,
   "id": "8597dc04",
   "metadata": {},
   "outputs": [],
   "source": [
    "#learn.freeze_to(-1)"
   ]
  },
  {
   "cell_type": "code",
   "execution_count": null,
   "id": "06795250",
   "metadata": {},
   "outputs": [
    {
     "data": {
      "text/html": [
       "\n",
       "<style>\n",
       "    /* Turns off some styling */\n",
       "    progress {\n",
       "        /* gets rid of default border in Firefox and Opera. */\n",
       "        border: none;\n",
       "        /* Needs to be in here for Safari polyfill so background images work as expected. */\n",
       "        background-size: auto;\n",
       "    }\n",
       "    progress:not([value]), progress:not([value])::-webkit-progress-bar {\n",
       "        background: repeating-linear-gradient(45deg, #7e7e7e, #7e7e7e 10px, #5c5c5c 10px, #5c5c5c 20px);\n",
       "    }\n",
       "    .progress-bar-interrupted, .progress-bar-interrupted::-webkit-progress-bar {\n",
       "        background: #F44336;\n",
       "    }\n",
       "</style>\n"
      ],
      "text/plain": [
       "<IPython.core.display.HTML object>"
      ]
     },
     "metadata": {},
     "output_type": "display_data"
    },
    {
     "data": {
      "text/html": [],
      "text/plain": [
       "<IPython.core.display.HTML object>"
      ]
     },
     "metadata": {},
     "output_type": "display_data"
    },
    {
     "data": {
      "text/plain": [
       "SuggestedLRs(valley=0.004365158267319202)"
      ]
     },
     "execution_count": null,
     "metadata": {},
     "output_type": "execute_result"
    },
    {
     "data": {
      "image/png": "[encoded data removed]",
      "text/plain": [
       "<Figure size 640x480 with 1 Axes>"
      ]
     },
     "metadata": {},
     "output_type": "display_data"
    }
   ],
   "source": [
    "learn.lr_find()"
   ]
  },
  {
   "cell_type": "code",
   "execution_count": null,
   "id": "37f684e9",
   "metadata": {},
   "outputs": [
    {
     "data": {
      "text/html": [
       "\n",
       "<style>\n",
       "    /* Turns off some styling */\n",
       "    progress {\n",
       "        /* gets rid of default border in Firefox and Opera. */\n",
       "        border: none;\n",
       "        /* Needs to be in here for Safari polyfill so background images work as expected. */\n",
       "        background-size: auto;\n",
       "    }\n",
       "    progress:not([value]), progress:not([value])::-webkit-progress-bar {\n",
       "        background: repeating-linear-gradient(45deg, #7e7e7e, #7e7e7e 10px, #5c5c5c 10px, #5c5c5c 20px);\n",
       "    }\n",
       "    .progress-bar-interrupted, .progress-bar-interrupted::-webkit-progress-bar {\n",
       "        background: #F44336;\n",
       "    }\n",
       "</style>\n"
      ],
      "text/plain": [
       "<IPython.core.display.HTML object>"
      ]
     },
     "metadata": {},
     "output_type": "display_data"
    },
    {
     "data": {
      "text/html": [
       "<table border=\"1\" class=\"dataframe\">\n",
       "  <thead>\n",
       "    <tr style=\"text-align: left;\">\n",
       "      <th>epoch</th>\n",
       "      <th>train_loss</th>\n",
       "      <th>valid_loss</th>\n",
       "      <th>r2_score</th>\n",
       "      <th>time</th>\n",
       "    </tr>\n",
       "  </thead>\n",
       "  <tbody>\n",
       "    <tr>\n",
       "      <td>0</td>\n",
       "      <td>28.375093</td>\n",
       "      <td>47.061592</td>\n",
       "      <td>0.144546</td>\n",
       "      <td>00:10</td>\n",
       "    </tr>\n",
       "    <tr>\n",
       "      <td>1</td>\n",
       "      <td>29.372705</td>\n",
       "      <td>52.447330</td>\n",
       "      <td>0.046648</td>\n",
       "      <td>00:10</td>\n",
       "    </tr>\n",
       "    <tr>\n",
       "      <td>2</td>\n",
       "      <td>29.115891</td>\n",
       "      <td>44.903656</td>\n",
       "      <td>0.183771</td>\n",
       "      <td>00:10</td>\n",
       "    </tr>\n",
       "    <tr>\n",
       "      <td>3</td>\n",
       "      <td>29.703041</td>\n",
       "      <td>61.128357</td>\n",
       "      <td>-0.111150</td>\n",
       "      <td>00:11</td>\n",
       "    </tr>\n",
       "    <tr>\n",
       "      <td>4</td>\n",
       "      <td>29.523506</td>\n",
       "      <td>68.620377</td>\n",
       "      <td>-0.247335</td>\n",
       "      <td>00:10</td>\n",
       "    </tr>\n",
       "    <tr>\n",
       "      <td>5</td>\n",
       "      <td>29.791254</td>\n",
       "      <td>52.177109</td>\n",
       "      <td>0.051559</td>\n",
       "      <td>00:12</td>\n",
       "    </tr>\n",
       "    <tr>\n",
       "      <td>6</td>\n",
       "      <td>29.701992</td>\n",
       "      <td>46.274677</td>\n",
       "      <td>0.158850</td>\n",
       "      <td>00:10</td>\n",
       "    </tr>\n",
       "    <tr>\n",
       "      <td>7</td>\n",
       "      <td>30.138176</td>\n",
       "      <td>54.685246</td>\n",
       "      <td>0.005968</td>\n",
       "      <td>00:11</td>\n",
       "    </tr>\n",
       "    <tr>\n",
       "      <td>8</td>\n",
       "      <td>29.932650</td>\n",
       "      <td>57.694504</td>\n",
       "      <td>-0.048732</td>\n",
       "      <td>00:11</td>\n",
       "    </tr>\n",
       "    <tr>\n",
       "      <td>9</td>\n",
       "      <td>30.066675</td>\n",
       "      <td>93.262825</td>\n",
       "      <td>-0.695269</td>\n",
       "      <td>00:10</td>\n",
       "    </tr>\n",
       "    <tr>\n",
       "      <td>10</td>\n",
       "      <td>29.701572</td>\n",
       "      <td>48.216461</td>\n",
       "      <td>0.123554</td>\n",
       "      <td>00:10</td>\n",
       "    </tr>\n",
       "    <tr>\n",
       "      <td>11</td>\n",
       "      <td>29.149734</td>\n",
       "      <td>220.115692</td>\n",
       "      <td>-3.001115</td>\n",
       "      <td>00:10</td>\n",
       "    </tr>\n",
       "    <tr>\n",
       "      <td>12</td>\n",
       "      <td>29.231421</td>\n",
       "      <td>83.224419</td>\n",
       "      <td>-0.512798</td>\n",
       "      <td>00:10</td>\n",
       "    </tr>\n",
       "    <tr>\n",
       "      <td>13</td>\n",
       "      <td>29.050695</td>\n",
       "      <td>57.590889</td>\n",
       "      <td>-0.046849</td>\n",
       "      <td>00:10</td>\n",
       "    </tr>\n",
       "    <tr>\n",
       "      <td>14</td>\n",
       "      <td>29.209394</td>\n",
       "      <td>100.448517</td>\n",
       "      <td>-0.825886</td>\n",
       "      <td>00:10</td>\n",
       "    </tr>\n",
       "    <tr>\n",
       "      <td>15</td>\n",
       "      <td>28.706482</td>\n",
       "      <td>163.205933</td>\n",
       "      <td>-1.966648</td>\n",
       "      <td>00:10</td>\n",
       "    </tr>\n",
       "    <tr>\n",
       "      <td>16</td>\n",
       "      <td>28.341440</td>\n",
       "      <td>99.211304</td>\n",
       "      <td>-0.803397</td>\n",
       "      <td>00:10</td>\n",
       "    </tr>\n",
       "    <tr>\n",
       "      <td>17</td>\n",
       "      <td>27.993141</td>\n",
       "      <td>49.649895</td>\n",
       "      <td>0.097498</td>\n",
       "      <td>00:11</td>\n",
       "    </tr>\n",
       "    <tr>\n",
       "      <td>18</td>\n",
       "      <td>26.943813</td>\n",
       "      <td>72.182098</td>\n",
       "      <td>-0.312078</td>\n",
       "      <td>00:10</td>\n",
       "    </tr>\n",
       "    <tr>\n",
       "      <td>19</td>\n",
       "      <td>26.734411</td>\n",
       "      <td>46.330502</td>\n",
       "      <td>0.157835</td>\n",
       "      <td>00:10</td>\n",
       "    </tr>\n",
       "    <tr>\n",
       "      <td>20</td>\n",
       "      <td>26.081007</td>\n",
       "      <td>43.556263</td>\n",
       "      <td>0.208264</td>\n",
       "      <td>00:11</td>\n",
       "    </tr>\n",
       "    <tr>\n",
       "      <td>21</td>\n",
       "      <td>25.460873</td>\n",
       "      <td>43.053452</td>\n",
       "      <td>0.217403</td>\n",
       "      <td>00:11</td>\n",
       "    </tr>\n",
       "    <tr>\n",
       "      <td>22</td>\n",
       "      <td>24.458431</td>\n",
       "      <td>53.937458</td>\n",
       "      <td>0.019561</td>\n",
       "      <td>00:11</td>\n",
       "    </tr>\n",
       "    <tr>\n",
       "      <td>23</td>\n",
       "      <td>23.399681</td>\n",
       "      <td>43.657345</td>\n",
       "      <td>0.206426</td>\n",
       "      <td>00:11</td>\n",
       "    </tr>\n",
       "    <tr>\n",
       "      <td>24</td>\n",
       "      <td>22.259808</td>\n",
       "      <td>41.008125</td>\n",
       "      <td>0.254582</td>\n",
       "      <td>00:10</td>\n",
       "    </tr>\n",
       "    <tr>\n",
       "      <td>25</td>\n",
       "      <td>21.519804</td>\n",
       "      <td>39.616241</td>\n",
       "      <td>0.279882</td>\n",
       "      <td>00:11</td>\n",
       "    </tr>\n",
       "    <tr>\n",
       "      <td>26</td>\n",
       "      <td>20.269457</td>\n",
       "      <td>53.143047</td>\n",
       "      <td>0.034001</td>\n",
       "      <td>00:10</td>\n",
       "    </tr>\n",
       "    <tr>\n",
       "      <td>27</td>\n",
       "      <td>19.315565</td>\n",
       "      <td>38.170109</td>\n",
       "      <td>0.306169</td>\n",
       "      <td>00:11</td>\n",
       "    </tr>\n",
       "    <tr>\n",
       "      <td>28</td>\n",
       "      <td>18.100901</td>\n",
       "      <td>35.339413</td>\n",
       "      <td>0.357624</td>\n",
       "      <td>00:10</td>\n",
       "    </tr>\n",
       "    <tr>\n",
       "      <td>29</td>\n",
       "      <td>17.157122</td>\n",
       "      <td>37.630833</td>\n",
       "      <td>0.315972</td>\n",
       "      <td>00:10</td>\n",
       "    </tr>\n",
       "    <tr>\n",
       "      <td>30</td>\n",
       "      <td>16.284376</td>\n",
       "      <td>35.498329</td>\n",
       "      <td>0.354735</td>\n",
       "      <td>00:10</td>\n",
       "    </tr>\n",
       "    <tr>\n",
       "      <td>31</td>\n",
       "      <td>15.408149</td>\n",
       "      <td>42.140667</td>\n",
       "      <td>0.233995</td>\n",
       "      <td>00:10</td>\n",
       "    </tr>\n",
       "    <tr>\n",
       "      <td>32</td>\n",
       "      <td>14.666730</td>\n",
       "      <td>34.242924</td>\n",
       "      <td>0.377555</td>\n",
       "      <td>00:10</td>\n",
       "    </tr>\n",
       "    <tr>\n",
       "      <td>33</td>\n",
       "      <td>13.728579</td>\n",
       "      <td>36.763779</td>\n",
       "      <td>0.331733</td>\n",
       "      <td>00:10</td>\n",
       "    </tr>\n",
       "    <tr>\n",
       "      <td>34</td>\n",
       "      <td>12.813828</td>\n",
       "      <td>36.581627</td>\n",
       "      <td>0.335044</td>\n",
       "      <td>00:10</td>\n",
       "    </tr>\n",
       "    <tr>\n",
       "      <td>35</td>\n",
       "      <td>12.061052</td>\n",
       "      <td>33.495766</td>\n",
       "      <td>0.391136</td>\n",
       "      <td>00:10</td>\n",
       "    </tr>\n",
       "    <tr>\n",
       "      <td>36</td>\n",
       "      <td>11.333136</td>\n",
       "      <td>32.025459</td>\n",
       "      <td>0.417863</td>\n",
       "      <td>00:10</td>\n",
       "    </tr>\n",
       "    <tr>\n",
       "      <td>37</td>\n",
       "      <td>10.674999</td>\n",
       "      <td>31.640245</td>\n",
       "      <td>0.424865</td>\n",
       "      <td>00:10</td>\n",
       "    </tr>\n",
       "    <tr>\n",
       "      <td>38</td>\n",
       "      <td>9.988719</td>\n",
       "      <td>31.589491</td>\n",
       "      <td>0.425787</td>\n",
       "      <td>00:10</td>\n",
       "    </tr>\n",
       "    <tr>\n",
       "      <td>39</td>\n",
       "      <td>9.558793</td>\n",
       "      <td>31.600250</td>\n",
       "      <td>0.425592</td>\n",
       "      <td>00:10</td>\n",
       "    </tr>\n",
       "  </tbody>\n",
       "</table>"
      ],
      "text/plain": [
       "<IPython.core.display.HTML object>"
      ]
     },
     "metadata": {},
     "output_type": "display_data"
    }
   ],
   "source": [
    "learn.fit_one_cycle(40, 4e-3)"
   ]
  },
  {
   "cell_type": "code",
   "execution_count": null,
   "id": "583c1ce6",
   "metadata": {},
   "outputs": [
    {
     "data": {
      "text/plain": [
       "0.2449489742783178"
      ]
     },
     "execution_count": null,
     "metadata": {},
     "output_type": "execute_result"
    }
   ],
   "source": [
    "np.sqrt(0.06)"
   ]
  },
  {
   "cell_type": "code",
   "execution_count": null,
   "id": "ccecdd9c",
   "metadata": {},
   "outputs": [
    {
     "data": {
      "text/plain": [
       "0.16615733402191213"
      ]
     },
     "execution_count": null,
     "metadata": {},
     "output_type": "execute_result"
    }
   ],
   "source": [
    "# Eval on Valid\n",
    "#x_tfms = [get_spectra_files, to_spectra, rand_w_avg, snv]\n",
    "x_tfms = [get_spectra_files, to_spectra, avg, snv]\n",
    "y_tfms = [AnalytesTfm(analytes=[analyte]), torch.log10]\n",
    "\n",
    "#x_tfms = [get_spectra_files, to_spectra, avg, plateau, snv]\n",
    "#y_tfms = [AnalytesTfm(analytes=[analyte]), torch.log10]\n",
    "\n",
    "splits = RandomSplitter(valid_pct=0.2, seed=41)(path.ls())\n",
    "dsets = Datasets(path.ls(), [x_tfms, y_tfms], splits=splits)\n",
    "dls = dsets.dataloaders(bs=256, drop_last=True, shuffle=False)\n",
    "\n",
    "#dsets = Datasets((path / 'train').ls(), [x_tfms, y_tfms], splits=splits)\n",
    "#dls = dsets.dataloaders(bs=64, num_workers=8, drop_last=False, shuffle=False)\n",
    "\n",
    "y_train_hat = learn.model(dls.valid.one_batch()[0]).detach().numpy()\n",
    "y_train_true = dls.valid.one_batch()[1].numpy()\n",
    "\n",
    "r2_score(y_train_true, y_train_hat)"
   ]
  },
  {
   "cell_type": "code",
   "execution_count": null,
   "id": "5fc14e88",
   "metadata": {},
   "outputs": [
    {
     "data": {
      "text/plain": [
       "0.021605065"
      ]
     },
     "execution_count": null,
     "metadata": {},
     "output_type": "execute_result"
    }
   ],
   "source": [
    "((y_train_true - y_train_hat)**2).mean()"
   ]
  },
  {
   "cell_type": "code",
   "execution_count": null,
   "id": "9beb87ad",
   "metadata": {},
   "outputs": [
    {
     "data": {
      "text/plain": [
       "1.2964761"
      ]
     },
     "execution_count": null,
     "metadata": {},
     "output_type": "execute_result"
    }
   ],
   "source": [
    "np.mean(y_train_true)"
   ]
  },
  {
   "cell_type": "code",
   "execution_count": null,
   "id": "b2db8ded",
   "metadata": {},
   "outputs": [
    {
     "data": {
      "text/plain": [
       "0.1035327"
      ]
     },
     "execution_count": null,
     "metadata": {},
     "output_type": "execute_result"
    }
   ],
   "source": [
    "np.sum((y_train_hat - np.mean(y_train_true))**2)"
   ]
  },
  {
   "cell_type": "code",
   "execution_count": null,
   "id": "444c84fa",
   "metadata": {},
   "outputs": [
    {
     "data": {
      "text/plain": [
       "0.75617725"
      ]
     },
     "execution_count": null,
     "metadata": {},
     "output_type": "execute_result"
    }
   ],
   "source": [
    "np.sum((y_train_hat - y_train_true)**2)"
   ]
  },
  {
   "cell_type": "code",
   "execution_count": null,
   "id": "cca9e867",
   "metadata": {},
   "outputs": [],
   "source": [
    "import matplotlib.pyplot as plt"
   ]
  },
  {
   "cell_type": "code",
   "execution_count": null,
   "id": "ab8aa5ab",
   "metadata": {},
   "outputs": [
    {
     "data": {
      "text/plain": [
       "<matplotlib.collections.PathCollection>"
      ]
     },
     "execution_count": null,
     "metadata": {},
     "output_type": "execute_result"
    },
    {
     "data": {
      "image/png": "[encoded data removed]",
      "text/plain": [
       "<Figure size 640x480 with 1 Axes>"
      ]
     },
     "metadata": {},
     "output_type": "display_data"
    }
   ],
   "source": [
    "plt.scatter(y_train_true, y_train_hat, s=10)"
   ]
  },
  {
   "cell_type": "code",
   "execution_count": null,
   "id": "c5559b3a",
   "metadata": {},
   "outputs": [],
   "source": [
    "def get_nb_params(model):\n",
    "    model_parameters = filter(lambda p: p.requires_grad, model.parameters())\n",
    "    return sum([np.prod(p.size()) for p in model_parameters])"
   ]
  },
  {
   "cell_type": "code",
   "execution_count": null,
   "id": "dd0568aa",
   "metadata": {},
   "outputs": [
    {
     "data": {
      "text/plain": [
       "3.853409"
      ]
     },
     "execution_count": null,
     "metadata": {},
     "output_type": "execute_result"
    }
   ],
   "source": [
    "get_nb_params(learn.model) / 1e6"
   ]
  },
  {
   "cell_type": "code",
   "execution_count": null,
   "id": "84714105",
   "metadata": {},
   "outputs": [],
   "source": []
  }
 ],
 "metadata": {
  "kernelspec": {
   "display_name": "Python 3 (ipykernel)",
   "language": "python",
   "name": "python3"
  }
 },
 "nbformat": 4,
 "nbformat_minor": 5
}
