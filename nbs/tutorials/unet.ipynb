{
 "cells": [
  {
   "cell_type": "code",
   "execution_count": null,
   "id": "4e7084f9-a24e-4019-9a0a-f731a84362b6",
   "metadata": {},
   "outputs": [],
   "source": [
    "# TBD: create bash script\n",
    "# To download kssl dataset\n",
    "# pip install gdown install --upgrade --no-cache-dir gdown\n",
    "\n",
    "# cd /root\n",
    "# python\n",
    "# import gdown\n",
    "# id = \"1qh8isMQIzhArsj3RNWJe6g0lx_cs7iBG\" # MIRS KSSL v1 or \"1SzQZqpbJuK3iCqjJYabuEobbgPXm3cHT\" for v2\n",
    "# gdown.download(id=id)\n",
    "# quit()\n",
    "# tar -xvf kssl.tar.gz\n",
    "\n",
    "# paperspace only\n",
    "#!pip install gdown \n",
    "#!pip install --upgrade gdown"
   ]
  },
  {
   "cell_type": "code",
   "execution_count": null,
   "id": "2a9e18d1-d7ea-4774-9682-90db2bdd5cc6",
   "metadata": {},
   "outputs": [],
   "source": [
    "#!pip install spanda"
   ]
  },
  {
   "cell_type": "code",
   "execution_count": null,
   "id": "e53d1d63",
   "metadata": {},
   "outputs": [],
   "source": [
    "%load_ext autoreload\n",
    "%autoreload 2"
   ]
  },
  {
   "cell_type": "code",
   "execution_count": null,
   "id": "61c1205d-5b2f-42f3-8dbe-f5453425ab36",
   "metadata": {},
   "outputs": [],
   "source": [
    "from pathlib import Path\n",
    "from fastai.vision.all import *\n",
    "from fastai.data.all import *\n",
    "from tqdm import tqdm\n",
    "\n",
    "from spanda.data.transforms import (SpectraBlock, AnalytesBlock, SpectraTfm, \n",
    "                                    AnalytesTfm, SNVTfm, AvgTfm,RandWAvgTfm, \n",
    "                                    NormalizeTfm, LogTfm)\n",
    "\n",
    "use_cuda = torch.cuda.is_available()\n",
    "device = torch.device('cuda:0' if use_cuda else 'cpu')\n",
    "\n",
    "analyte_name = 725"
   ]
  },
  {
   "cell_type": "code",
   "execution_count": null,
   "id": "94c36e19-b821-4697-86a9-c4a2f03d8acf",
   "metadata": {},
   "outputs": [
    {
     "data": {
      "text/plain": [
       "(#46305) [Path('../../_data/kssl-mirs-v2/180338'),Path('../../_data/kssl-mirs-v2/172221'),Path('../../_data/kssl-mirs-v2/177753'),Path('../../_data/kssl-mirs-v2/184798'),Path('../../_data/kssl-mirs-v2/53759'),Path('../../_data/kssl-mirs-v2/74947'),Path('../../_data/kssl-mirs-v2/176681'),Path('../../_data/kssl-mirs-v2/1855'),Path('../../_data/kssl-mirs-v2/175004'),Path('../../_data/kssl-mirs-v2/34499')...]"
      ]
     },
     "execution_count": null,
     "metadata": {},
     "output_type": "execute_result"
    }
   ],
   "source": [
    "# Only samples with spectra\n",
    "#path = Path('/root/kssl-mirs-v2'); path.ls()\n",
    "path = Path('../../_data/kssl-mirs-v2'); path.ls()"
   ]
  },
  {
   "cell_type": "code",
   "execution_count": null,
   "id": "795a1352-268b-497c-a372-13ceca479f47",
   "metadata": {},
   "outputs": [
    {
     "name": "stderr",
     "output_type": "stream",
     "text": [
      "100%|███████████████████████████████████████████████████████| 46305/46305 [00:00<00:00, 48916.05it/s]"
     ]
    },
    {
     "name": "stdout",
     "output_type": "stream",
     "text": [
      "n samples: 46251\n"
     ]
    },
    {
     "name": "stderr",
     "output_type": "stream",
     "text": [
      "\n"
     ]
    }
   ],
   "source": [
    "# keep only when spectra in folder\n",
    "paths = [p for p in tqdm(path.ls()) if len(p.ls()) > 1]; print(f'n samples: {len(paths)}')"
   ]
  },
  {
   "cell_type": "code",
   "execution_count": null,
   "id": "004d2290-c913-47b0-a857-3e24381c77c6",
   "metadata": {},
   "outputs": [],
   "source": [
    "get_spectra = lambda o: L(f for f in o.ls() if not re.match('target', f.name))\n",
    "get_target = lambda o: [f for f in o.ls() if re.match('target', f.name)][0]"
   ]
  },
  {
   "cell_type": "code",
   "execution_count": null,
   "id": "62b8766e",
   "metadata": {},
   "outputs": [],
   "source": [
    "# Only strictly positive measurements\n",
    "#paths = [p for p in paths if AnalytesTfm(analytes=[analyte_name])(get_target(p)) != 0] \n",
    "#print(f'n samples: {len(paths)}')"
   ]
  },
  {
   "cell_type": "code",
   "execution_count": null,
   "id": "d3ac8a50",
   "metadata": {},
   "outputs": [],
   "source": []
  },
  {
   "cell_type": "code",
   "execution_count": null,
   "id": "74b85e7a",
   "metadata": {},
   "outputs": [],
   "source": [
    "# Stats\n",
    "\n",
    "## Spectra\n",
    "#Xs = []\n",
    "#n = 0\n",
    "#for p in paths:\n",
    "#    Xs.append(SpectraTfm()(get_target(p)))\n",
    "#    n += 1 \n",
    "#    if n > 1000: break\n",
    "#print(f'X mean: {torch.mean(torch.concat(Xs))}, X Std: {torch.std(torch.concat(Xs))}');"
   ]
  },
  {
   "cell_type": "code",
   "execution_count": null,
   "id": "7a3685e2",
   "metadata": {},
   "outputs": [],
   "source": [
    "#ys = []\n",
    "#n = 0\n",
    "#for p in paths:\n",
    "#    ys.append(AnalytesTfm(analytes=['K'])(get_target(p)))\n",
    "#    n += 1 \n",
    "#    if n > 1000: break"
   ]
  },
  {
   "cell_type": "code",
   "execution_count": null,
   "id": "6e413847",
   "metadata": {},
   "outputs": [],
   "source": [
    "#torch.concat(ys).min()"
   ]
  },
  {
   "cell_type": "code",
   "execution_count": null,
   "id": "f28ac29c",
   "metadata": {},
   "outputs": [],
   "source": [
    "#torch.concat(ys).max()"
   ]
  },
  {
   "cell_type": "code",
   "execution_count": null,
   "id": "b55b98c1",
   "metadata": {},
   "outputs": [],
   "source": [
    "#torch.concat(ys).mean()"
   ]
  },
  {
   "cell_type": "code",
   "execution_count": null,
   "id": "3bb2fc48",
   "metadata": {},
   "outputs": [],
   "source": [
    "#import matplotlib.pyplot as plt\n",
    "\n",
    "#plt.hist(torch.log10(torch.concat(ys)), bins=20)\n",
    "#plt.xscale('log') "
   ]
  },
  {
   "cell_type": "code",
   "execution_count": null,
   "id": "724d78b0",
   "metadata": {},
   "outputs": [
    {
     "data": {
      "image/png": "[encoded data removed]",
      "text/plain": [
       "<Figure size 800x200 with 1 Axes>"
      ]
     },
     "metadata": {},
     "output_type": "display_data"
    },
    {
     "data": {
      "image/png": "[encoded data removed]",
      "text/plain": [
       "<Figure size 800x200 with 1 Axes>"
      ]
     },
     "metadata": {},
     "output_type": "display_data"
    },
    {
     "data": {
      "image/png": "[encoded data removed]",
      "text/plain": [
       "<Figure size 800x200 with 1 Axes>"
      ]
     },
     "metadata": {},
     "output_type": "display_data"
    }
   ],
   "source": [
    "n_smp = None # None for all\n",
    "\n",
    "get_spectra = lambda o: L(f for f in o.ls() if not re.match('target', f.name))\n",
    "get_target = lambda o: [f for f in o.ls() if re.match('target', f.name)][0]\n",
    "\n",
    "dblock = DataBlock(blocks=(SpectraBlock, AnalytesBlock(analytes=[analyte_name])),\n",
    "                   get_x=get_spectra,\n",
    "                   get_y=get_target,\n",
    "                   splitter=RandomSplitter(),\n",
    "                   item_tfms=[RandWAvgTfm(), SNVTfm(),\n",
    "                              LogTfm()])\n",
    "\n",
    "dls = dblock.dataloaders(paths[:n_smp], bs=3)\n",
    "dls.show_batch()"
   ]
  },
  {
   "cell_type": "code",
   "execution_count": null,
   "id": "a9e39498",
   "metadata": {},
   "outputs": [],
   "source": [
    "conv = ConvLayer(1, 128, ks=4, stride=2, padding=1, ndim=1, norm_type=None)"
   ]
  },
  {
   "cell_type": "code",
   "execution_count": null,
   "id": "2348db1b",
   "metadata": {},
   "outputs": [],
   "source": [
    "deconv = ConvLayer(128, 1, ks=4, stride=2, padding=1, ndim=1, norm_type=None, transpose=True)"
   ]
  },
  {
   "cell_type": "code",
   "execution_count": null,
   "id": "d8c40e34",
   "metadata": {},
   "outputs": [
    {
     "data": {
      "text/plain": [
       "torch.Size([1, 1, 1700])"
      ]
     },
     "execution_count": null,
     "metadata": {},
     "output_type": "execute_result"
    }
   ],
   "source": [
    "deconv(conv(dls.train.one_batch()[0][[0]])).shape"
   ]
  },
  {
   "cell_type": "code",
   "execution_count": null,
   "id": "c36e38e8",
   "metadata": {},
   "outputs": [],
   "source": [
    "class Unet(Module):\n",
    "    def __init__(self):\n",
    "        self.conv1 = ConvLayer(1, 128, ks=4, stride=2, padding=1, ndim=1, norm_type=None)\n",
    "        self.conv2 = ConvLayer(128, 256, ks=4, stride=2, padding=1, ndim=1, norm_type=None)\n",
    "        self.deconv2 = ConvLayer(256, 128, ks=4, stride=2, padding=1, ndim=1, norm_type=None, transpose=True)\n",
    "        self.deconv1 = ConvLayer(128, 1, ks=4, stride=2, padding=1, ndim=1, norm_type=None, transpose=True)\n",
    "    \n",
    "    def forward(self, x):\n",
    "        x1 = self.conv1(x)\n",
    "        #print('x1: ', x1.shape)\n",
    "        x2 = self.conv2(x1)\n",
    "        #print('x2: ', x2.shape)\n",
    "        dx2 = self.deconv2(x2)\n",
    "        #print('dx2: ', dx2.shape)\n",
    "        #dx1 = self.deconv1(torch.cat((dx2, x1)))\n",
    "        dx1 = self.deconv1(dx2 + x1)\n",
    "        return dx1"
   ]
  },
  {
   "cell_type": "code",
   "execution_count": null,
   "id": "9021a751",
   "metadata": {},
   "outputs": [],
   "source": [
    "def get_n_params(m):\n",
    "    model_parameters =  filter(lambda p: p.requires_grad, m.parameters())\n",
    "    return sum([np.prod(p.size()) for p in model_parameters])"
   ]
  },
  {
   "cell_type": "code",
   "execution_count": null,
   "id": "6677a583",
   "metadata": {},
   "outputs": [
    {
     "data": {
      "text/plain": [
       "263681"
      ]
     },
     "execution_count": null,
     "metadata": {},
     "output_type": "execute_result"
    }
   ],
   "source": [
    "get_n_params(Unet())"
   ]
  },
  {
   "cell_type": "code",
   "execution_count": null,
   "id": "d831a728",
   "metadata": {},
   "outputs": [],
   "source": [
    "model = Unet()\n",
    "output = model(dls.train.one_batch()[0][[0]]).squeeze().detach().numpy()"
   ]
  },
  {
   "cell_type": "code",
   "execution_count": null,
   "id": "db5a9656",
   "metadata": {},
   "outputs": [],
   "source": [
    "def plot_spectra(X, X_names, sample=50, alpha=0.8, color='#333', figsize=(20, 4)):\n",
    "    fig, ax = plt.subplots(figsize=figsize)\n",
    "    idx = np.random.randint(X.shape[0], size=sample)\n",
    "    ax.set_xlim(np.max(X_names), np.min(X_names))\n",
    "    plt.locator_params(axis=\"x\", nbins=20)\n",
    "    plt.xlabel('Wavenumber')\n",
    "    plt.ylabel('Absorbance')\n",
    "    _ = ax.plot(X_names, X[idx, :].T, lw=1, c=color, alpha=alpha)"
   ]
  },
  {
   "cell_type": "code",
   "execution_count": null,
   "id": "009a43e4",
   "metadata": {},
   "outputs": [
    {
     "data": {
      "text/plain": [
       "(1700,)"
      ]
     },
     "execution_count": null,
     "metadata": {},
     "output_type": "execute_result"
    }
   ],
   "source": [
    "output.shape"
   ]
  },
  {
   "cell_type": "code",
   "execution_count": null,
   "id": "beb81ef9",
   "metadata": {},
   "outputs": [
    {
     "data": {
      "image/png": "[encoded data removed]",
      "text/plain": [
       "<Figure size 2000x400 with 1 Axes>"
      ]
     },
     "metadata": {},
     "output_type": "display_data"
    }
   ],
   "source": [
    "wns = np.arange(4000, 600, -2)\n",
    "plot_spectra(output.reshape(1, -1), wns)"
   ]
  },
  {
   "cell_type": "markdown",
   "id": "775bc461",
   "metadata": {},
   "source": [
    "### Data loader for Unet"
   ]
  },
  {
   "cell_type": "code",
   "execution_count": null,
   "id": "0ea6d88d",
   "metadata": {},
   "outputs": [
    {
     "data": {
      "image/png": "[encoded data removed]",
      "text/plain": [
       "<Figure size 800x200 with 1 Axes>"
      ]
     },
     "metadata": {},
     "output_type": "display_data"
    }
   ],
   "source": [
    "\n",
    "get_spectra = lambda o: L(fname for fname in o.ls() if re.match('\\d', fname.name))\n",
    "#get_target = lambda o: [f for f in o.ls() if re.match('target', f.name)][0]\n",
    "\n",
    "dblock = DataBlock(blocks=(SpectraBlock, SpectraBlock),\n",
    "                   get_x=get_spectra,\n",
    "                   get_y=get_spectra,\n",
    "                   splitter=RandomSplitter(),\n",
    "                   item_tfms=[AvgTfm(), SNVTfm()])\n",
    "\n",
    "dls = dblock.dataloaders(path.ls(), bs=16)\n",
    "dls.show_batch(max_n=1)"
   ]
  },
  {
   "cell_type": "code",
   "execution_count": null,
   "id": "48fd8b7d",
   "metadata": {},
   "outputs": [
    {
     "data": {
      "text/plain": [
       "torch.Size([1, 1700])"
      ]
     },
     "execution_count": null,
     "metadata": {},
     "output_type": "execute_result"
    }
   ],
   "source": [
    " dls.one_batch()[0].shape[-2:]"
   ]
  },
  {
   "cell_type": "code",
   "execution_count": null,
   "id": "dc32a52a",
   "metadata": {},
   "outputs": [],
   "source": [
    "m = resnet34()"
   ]
  },
  {
   "cell_type": "code",
   "execution_count": null,
   "id": "7f62d687",
   "metadata": {},
   "outputs": [],
   "source": [
    "m = nn.Sequential(*list(m.children())[:-2])\n",
    "tst = DynamicUnet(m, 5, (128,128), norm_type=None)\n",
    "x = cast(torch.randn(2, 3, 128, 128), TensorImage)\n",
    "y = tst(x)\n",
    "test_eq(y.shape, [2, 5, 128, 128])"
   ]
  },
  {
   "cell_type": "code",
   "execution_count": null,
   "id": "5d8c2f62",
   "metadata": {},
   "outputs": [
    {
     "data": {
      "text/plain": [
       "[torch.Size([1, 64, 64, 64]),\n",
       " torch.Size([1, 64, 64, 64]),\n",
       " torch.Size([1, 64, 64, 64]),\n",
       " torch.Size([1, 64, 32, 32]),\n",
       " torch.Size([1, 64, 32, 32]),\n",
       " torch.Size([1, 128, 16, 16])]"
      ]
     },
     "execution_count": null,
     "metadata": {},
     "output_type": "execute_result"
    }
   ],
   "source": [
    "model_sizes(m, (128,128))"
   ]
  },
  {
   "cell_type": "code",
   "execution_count": null,
   "id": "facbb7f4",
   "metadata": {},
   "outputs": [
    {
     "data": {
      "text/plain": [
       "<All keys matched successfully>"
      ]
     },
     "execution_count": null,
     "metadata": {},
     "output_type": "execute_result"
    }
   ],
   "source": [
    "model = xresnet18(ndim=1, c_in=1, ks=3, n_out=1).to(device)\n",
    "# Load KSSL trained model\n",
    "weights_paths = '../../_data/models/xresnet18-kex-mirs-kssl-20-epochs-lr-1e3-r2-0.813-260323.pth'\n",
    "xresnet_dict = torch.load(weights_paths, map_location=torch.device('cpu')) \n",
    "model.load_state_dict(xresnet_dict['model'])"
   ]
  },
  {
   "cell_type": "code",
   "execution_count": null,
   "id": "9df29487",
   "metadata": {},
   "outputs": [],
   "source": [
    "encoder = create_body(model, cut=-4)"
   ]
  },
  {
   "cell_type": "code",
   "execution_count": null,
   "id": "12d4e4f0",
   "metadata": {},
   "outputs": [
    {
     "data": {
      "text/plain": [
       "<fastai.callback.hook.Hooks>"
      ]
     },
     "execution_count": null,
     "metadata": {},
     "output_type": "execute_result"
    }
   ],
   "source": [
    "hook_outputs(encoder)"
   ]
  },
  {
   "cell_type": "code",
   "execution_count": null,
   "id": "bfbf5c4b",
   "metadata": {},
   "outputs": [],
   "source": [
    "#next(l.weight.shape[1] for l in flatten_model(m) if nested_attr(l,'weight.ndim',-1)==4)"
   ]
  },
  {
   "cell_type": "code",
   "execution_count": null,
   "id": "c12bd46f",
   "metadata": {},
   "outputs": [
    {
     "data": {
      "text/plain": [
       "3"
      ]
     },
     "execution_count": null,
     "metadata": {},
     "output_type": "execute_result"
    }
   ],
   "source": [
    "nested_attr(flatten_model(encoder)[0], 'weight.ndim',-1)"
   ]
  },
  {
   "cell_type": "code",
   "execution_count": null,
   "id": "8c825d89",
   "metadata": {},
   "outputs": [
    {
     "data": {
      "text/plain": [
       "Conv1d(1, 32, kernel_size=(3,), stride=(2,), padding=(1,), bias=False)"
      ]
     },
     "execution_count": null,
     "metadata": {},
     "output_type": "execute_result"
    }
   ],
   "source": [
    "flatten_model(encoder)[0]"
   ]
  },
  {
   "cell_type": "code",
   "execution_count": null,
   "id": "fa046a85",
   "metadata": {},
   "outputs": [
    {
     "data": {
      "text/plain": [
       "Conv1d(1, 32, kernel_size=(3,), stride=(2,), padding=(1,), bias=False)"
      ]
     },
     "execution_count": null,
     "metadata": {},
     "output_type": "execute_result"
    }
   ],
   "source": [
    "flatten_model(encoder)[0]"
   ]
  },
  {
   "cell_type": "code",
   "execution_count": null,
   "id": "41f2f607",
   "metadata": {},
   "outputs": [
    {
     "ename": "StopIteration",
     "evalue": "No weight layer",
     "output_type": "error",
     "traceback": [
      "\u001b[0;31m---------------------------------------------------------------------------\u001b[0m",
      "\u001b[0;31mStopIteration\u001b[0m                             Traceback (most recent call last)",
      "Cell \u001b[0;32mIn[355], line 1\u001b[0m\n\u001b[0;32m----> 1\u001b[0m \u001b[43mmodel_sizes\u001b[49m\u001b[43m(\u001b[49m\u001b[43mencoder\u001b[49m\u001b[43m,\u001b[49m\u001b[43m \u001b[49m\u001b[43msize\u001b[49m\u001b[38;5;241;43m=\u001b[39;49m\u001b[43m(\u001b[49m\u001b[38;5;241;43m1700\u001b[39;49m\u001b[43m)\u001b[49m\u001b[43m)\u001b[49m\n",
      "File \u001b[0;32m~/mambaforge/envs/spanda/lib/python3.9/site-packages/fastai/callback/hook.py:86\u001b[0m, in \u001b[0;36mmodel_sizes\u001b[0;34m(m, size)\u001b[0m\n\u001b[1;32m     84\u001b[0m \u001b[38;5;124m\"\u001b[39m\u001b[38;5;124mPass a dummy input through the model `m` to get the various sizes of activations.\u001b[39m\u001b[38;5;124m\"\u001b[39m\n\u001b[1;32m     85\u001b[0m \u001b[38;5;28;01mwith\u001b[39;00m hook_outputs(m) \u001b[38;5;28;01mas\u001b[39;00m hooks:\n\u001b[0;32m---> 86\u001b[0m     _ \u001b[38;5;241m=\u001b[39m \u001b[43mdummy_eval\u001b[49m\u001b[43m(\u001b[49m\u001b[43mm\u001b[49m\u001b[43m,\u001b[49m\u001b[43m \u001b[49m\u001b[43msize\u001b[49m\u001b[38;5;241;43m=\u001b[39;49m\u001b[43msize\u001b[49m\u001b[43m)\u001b[49m\n\u001b[1;32m     87\u001b[0m     \u001b[38;5;28;01mreturn\u001b[39;00m [o\u001b[38;5;241m.\u001b[39mstored\u001b[38;5;241m.\u001b[39mshape \u001b[38;5;28;01mfor\u001b[39;00m o \u001b[38;5;129;01min\u001b[39;00m hooks]\n",
      "File \u001b[0;32m~/mambaforge/envs/spanda/lib/python3.9/site-packages/fastai/callback/hook.py:78\u001b[0m, in \u001b[0;36mdummy_eval\u001b[0;34m(m, size)\u001b[0m\n\u001b[1;32m     76\u001b[0m \u001b[38;5;28;01mdef\u001b[39;00m \u001b[38;5;21mdummy_eval\u001b[39m(m, size\u001b[38;5;241m=\u001b[39m(\u001b[38;5;241m64\u001b[39m,\u001b[38;5;241m64\u001b[39m)):\n\u001b[1;32m     77\u001b[0m     \u001b[38;5;124m\"\u001b[39m\u001b[38;5;124mEvaluate `m` on a dummy input of a certain `size`\u001b[39m\u001b[38;5;124m\"\u001b[39m\n\u001b[0;32m---> 78\u001b[0m     ch_in \u001b[38;5;241m=\u001b[39m \u001b[43min_channels\u001b[49m\u001b[43m(\u001b[49m\u001b[43mm\u001b[49m\u001b[43m)\u001b[49m\n\u001b[1;32m     79\u001b[0m     x \u001b[38;5;241m=\u001b[39m one_param(m)\u001b[38;5;241m.\u001b[39mnew(\u001b[38;5;241m1\u001b[39m, ch_in, \u001b[38;5;241m*\u001b[39msize)\u001b[38;5;241m.\u001b[39mrequires_grad_(\u001b[38;5;28;01mFalse\u001b[39;00m)\u001b[38;5;241m.\u001b[39muniform_(\u001b[38;5;241m-\u001b[39m\u001b[38;5;241m1.\u001b[39m,\u001b[38;5;241m1.\u001b[39m)\n\u001b[1;32m     80\u001b[0m     \u001b[38;5;28;01mwith\u001b[39;00m torch\u001b[38;5;241m.\u001b[39mno_grad(): \u001b[38;5;28;01mreturn\u001b[39;00m m\u001b[38;5;241m.\u001b[39meval()(x)\n",
      "File \u001b[0;32m~/mambaforge/envs/spanda/lib/python3.9/site-packages/fastai/layers.py:655\u001b[0m, in \u001b[0;36min_channels\u001b[0;34m(m)\u001b[0m\n\u001b[1;32m    653\u001b[0m \u001b[38;5;28;01mdef\u001b[39;00m \u001b[38;5;21min_channels\u001b[39m(m):\n\u001b[1;32m    654\u001b[0m     \u001b[38;5;124m\"\u001b[39m\u001b[38;5;124mReturn the shape of the first weight layer in `m`.\u001b[39m\u001b[38;5;124m\"\u001b[39m\n\u001b[0;32m--> 655\u001b[0m     \u001b[38;5;28;01mtry\u001b[39;00m: \u001b[38;5;28;01mreturn\u001b[39;00m \u001b[38;5;28;43mnext\u001b[39;49m\u001b[43m(\u001b[49m\u001b[43ml\u001b[49m\u001b[38;5;241;43m.\u001b[39;49m\u001b[43mweight\u001b[49m\u001b[38;5;241;43m.\u001b[39;49m\u001b[43mshape\u001b[49m\u001b[43m[\u001b[49m\u001b[38;5;241;43m1\u001b[39;49m\u001b[43m]\u001b[49m\u001b[43m \u001b[49m\u001b[38;5;28;43;01mfor\u001b[39;49;00m\u001b[43m \u001b[49m\u001b[43ml\u001b[49m\u001b[43m \u001b[49m\u001b[38;5;129;43;01min\u001b[39;49;00m\u001b[43m \u001b[49m\u001b[43mflatten_model\u001b[49m\u001b[43m(\u001b[49m\u001b[43mm\u001b[49m\u001b[43m)\u001b[49m\u001b[43m \u001b[49m\u001b[38;5;28;43;01mif\u001b[39;49;00m\u001b[43m \u001b[49m\u001b[43mnested_attr\u001b[49m\u001b[43m(\u001b[49m\u001b[43ml\u001b[49m\u001b[43m,\u001b[49m\u001b[38;5;124;43m'\u001b[39;49m\u001b[38;5;124;43mweight.ndim\u001b[39;49m\u001b[38;5;124;43m'\u001b[39;49m\u001b[43m,\u001b[49m\u001b[38;5;241;43m-\u001b[39;49m\u001b[38;5;241;43m1\u001b[39;49m\u001b[43m)\u001b[49m\u001b[38;5;241;43m==\u001b[39;49m\u001b[38;5;241;43m4\u001b[39;49m\u001b[43m)\u001b[49m\n\u001b[1;32m    656\u001b[0m     \u001b[38;5;28;01mexcept\u001b[39;00m \u001b[38;5;167;01mStopIteration\u001b[39;00m \u001b[38;5;28;01mas\u001b[39;00m e: e\u001b[38;5;241m.\u001b[39margs \u001b[38;5;241m=\u001b[39m [\u001b[38;5;124m\"\u001b[39m\u001b[38;5;124mNo weight layer\u001b[39m\u001b[38;5;124m\"\u001b[39m]; \u001b[38;5;28;01mraise\u001b[39;00m\n",
      "\u001b[0;31mStopIteration\u001b[0m: No weight layer"
     ]
    }
   ],
   "source": [
    "model_sizes(encoder, size=(1700))"
   ]
  },
  {
   "cell_type": "code",
   "execution_count": null,
   "id": "4c098e70",
   "metadata": {},
   "outputs": [],
   "source": [
    "?DynamicUnet"
   ]
  },
  {
   "cell_type": "code",
   "execution_count": null,
   "id": "63858030",
   "metadata": {},
   "outputs": [
    {
     "ename": "StopIteration",
     "evalue": "No weight layer",
     "output_type": "error",
     "traceback": [
      "\u001b[0;31m---------------------------------------------------------------------------\u001b[0m",
      "\u001b[0;31mStopIteration\u001b[0m                             Traceback (most recent call last)",
      "Cell \u001b[0;32mIn[345], line 1\u001b[0m\n\u001b[0;32m----> 1\u001b[0m tst \u001b[38;5;241m=\u001b[39m \u001b[43mDynamicUnet\u001b[49m\u001b[43m(\u001b[49m\u001b[43mencoder\u001b[49m\u001b[43m,\u001b[49m\u001b[43m \u001b[49m\u001b[38;5;241;43m1\u001b[39;49m\u001b[43m,\u001b[49m\u001b[43m \u001b[49m\u001b[43m(\u001b[49m\u001b[38;5;241;43m1\u001b[39;49m\u001b[43m,\u001b[49m\u001b[38;5;241;43m1700\u001b[39;49m\u001b[43m)\u001b[49m\u001b[43m,\u001b[49m\u001b[43m \u001b[49m\u001b[43mnorm_type\u001b[49m\u001b[38;5;241;43m=\u001b[39;49m\u001b[38;5;28;43;01mNone\u001b[39;49;00m\u001b[43m)\u001b[49m\n",
      "File \u001b[0;32m~/mambaforge/envs/spanda/lib/python3.9/site-packages/fastcore/meta.py:40\u001b[0m, in \u001b[0;36mPrePostInitMeta.__call__\u001b[0;34m(cls, *args, **kwargs)\u001b[0m\n\u001b[1;32m     38\u001b[0m \u001b[38;5;28;01mif\u001b[39;00m \u001b[38;5;28mtype\u001b[39m(res)\u001b[38;5;241m==\u001b[39m\u001b[38;5;28mcls\u001b[39m:\n\u001b[1;32m     39\u001b[0m     \u001b[38;5;28;01mif\u001b[39;00m \u001b[38;5;28mhasattr\u001b[39m(res,\u001b[38;5;124m'\u001b[39m\u001b[38;5;124m__pre_init__\u001b[39m\u001b[38;5;124m'\u001b[39m): res\u001b[38;5;241m.\u001b[39m__pre_init__(\u001b[38;5;241m*\u001b[39margs,\u001b[38;5;241m*\u001b[39m\u001b[38;5;241m*\u001b[39mkwargs)\n\u001b[0;32m---> 40\u001b[0m     \u001b[43mres\u001b[49m\u001b[38;5;241;43m.\u001b[39;49m\u001b[38;5;21;43m__init__\u001b[39;49m\u001b[43m(\u001b[49m\u001b[38;5;241;43m*\u001b[39;49m\u001b[43margs\u001b[49m\u001b[43m,\u001b[49m\u001b[38;5;241;43m*\u001b[39;49m\u001b[38;5;241;43m*\u001b[39;49m\u001b[43mkwargs\u001b[49m\u001b[43m)\u001b[49m\n\u001b[1;32m     41\u001b[0m     \u001b[38;5;28;01mif\u001b[39;00m \u001b[38;5;28mhasattr\u001b[39m(res,\u001b[38;5;124m'\u001b[39m\u001b[38;5;124m__post_init__\u001b[39m\u001b[38;5;124m'\u001b[39m): res\u001b[38;5;241m.\u001b[39m__post_init__(\u001b[38;5;241m*\u001b[39margs,\u001b[38;5;241m*\u001b[39m\u001b[38;5;241m*\u001b[39mkwargs)\n\u001b[1;32m     42\u001b[0m \u001b[38;5;28;01mreturn\u001b[39;00m res\n",
      "File \u001b[0;32m~/mambaforge/envs/spanda/lib/python3.9/site-packages/fastai/vision/models/unet.py:60\u001b[0m, in \u001b[0;36mDynamicUnet.__init__\u001b[0;34m(self, encoder, n_out, img_size, blur, blur_final, self_attention, y_range, last_cross, bottle, act_cls, init, norm_type, **kwargs)\u001b[0m\n\u001b[1;32m     56\u001b[0m \u001b[38;5;28;01mdef\u001b[39;00m \u001b[38;5;21m__init__\u001b[39m(\u001b[38;5;28mself\u001b[39m, encoder, n_out, img_size, blur\u001b[38;5;241m=\u001b[39m\u001b[38;5;28;01mFalse\u001b[39;00m, blur_final\u001b[38;5;241m=\u001b[39m\u001b[38;5;28;01mTrue\u001b[39;00m, self_attention\u001b[38;5;241m=\u001b[39m\u001b[38;5;28;01mFalse\u001b[39;00m,\n\u001b[1;32m     57\u001b[0m              y_range\u001b[38;5;241m=\u001b[39m\u001b[38;5;28;01mNone\u001b[39;00m, last_cross\u001b[38;5;241m=\u001b[39m\u001b[38;5;28;01mTrue\u001b[39;00m, bottle\u001b[38;5;241m=\u001b[39m\u001b[38;5;28;01mFalse\u001b[39;00m, act_cls\u001b[38;5;241m=\u001b[39mdefaults\u001b[38;5;241m.\u001b[39mactivation,\n\u001b[1;32m     58\u001b[0m              init\u001b[38;5;241m=\u001b[39mnn\u001b[38;5;241m.\u001b[39minit\u001b[38;5;241m.\u001b[39mkaiming_normal_, norm_type\u001b[38;5;241m=\u001b[39m\u001b[38;5;28;01mNone\u001b[39;00m, \u001b[38;5;241m*\u001b[39m\u001b[38;5;241m*\u001b[39mkwargs):\n\u001b[1;32m     59\u001b[0m     imsize \u001b[38;5;241m=\u001b[39m img_size\n\u001b[0;32m---> 60\u001b[0m     sizes \u001b[38;5;241m=\u001b[39m \u001b[43mmodel_sizes\u001b[49m\u001b[43m(\u001b[49m\u001b[43mencoder\u001b[49m\u001b[43m,\u001b[49m\u001b[43m \u001b[49m\u001b[43msize\u001b[49m\u001b[38;5;241;43m=\u001b[39;49m\u001b[43mimsize\u001b[49m\u001b[43m)\u001b[49m\n\u001b[1;32m     61\u001b[0m     sz_chg_idxs \u001b[38;5;241m=\u001b[39m \u001b[38;5;28mlist\u001b[39m(\u001b[38;5;28mreversed\u001b[39m(_get_sz_change_idxs(sizes)))\n\u001b[1;32m     62\u001b[0m     \u001b[38;5;28mself\u001b[39m\u001b[38;5;241m.\u001b[39msfs \u001b[38;5;241m=\u001b[39m hook_outputs([encoder[i] \u001b[38;5;28;01mfor\u001b[39;00m i \u001b[38;5;129;01min\u001b[39;00m sz_chg_idxs], detach\u001b[38;5;241m=\u001b[39m\u001b[38;5;28;01mFalse\u001b[39;00m)\n",
      "File \u001b[0;32m~/mambaforge/envs/spanda/lib/python3.9/site-packages/fastai/callback/hook.py:86\u001b[0m, in \u001b[0;36mmodel_sizes\u001b[0;34m(m, size)\u001b[0m\n\u001b[1;32m     84\u001b[0m \u001b[38;5;124m\"\u001b[39m\u001b[38;5;124mPass a dummy input through the model `m` to get the various sizes of activations.\u001b[39m\u001b[38;5;124m\"\u001b[39m\n\u001b[1;32m     85\u001b[0m \u001b[38;5;28;01mwith\u001b[39;00m hook_outputs(m) \u001b[38;5;28;01mas\u001b[39;00m hooks:\n\u001b[0;32m---> 86\u001b[0m     _ \u001b[38;5;241m=\u001b[39m \u001b[43mdummy_eval\u001b[49m\u001b[43m(\u001b[49m\u001b[43mm\u001b[49m\u001b[43m,\u001b[49m\u001b[43m \u001b[49m\u001b[43msize\u001b[49m\u001b[38;5;241;43m=\u001b[39;49m\u001b[43msize\u001b[49m\u001b[43m)\u001b[49m\n\u001b[1;32m     87\u001b[0m     \u001b[38;5;28;01mreturn\u001b[39;00m [o\u001b[38;5;241m.\u001b[39mstored\u001b[38;5;241m.\u001b[39mshape \u001b[38;5;28;01mfor\u001b[39;00m o \u001b[38;5;129;01min\u001b[39;00m hooks]\n",
      "File \u001b[0;32m~/mambaforge/envs/spanda/lib/python3.9/site-packages/fastai/callback/hook.py:78\u001b[0m, in \u001b[0;36mdummy_eval\u001b[0;34m(m, size)\u001b[0m\n\u001b[1;32m     76\u001b[0m \u001b[38;5;28;01mdef\u001b[39;00m \u001b[38;5;21mdummy_eval\u001b[39m(m, size\u001b[38;5;241m=\u001b[39m(\u001b[38;5;241m64\u001b[39m,\u001b[38;5;241m64\u001b[39m)):\n\u001b[1;32m     77\u001b[0m     \u001b[38;5;124m\"\u001b[39m\u001b[38;5;124mEvaluate `m` on a dummy input of a certain `size`\u001b[39m\u001b[38;5;124m\"\u001b[39m\n\u001b[0;32m---> 78\u001b[0m     ch_in \u001b[38;5;241m=\u001b[39m \u001b[43min_channels\u001b[49m\u001b[43m(\u001b[49m\u001b[43mm\u001b[49m\u001b[43m)\u001b[49m\n\u001b[1;32m     79\u001b[0m     x \u001b[38;5;241m=\u001b[39m one_param(m)\u001b[38;5;241m.\u001b[39mnew(\u001b[38;5;241m1\u001b[39m, ch_in, \u001b[38;5;241m*\u001b[39msize)\u001b[38;5;241m.\u001b[39mrequires_grad_(\u001b[38;5;28;01mFalse\u001b[39;00m)\u001b[38;5;241m.\u001b[39muniform_(\u001b[38;5;241m-\u001b[39m\u001b[38;5;241m1.\u001b[39m,\u001b[38;5;241m1.\u001b[39m)\n\u001b[1;32m     80\u001b[0m     \u001b[38;5;28;01mwith\u001b[39;00m torch\u001b[38;5;241m.\u001b[39mno_grad(): \u001b[38;5;28;01mreturn\u001b[39;00m m\u001b[38;5;241m.\u001b[39meval()(x)\n",
      "File \u001b[0;32m~/mambaforge/envs/spanda/lib/python3.9/site-packages/fastai/layers.py:655\u001b[0m, in \u001b[0;36min_channels\u001b[0;34m(m)\u001b[0m\n\u001b[1;32m    653\u001b[0m \u001b[38;5;28;01mdef\u001b[39;00m \u001b[38;5;21min_channels\u001b[39m(m):\n\u001b[1;32m    654\u001b[0m     \u001b[38;5;124m\"\u001b[39m\u001b[38;5;124mReturn the shape of the first weight layer in `m`.\u001b[39m\u001b[38;5;124m\"\u001b[39m\n\u001b[0;32m--> 655\u001b[0m     \u001b[38;5;28;01mtry\u001b[39;00m: \u001b[38;5;28;01mreturn\u001b[39;00m \u001b[38;5;28;43mnext\u001b[39;49m\u001b[43m(\u001b[49m\u001b[43ml\u001b[49m\u001b[38;5;241;43m.\u001b[39;49m\u001b[43mweight\u001b[49m\u001b[38;5;241;43m.\u001b[39;49m\u001b[43mshape\u001b[49m\u001b[43m[\u001b[49m\u001b[38;5;241;43m1\u001b[39;49m\u001b[43m]\u001b[49m\u001b[43m \u001b[49m\u001b[38;5;28;43;01mfor\u001b[39;49;00m\u001b[43m \u001b[49m\u001b[43ml\u001b[49m\u001b[43m \u001b[49m\u001b[38;5;129;43;01min\u001b[39;49;00m\u001b[43m \u001b[49m\u001b[43mflatten_model\u001b[49m\u001b[43m(\u001b[49m\u001b[43mm\u001b[49m\u001b[43m)\u001b[49m\u001b[43m \u001b[49m\u001b[38;5;28;43;01mif\u001b[39;49;00m\u001b[43m \u001b[49m\u001b[43mnested_attr\u001b[49m\u001b[43m(\u001b[49m\u001b[43ml\u001b[49m\u001b[43m,\u001b[49m\u001b[38;5;124;43m'\u001b[39;49m\u001b[38;5;124;43mweight.ndim\u001b[39;49m\u001b[38;5;124;43m'\u001b[39;49m\u001b[43m,\u001b[49m\u001b[38;5;241;43m-\u001b[39;49m\u001b[38;5;241;43m1\u001b[39;49m\u001b[43m)\u001b[49m\u001b[38;5;241;43m==\u001b[39;49m\u001b[38;5;241;43m4\u001b[39;49m\u001b[43m)\u001b[49m\n\u001b[1;32m    656\u001b[0m     \u001b[38;5;28;01mexcept\u001b[39;00m \u001b[38;5;167;01mStopIteration\u001b[39;00m \u001b[38;5;28;01mas\u001b[39;00m e: e\u001b[38;5;241m.\u001b[39margs \u001b[38;5;241m=\u001b[39m [\u001b[38;5;124m\"\u001b[39m\u001b[38;5;124mNo weight layer\u001b[39m\u001b[38;5;124m\"\u001b[39m]; \u001b[38;5;28;01mraise\u001b[39;00m\n",
      "\u001b[0;31mStopIteration\u001b[0m: No weight layer"
     ]
    }
   ],
   "source": [
    "tst = DynamicUnet(encoder, 1, (1,1700), norm_type=None)"
   ]
  },
  {
   "cell_type": "code",
   "execution_count": null,
   "id": "851894f8",
   "metadata": {},
   "outputs": [],
   "source": [
    "?unet_learner"
   ]
  },
  {
   "cell_type": "code",
   "execution_count": null,
   "id": "e62c8b6d",
   "metadata": {},
   "outputs": [
    {
     "data": {
      "text/plain": [
       "<All keys matched successfully>"
      ]
     },
     "execution_count": null,
     "metadata": {},
     "output_type": "execute_result"
    }
   ],
   "source": [
    "model = xresnet18(ndim=1, c_in=1, ks=3, n_out=1).to(device)\n",
    "# Load KSSL trained model\n",
    "weights_paths = '../../_data/models/xresnet18-kex-mirs-kssl-20-epochs-lr-1e3-r2-0.813-260323.pth'\n",
    "xresnet_dict = torch.load(weights_paths, map_location=torch.device('cpu')) \n",
    "model.load_state_dict(xresnet_dict['model'])"
   ]
  },
  {
   "cell_type": "code",
   "execution_count": null,
   "id": "64710228",
   "metadata": {},
   "outputs": [
    {
     "data": {
      "text/plain": [
       "{'cut': -4,\n",
       " 'split': <function fastai.vision.learner._xresnet_split(m)>,\n",
       " 'stats': ([0.485, 0.456, 0.406], [0.229, 0.224, 0.225])}"
      ]
     },
     "execution_count": null,
     "metadata": {},
     "output_type": "execute_result"
    }
   ],
   "source": [
    "model_meta[xresnet18]"
   ]
  },
  {
   "cell_type": "code",
   "execution_count": null,
   "id": "75ea7369",
   "metadata": {},
   "outputs": [],
   "source": [
    "encoder = create_body(model, cut=-4)"
   ]
  },
  {
   "cell_type": "code",
   "execution_count": null,
   "id": "d0e81d59",
   "metadata": {},
   "outputs": [
    {
     "data": {
      "text/plain": [
       "<bound method Module.modules of Sequential(\n",
       "  (0): ConvLayer(\n",
       "    (0): Conv1d(1, 32, kernel_size=(3,), stride=(2,), padding=(1,), bias=False)\n",
       "    (1): BatchNorm1d(32, eps=1e-05, momentum=0.1, affine=True, track_running_stats=True)\n",
       "    (2): ReLU()\n",
       "  )\n",
       "  (1): ConvLayer(\n",
       "    (0): Conv1d(32, 32, kernel_size=(3,), stride=(1,), padding=(1,), bias=False)\n",
       "    (1): BatchNorm1d(32, eps=1e-05, momentum=0.1, affine=True, track_running_stats=True)\n",
       "    (2): ReLU()\n",
       "  )\n",
       "  (2): ConvLayer(\n",
       "    (0): Conv1d(32, 64, kernel_size=(3,), stride=(1,), padding=(1,), bias=False)\n",
       "    (1): BatchNorm1d(64, eps=1e-05, momentum=0.1, affine=True, track_running_stats=True)\n",
       "    (2): ReLU()\n",
       "  )\n",
       "  (3): MaxPool1d(kernel_size=3, stride=2, padding=1, dilation=1, ceil_mode=False)\n",
       "  (4): Sequential(\n",
       "    (0): ResBlock(\n",
       "      (convpath): Sequential(\n",
       "        (0): ConvLayer(\n",
       "          (0): Conv1d(64, 64, kernel_size=(3,), stride=(1,), padding=(1,), bias=False)\n",
       "          (1): BatchNorm1d(64, eps=1e-05, momentum=0.1, affine=True, track_running_stats=True)\n",
       "          (2): ReLU()\n",
       "        )\n",
       "        (1): ConvLayer(\n",
       "          (0): Conv1d(64, 64, kernel_size=(3,), stride=(1,), padding=(1,), bias=False)\n",
       "          (1): BatchNorm1d(64, eps=1e-05, momentum=0.1, affine=True, track_running_stats=True)\n",
       "        )\n",
       "      )\n",
       "      (idpath): Sequential()\n",
       "      (act): ReLU(inplace=True)\n",
       "    )\n",
       "    (1): ResBlock(\n",
       "      (convpath): Sequential(\n",
       "        (0): ConvLayer(\n",
       "          (0): Conv1d(64, 64, kernel_size=(3,), stride=(1,), padding=(1,), bias=False)\n",
       "          (1): BatchNorm1d(64, eps=1e-05, momentum=0.1, affine=True, track_running_stats=True)\n",
       "          (2): ReLU()\n",
       "        )\n",
       "        (1): ConvLayer(\n",
       "          (0): Conv1d(64, 64, kernel_size=(3,), stride=(1,), padding=(1,), bias=False)\n",
       "          (1): BatchNorm1d(64, eps=1e-05, momentum=0.1, affine=True, track_running_stats=True)\n",
       "        )\n",
       "      )\n",
       "      (idpath): Sequential()\n",
       "      (act): ReLU(inplace=True)\n",
       "    )\n",
       "  )\n",
       "  (5): Sequential(\n",
       "    (0): ResBlock(\n",
       "      (convpath): Sequential(\n",
       "        (0): ConvLayer(\n",
       "          (0): Conv1d(64, 128, kernel_size=(3,), stride=(2,), padding=(1,), bias=False)\n",
       "          (1): BatchNorm1d(128, eps=1e-05, momentum=0.1, affine=True, track_running_stats=True)\n",
       "          (2): ReLU()\n",
       "        )\n",
       "        (1): ConvLayer(\n",
       "          (0): Conv1d(128, 128, kernel_size=(3,), stride=(1,), padding=(1,), bias=False)\n",
       "          (1): BatchNorm1d(128, eps=1e-05, momentum=0.1, affine=True, track_running_stats=True)\n",
       "        )\n",
       "      )\n",
       "      (idpath): Sequential(\n",
       "        (0): AvgPool1d(kernel_size=(2,), stride=(2,), padding=(0,))\n",
       "        (1): ConvLayer(\n",
       "          (0): Conv1d(64, 128, kernel_size=(1,), stride=(1,), bias=False)\n",
       "          (1): BatchNorm1d(128, eps=1e-05, momentum=0.1, affine=True, track_running_stats=True)\n",
       "        )\n",
       "      )\n",
       "      (act): ReLU(inplace=True)\n",
       "    )\n",
       "    (1): ResBlock(\n",
       "      (convpath): Sequential(\n",
       "        (0): ConvLayer(\n",
       "          (0): Conv1d(128, 128, kernel_size=(3,), stride=(1,), padding=(1,), bias=False)\n",
       "          (1): BatchNorm1d(128, eps=1e-05, momentum=0.1, affine=True, track_running_stats=True)\n",
       "          (2): ReLU()\n",
       "        )\n",
       "        (1): ConvLayer(\n",
       "          (0): Conv1d(128, 128, kernel_size=(3,), stride=(1,), padding=(1,), bias=False)\n",
       "          (1): BatchNorm1d(128, eps=1e-05, momentum=0.1, affine=True, track_running_stats=True)\n",
       "        )\n",
       "      )\n",
       "      (idpath): Sequential()\n",
       "      (act): ReLU(inplace=True)\n",
       "    )\n",
       "  )\n",
       "  (6): Sequential(\n",
       "    (0): ResBlock(\n",
       "      (convpath): Sequential(\n",
       "        (0): ConvLayer(\n",
       "          (0): Conv1d(128, 256, kernel_size=(3,), stride=(2,), padding=(1,), bias=False)\n",
       "          (1): BatchNorm1d(256, eps=1e-05, momentum=0.1, affine=True, track_running_stats=True)\n",
       "          (2): ReLU()\n",
       "        )\n",
       "        (1): ConvLayer(\n",
       "          (0): Conv1d(256, 256, kernel_size=(3,), stride=(1,), padding=(1,), bias=False)\n",
       "          (1): BatchNorm1d(256, eps=1e-05, momentum=0.1, affine=True, track_running_stats=True)\n",
       "        )\n",
       "      )\n",
       "      (idpath): Sequential(\n",
       "        (0): AvgPool1d(kernel_size=(2,), stride=(2,), padding=(0,))\n",
       "        (1): ConvLayer(\n",
       "          (0): Conv1d(128, 256, kernel_size=(1,), stride=(1,), bias=False)\n",
       "          (1): BatchNorm1d(256, eps=1e-05, momentum=0.1, affine=True, track_running_stats=True)\n",
       "        )\n",
       "      )\n",
       "      (act): ReLU(inplace=True)\n",
       "    )\n",
       "    (1): ResBlock(\n",
       "      (convpath): Sequential(\n",
       "        (0): ConvLayer(\n",
       "          (0): Conv1d(256, 256, kernel_size=(3,), stride=(1,), padding=(1,), bias=False)\n",
       "          (1): BatchNorm1d(256, eps=1e-05, momentum=0.1, affine=True, track_running_stats=True)\n",
       "          (2): ReLU()\n",
       "        )\n",
       "        (1): ConvLayer(\n",
       "          (0): Conv1d(256, 256, kernel_size=(3,), stride=(1,), padding=(1,), bias=False)\n",
       "          (1): BatchNorm1d(256, eps=1e-05, momentum=0.1, affine=True, track_running_stats=True)\n",
       "        )\n",
       "      )\n",
       "      (idpath): Sequential()\n",
       "      (act): ReLU(inplace=True)\n",
       "    )\n",
       "  )\n",
       "  (7): Sequential(\n",
       "    (0): ResBlock(\n",
       "      (convpath): Sequential(\n",
       "        (0): ConvLayer(\n",
       "          (0): Conv1d(256, 512, kernel_size=(3,), stride=(2,), padding=(1,), bias=False)\n",
       "          (1): BatchNorm1d(512, eps=1e-05, momentum=0.1, affine=True, track_running_stats=True)\n",
       "          (2): ReLU()\n",
       "        )\n",
       "        (1): ConvLayer(\n",
       "          (0): Conv1d(512, 512, kernel_size=(3,), stride=(1,), padding=(1,), bias=False)\n",
       "          (1): BatchNorm1d(512, eps=1e-05, momentum=0.1, affine=True, track_running_stats=True)\n",
       "        )\n",
       "      )\n",
       "      (idpath): Sequential(\n",
       "        (0): AvgPool1d(kernel_size=(2,), stride=(2,), padding=(0,))\n",
       "        (1): ConvLayer(\n",
       "          (0): Conv1d(256, 512, kernel_size=(1,), stride=(1,), bias=False)\n",
       "          (1): BatchNorm1d(512, eps=1e-05, momentum=0.1, affine=True, track_running_stats=True)\n",
       "        )\n",
       "      )\n",
       "      (act): ReLU(inplace=True)\n",
       "    )\n",
       "    (1): ResBlock(\n",
       "      (convpath): Sequential(\n",
       "        (0): ConvLayer(\n",
       "          (0): Conv1d(512, 512, kernel_size=(3,), stride=(1,), padding=(1,), bias=False)\n",
       "          (1): BatchNorm1d(512, eps=1e-05, momentum=0.1, affine=True, track_running_stats=True)\n",
       "          (2): ReLU()\n",
       "        )\n",
       "        (1): ConvLayer(\n",
       "          (0): Conv1d(512, 512, kernel_size=(3,), stride=(1,), padding=(1,), bias=False)\n",
       "          (1): BatchNorm1d(512, eps=1e-05, momentum=0.1, affine=True, track_running_stats=True)\n",
       "        )\n",
       "      )\n",
       "      (idpath): Sequential()\n",
       "      (act): ReLU(inplace=True)\n",
       "    )\n",
       "  )\n",
       ")>"
      ]
     },
     "execution_count": null,
     "metadata": {},
     "output_type": "execute_result"
    }
   ],
   "source": [
    "encoder.modules"
   ]
  },
  {
   "cell_type": "code",
   "execution_count": null,
   "id": "fccd3daa",
   "metadata": {},
   "outputs": [
    {
     "data": {
      "text/plain": [
       "XResNet(\n",
       "  (0): ConvLayer(\n",
       "    (0): Conv1d(1, 32, kernel_size=(3,), stride=(2,), padding=(1,), bias=False)\n",
       "    (1): BatchNorm1d(32, eps=1e-05, momentum=0.1, affine=True, track_running_stats=True)\n",
       "    (2): ReLU()\n",
       "  )\n",
       "  (1): ConvLayer(\n",
       "    (0): Conv1d(32, 32, kernel_size=(3,), stride=(1,), padding=(1,), bias=False)\n",
       "    (1): BatchNorm1d(32, eps=1e-05, momentum=0.1, affine=True, track_running_stats=True)\n",
       "    (2): ReLU()\n",
       "  )\n",
       "  (2): ConvLayer(\n",
       "    (0): Conv1d(32, 64, kernel_size=(3,), stride=(1,), padding=(1,), bias=False)\n",
       "    (1): BatchNorm1d(64, eps=1e-05, momentum=0.1, affine=True, track_running_stats=True)\n",
       "    (2): ReLU()\n",
       "  )\n",
       "  (3): MaxPool1d(kernel_size=3, stride=2, padding=1, dilation=1, ceil_mode=False)\n",
       "  (4): Sequential(\n",
       "    (0): ResBlock(\n",
       "      (convpath): Sequential(\n",
       "        (0): ConvLayer(\n",
       "          (0): Conv1d(64, 64, kernel_size=(3,), stride=(1,), padding=(1,), bias=False)\n",
       "          (1): BatchNorm1d(64, eps=1e-05, momentum=0.1, affine=True, track_running_stats=True)\n",
       "          (2): ReLU()\n",
       "        )\n",
       "        (1): ConvLayer(\n",
       "          (0): Conv1d(64, 64, kernel_size=(3,), stride=(1,), padding=(1,), bias=False)\n",
       "          (1): BatchNorm1d(64, eps=1e-05, momentum=0.1, affine=True, track_running_stats=True)\n",
       "        )\n",
       "      )\n",
       "      (idpath): Sequential()\n",
       "      (act): ReLU(inplace=True)\n",
       "    )\n",
       "    (1): ResBlock(\n",
       "      (convpath): Sequential(\n",
       "        (0): ConvLayer(\n",
       "          (0): Conv1d(64, 64, kernel_size=(3,), stride=(1,), padding=(1,), bias=False)\n",
       "          (1): BatchNorm1d(64, eps=1e-05, momentum=0.1, affine=True, track_running_stats=True)\n",
       "          (2): ReLU()\n",
       "        )\n",
       "        (1): ConvLayer(\n",
       "          (0): Conv1d(64, 64, kernel_size=(3,), stride=(1,), padding=(1,), bias=False)\n",
       "          (1): BatchNorm1d(64, eps=1e-05, momentum=0.1, affine=True, track_running_stats=True)\n",
       "        )\n",
       "      )\n",
       "      (idpath): Sequential()\n",
       "      (act): ReLU(inplace=True)\n",
       "    )\n",
       "  )\n",
       "  (5): Sequential(\n",
       "    (0): ResBlock(\n",
       "      (convpath): Sequential(\n",
       "        (0): ConvLayer(\n",
       "          (0): Conv1d(64, 128, kernel_size=(3,), stride=(2,), padding=(1,), bias=False)\n",
       "          (1): BatchNorm1d(128, eps=1e-05, momentum=0.1, affine=True, track_running_stats=True)\n",
       "          (2): ReLU()\n",
       "        )\n",
       "        (1): ConvLayer(\n",
       "          (0): Conv1d(128, 128, kernel_size=(3,), stride=(1,), padding=(1,), bias=False)\n",
       "          (1): BatchNorm1d(128, eps=1e-05, momentum=0.1, affine=True, track_running_stats=True)\n",
       "        )\n",
       "      )\n",
       "      (idpath): Sequential(\n",
       "        (0): AvgPool1d(kernel_size=(2,), stride=(2,), padding=(0,))\n",
       "        (1): ConvLayer(\n",
       "          (0): Conv1d(64, 128, kernel_size=(1,), stride=(1,), bias=False)\n",
       "          (1): BatchNorm1d(128, eps=1e-05, momentum=0.1, affine=True, track_running_stats=True)\n",
       "        )\n",
       "      )\n",
       "      (act): ReLU(inplace=True)\n",
       "    )\n",
       "    (1): ResBlock(\n",
       "      (convpath): Sequential(\n",
       "        (0): ConvLayer(\n",
       "          (0): Conv1d(128, 128, kernel_size=(3,), stride=(1,), padding=(1,), bias=False)\n",
       "          (1): BatchNorm1d(128, eps=1e-05, momentum=0.1, affine=True, track_running_stats=True)\n",
       "          (2): ReLU()\n",
       "        )\n",
       "        (1): ConvLayer(\n",
       "          (0): Conv1d(128, 128, kernel_size=(3,), stride=(1,), padding=(1,), bias=False)\n",
       "          (1): BatchNorm1d(128, eps=1e-05, momentum=0.1, affine=True, track_running_stats=True)\n",
       "        )\n",
       "      )\n",
       "      (idpath): Sequential()\n",
       "      (act): ReLU(inplace=True)\n",
       "    )\n",
       "  )\n",
       "  (6): Sequential(\n",
       "    (0): ResBlock(\n",
       "      (convpath): Sequential(\n",
       "        (0): ConvLayer(\n",
       "          (0): Conv1d(128, 256, kernel_size=(3,), stride=(2,), padding=(1,), bias=False)\n",
       "          (1): BatchNorm1d(256, eps=1e-05, momentum=0.1, affine=True, track_running_stats=True)\n",
       "          (2): ReLU()\n",
       "        )\n",
       "        (1): ConvLayer(\n",
       "          (0): Conv1d(256, 256, kernel_size=(3,), stride=(1,), padding=(1,), bias=False)\n",
       "          (1): BatchNorm1d(256, eps=1e-05, momentum=0.1, affine=True, track_running_stats=True)\n",
       "        )\n",
       "      )\n",
       "      (idpath): Sequential(\n",
       "        (0): AvgPool1d(kernel_size=(2,), stride=(2,), padding=(0,))\n",
       "        (1): ConvLayer(\n",
       "          (0): Conv1d(128, 256, kernel_size=(1,), stride=(1,), bias=False)\n",
       "          (1): BatchNorm1d(256, eps=1e-05, momentum=0.1, affine=True, track_running_stats=True)\n",
       "        )\n",
       "      )\n",
       "      (act): ReLU(inplace=True)\n",
       "    )\n",
       "    (1): ResBlock(\n",
       "      (convpath): Sequential(\n",
       "        (0): ConvLayer(\n",
       "          (0): Conv1d(256, 256, kernel_size=(3,), stride=(1,), padding=(1,), bias=False)\n",
       "          (1): BatchNorm1d(256, eps=1e-05, momentum=0.1, affine=True, track_running_stats=True)\n",
       "          (2): ReLU()\n",
       "        )\n",
       "        (1): ConvLayer(\n",
       "          (0): Conv1d(256, 256, kernel_size=(3,), stride=(1,), padding=(1,), bias=False)\n",
       "          (1): BatchNorm1d(256, eps=1e-05, momentum=0.1, affine=True, track_running_stats=True)\n",
       "        )\n",
       "      )\n",
       "      (idpath): Sequential()\n",
       "      (act): ReLU(inplace=True)\n",
       "    )\n",
       "  )\n",
       "  (7): Sequential(\n",
       "    (0): ResBlock(\n",
       "      (convpath): Sequential(\n",
       "        (0): ConvLayer(\n",
       "          (0): Conv1d(256, 512, kernel_size=(3,), stride=(2,), padding=(1,), bias=False)\n",
       "          (1): BatchNorm1d(512, eps=1e-05, momentum=0.1, affine=True, track_running_stats=True)\n",
       "          (2): ReLU()\n",
       "        )\n",
       "        (1): ConvLayer(\n",
       "          (0): Conv1d(512, 512, kernel_size=(3,), stride=(1,), padding=(1,), bias=False)\n",
       "          (1): BatchNorm1d(512, eps=1e-05, momentum=0.1, affine=True, track_running_stats=True)\n",
       "        )\n",
       "      )\n",
       "      (idpath): Sequential(\n",
       "        (0): AvgPool1d(kernel_size=(2,), stride=(2,), padding=(0,))\n",
       "        (1): ConvLayer(\n",
       "          (0): Conv1d(256, 512, kernel_size=(1,), stride=(1,), bias=False)\n",
       "          (1): BatchNorm1d(512, eps=1e-05, momentum=0.1, affine=True, track_running_stats=True)\n",
       "        )\n",
       "      )\n",
       "      (act): ReLU(inplace=True)\n",
       "    )\n",
       "    (1): ResBlock(\n",
       "      (convpath): Sequential(\n",
       "        (0): ConvLayer(\n",
       "          (0): Conv1d(512, 512, kernel_size=(3,), stride=(1,), padding=(1,), bias=False)\n",
       "          (1): BatchNorm1d(512, eps=1e-05, momentum=0.1, affine=True, track_running_stats=True)\n",
       "          (2): ReLU()\n",
       "        )\n",
       "        (1): ConvLayer(\n",
       "          (0): Conv1d(512, 512, kernel_size=(3,), stride=(1,), padding=(1,), bias=False)\n",
       "          (1): BatchNorm1d(512, eps=1e-05, momentum=0.1, affine=True, track_running_stats=True)\n",
       "        )\n",
       "      )\n",
       "      (idpath): Sequential()\n",
       "      (act): ReLU(inplace=True)\n",
       "    )\n",
       "  )\n",
       "  (8): AdaptiveAvgPool1d(output_size=1)\n",
       "  (9): fastai.layers.Flatten(full=False)\n",
       "  (10): Dropout(p=0.0, inplace=False)\n",
       "  (11): Linear(in_features=512, out_features=1, bias=True)\n",
       ")"
      ]
     },
     "execution_count": null,
     "metadata": {},
     "output_type": "execute_result"
    }
   ],
   "source": [
    "def get_encoder(weights_path):\n",
    "    model = xresnet18(ndim=1, c_in=1, ks=3, n_out=1).to('cpu')\n",
    "    # Load KSSL trained model\n",
    "    #weights_paths = '../../_data/models/xresnet18-kex-mirs-kssl-20-epochs-lr-1e3-r2-0.813-260323.pth'\n",
    "    xresnet_dict = torch.load(weights_path, map_location=torch.device('cpu')) \n",
    "    model.load_state_dict(xresnet_dict['model'])\n",
    "    \n",
    "    return model\n",
    "\n",
    "weights_path = '../../_data/models/xresnet18-kex-mirs-kssl-20-epochs-lr-1e3-r2-0.813-260323.pth'\n",
    "get_encoder(weights_path)"
   ]
  },
  {
   "cell_type": "code",
   "execution_count": null,
   "id": "4455a298",
   "metadata": {},
   "outputs": [
    {
     "data": {
      "text/plain": [
       "torch.Size([16, 1, 1700])"
      ]
     },
     "execution_count": null,
     "metadata": {},
     "output_type": "execute_result"
    }
   ],
   "source": [
    "dls.train.one_batch()[0].shape"
   ]
  },
  {
   "cell_type": "code",
   "execution_count": null,
   "id": "e802ff94",
   "metadata": {},
   "outputs": [
    {
     "data": {
      "text/plain": [
       "torch.Size([16, 512, 54])"
      ]
     },
     "execution_count": null,
     "metadata": {},
     "output_type": "execute_result"
    }
   ],
   "source": [
    "encoder(dls.train.one_batch()[0]).shape"
   ]
  },
  {
   "cell_type": "code",
   "execution_count": null,
   "id": "0008f861",
   "metadata": {},
   "outputs": [],
   "source": []
  },
  {
   "cell_type": "code",
   "execution_count": null,
   "id": "d481d199",
   "metadata": {},
   "outputs": [
    {
     "ename": "TypeError",
     "evalue": "get_encoder() got an unexpected keyword argument 'pretrained'",
     "output_type": "error",
     "traceback": [
      "\u001b[0;31m---------------------------------------------------------------------------\u001b[0m",
      "\u001b[0;31mTypeError\u001b[0m                                 Traceback (most recent call last)",
      "Cell \u001b[0;32mIn[310], line 4\u001b[0m\n\u001b[1;32m      1\u001b[0m \u001b[38;5;66;03m# see: https://forums.fast.ai/t/forward-got-an-unexpected-keyword-argument-pretrained/80582/4\u001b[39;00m\n\u001b[1;32m      2\u001b[0m \u001b[38;5;66;03m# to fix\u001b[39;00m\n\u001b[0;32m----> 4\u001b[0m \u001b[43munet_learner\u001b[49m\u001b[43m(\u001b[49m\u001b[43mdls\u001b[49m\u001b[43m,\u001b[49m\u001b[43m \u001b[49m\u001b[43mpartial\u001b[49m\u001b[43m(\u001b[49m\u001b[43mget_encoder\u001b[49m\u001b[43m,\u001b[49m\u001b[43m \u001b[49m\u001b[43mweights_path\u001b[49m\u001b[38;5;241;43m=\u001b[39;49m\u001b[43mweights_path\u001b[49m\u001b[43m)\u001b[49m\u001b[43m,\u001b[49m\u001b[43m \u001b[49m\u001b[43mn_out\u001b[49m\u001b[38;5;241;43m=\u001b[39;49m\u001b[38;5;241;43m1700\u001b[39;49m\u001b[43m)\u001b[49m\n",
      "File \u001b[0;32m~/mambaforge/envs/spanda/lib/python3.9/site-packages/fastai/vision/learner.py:268\u001b[0m, in \u001b[0;36munet_learner\u001b[0;34m(dls, arch, normalize, n_out, pretrained, config, loss_func, opt_func, lr, splitter, cbs, metrics, path, model_dir, wd, wd_bn_bias, train_bn, moms, **kwargs)\u001b[0m\n\u001b[1;32m    266\u001b[0m img_size \u001b[38;5;241m=\u001b[39m dls\u001b[38;5;241m.\u001b[39mone_batch()[\u001b[38;5;241m0\u001b[39m]\u001b[38;5;241m.\u001b[39mshape[\u001b[38;5;241m-\u001b[39m\u001b[38;5;241m2\u001b[39m:]\n\u001b[1;32m    267\u001b[0m \u001b[38;5;28;01massert\u001b[39;00m img_size, \u001b[38;5;124m\"\u001b[39m\u001b[38;5;124mimage size could not be inferred from data\u001b[39m\u001b[38;5;124m\"\u001b[39m\n\u001b[0;32m--> 268\u001b[0m model \u001b[38;5;241m=\u001b[39m \u001b[43mcreate_unet_model\u001b[49m\u001b[43m(\u001b[49m\u001b[43march\u001b[49m\u001b[43m,\u001b[49m\u001b[43m \u001b[49m\u001b[43mn_out\u001b[49m\u001b[43m,\u001b[49m\u001b[43m \u001b[49m\u001b[43mimg_size\u001b[49m\u001b[43m,\u001b[49m\u001b[43m \u001b[49m\u001b[43mpretrained\u001b[49m\u001b[38;5;241;43m=\u001b[39;49m\u001b[43mpretrained\u001b[49m\u001b[43m,\u001b[49m\u001b[43m \u001b[49m\u001b[38;5;241;43m*\u001b[39;49m\u001b[38;5;241;43m*\u001b[39;49m\u001b[43mkwargs\u001b[49m\u001b[43m)\u001b[49m\n\u001b[1;32m    270\u001b[0m splitter \u001b[38;5;241m=\u001b[39m ifnone(splitter, meta[\u001b[38;5;124m'\u001b[39m\u001b[38;5;124msplit\u001b[39m\u001b[38;5;124m'\u001b[39m])\n\u001b[1;32m    271\u001b[0m learn \u001b[38;5;241m=\u001b[39m Learner(dls\u001b[38;5;241m=\u001b[39mdls, model\u001b[38;5;241m=\u001b[39mmodel, loss_func\u001b[38;5;241m=\u001b[39mloss_func, opt_func\u001b[38;5;241m=\u001b[39mopt_func, lr\u001b[38;5;241m=\u001b[39mlr, splitter\u001b[38;5;241m=\u001b[39msplitter, cbs\u001b[38;5;241m=\u001b[39mcbs,\n\u001b[1;32m    272\u001b[0m                metrics\u001b[38;5;241m=\u001b[39mmetrics, path\u001b[38;5;241m=\u001b[39mpath, model_dir\u001b[38;5;241m=\u001b[39mmodel_dir, wd\u001b[38;5;241m=\u001b[39mwd, wd_bn_bias\u001b[38;5;241m=\u001b[39mwd_bn_bias, train_bn\u001b[38;5;241m=\u001b[39mtrain_bn,\n\u001b[1;32m    273\u001b[0m                moms\u001b[38;5;241m=\u001b[39mmoms)\n",
      "File \u001b[0;32m~/mambaforge/envs/spanda/lib/python3.9/site-packages/fastai/vision/learner.py:243\u001b[0m, in \u001b[0;36mcreate_unet_model\u001b[0;34m(arch, n_out, img_size, pretrained, cut, n_in, **kwargs)\u001b[0m\n\u001b[1;32m    241\u001b[0m \u001b[38;5;124m\"\u001b[39m\u001b[38;5;124mCreate custom unet architecture\u001b[39m\u001b[38;5;124m\"\u001b[39m\n\u001b[1;32m    242\u001b[0m meta \u001b[38;5;241m=\u001b[39m model_meta\u001b[38;5;241m.\u001b[39mget(arch, _default_meta)\n\u001b[0;32m--> 243\u001b[0m model \u001b[38;5;241m=\u001b[39m \u001b[43march\u001b[49m\u001b[43m(\u001b[49m\u001b[43mpretrained\u001b[49m\u001b[38;5;241;43m=\u001b[39;49m\u001b[43mpretrained\u001b[49m\u001b[43m)\u001b[49m\n\u001b[1;32m    244\u001b[0m body \u001b[38;5;241m=\u001b[39m create_body(model, n_in, pretrained, ifnone(cut, meta[\u001b[38;5;124m'\u001b[39m\u001b[38;5;124mcut\u001b[39m\u001b[38;5;124m'\u001b[39m]))    \n\u001b[1;32m    245\u001b[0m model \u001b[38;5;241m=\u001b[39m models\u001b[38;5;241m.\u001b[39munet\u001b[38;5;241m.\u001b[39mDynamicUnet(body, n_out, img_size, \u001b[38;5;241m*\u001b[39m\u001b[38;5;241m*\u001b[39mkwargs)\n",
      "\u001b[0;31mTypeError\u001b[0m: get_encoder() got an unexpected keyword argument 'pretrained'"
     ]
    }
   ],
   "source": [
    "# see: https://forums.fast.ai/t/forward-got-an-unexpected-keyword-argument-pretrained/80582/4\n",
    "# to fix\n",
    "unet_learner(dls, partial(get_encoder, weights_path=weights_path), n_out=1700)"
   ]
  },
  {
   "cell_type": "code",
   "execution_count": null,
   "id": "05ddb591",
   "metadata": {},
   "outputs": [
    {
     "data": {
      "text/plain": [
       "torch.Size([1, 128, 850])"
      ]
     },
     "execution_count": null,
     "metadata": {},
     "output_type": "execute_result"
    }
   ],
   "source": [
    "conv(dls.train.one_batch()[0][[0]]).shape"
   ]
  },
  {
   "cell_type": "code",
   "execution_count": null,
   "id": "138ae640",
   "metadata": {},
   "outputs": [],
   "source": [
    "# Create Learner\n",
    "model = xresnet18(ndim=1, c_in=1, ks=3, n_out=1).to(device)\n",
    "learn = Learner(dls, model, loss_func=MSELossFlat(), metrics=R2Score()).to_fp16()"
   ]
  },
  {
   "cell_type": "code",
   "execution_count": null,
   "id": "63e0a4d0",
   "metadata": {},
   "outputs": [
    {
     "name": "stderr",
     "output_type": "stream",
     "text": [
      "/Users/franckalbinet/mambaforge/envs/spanda/lib/python3.9/site-packages/torch/amp/autocast_mode.py:202: UserWarning: User provided device_type of 'cuda', but CUDA is not available. Disabling\n",
      "  warnings.warn('User provided device_type of \\'cuda\\', but CUDA is not available. Disabling')\n",
      "/Users/franckalbinet/mambaforge/envs/spanda/lib/python3.9/site-packages/torch/cuda/amp/grad_scaler.py:118: UserWarning: torch.cuda.amp.GradScaler is enabled, but CUDA is not available.  Disabling.\n",
      "  warnings.warn(\"torch.cuda.amp.GradScaler is enabled, but CUDA is not available.  Disabling.\")\n"
     ]
    },
    {
     "data": {
      "text/html": [
       "\n",
       "<style>\n",
       "    /* Turns off some styling */\n",
       "    progress {\n",
       "        /* gets rid of default border in Firefox and Opera. */\n",
       "        border: none;\n",
       "        /* Needs to be in here for Safari polyfill so background images work as expected. */\n",
       "        background-size: auto;\n",
       "    }\n",
       "    progress:not([value]), progress:not([value])::-webkit-progress-bar {\n",
       "        background: repeating-linear-gradient(45deg, #7e7e7e, #7e7e7e 10px, #5c5c5c 10px, #5c5c5c 20px);\n",
       "    }\n",
       "    .progress-bar-interrupted, .progress-bar-interrupted::-webkit-progress-bar {\n",
       "        background: #F44336;\n",
       "    }\n",
       "</style>\n"
      ],
      "text/plain": [
       "<IPython.core.display.HTML object>"
      ]
     },
     "metadata": {},
     "output_type": "display_data"
    },
    {
     "data": {
      "text/html": [],
      "text/plain": [
       "<IPython.core.display.HTML object>"
      ]
     },
     "metadata": {},
     "output_type": "display_data"
    },
    {
     "data": {
      "text/plain": [
       "XResNet (Input shape: 3 x 1 x 1700)\n",
       "============================================================================\n",
       "Layer (type)         Output Shape         Param #    Trainable \n",
       "============================================================================\n",
       "                     3 x 32 x 850        \n",
       "Conv1d                                    96         True      \n",
       "BatchNorm1d                               64         True      \n",
       "ReLU                                                           \n",
       "Conv1d                                    3072       True      \n",
       "BatchNorm1d                               64         True      \n",
       "ReLU                                                           \n",
       "____________________________________________________________________________\n",
       "                     3 x 64 x 850        \n",
       "Conv1d                                    6144       True      \n",
       "BatchNorm1d                               128        True      \n",
       "ReLU                                                           \n",
       "____________________________________________________________________________\n",
       "                     3 x 64 x 425        \n",
       "MaxPool1d                                                      \n",
       "Conv1d                                    12288      True      \n",
       "BatchNorm1d                               128        True      \n",
       "ReLU                                                           \n",
       "Conv1d                                    12288      True      \n",
       "BatchNorm1d                               128        True      \n",
       "Sequential                                                     \n",
       "ReLU                                                           \n",
       "Conv1d                                    12288      True      \n",
       "BatchNorm1d                               128        True      \n",
       "ReLU                                                           \n",
       "Conv1d                                    12288      True      \n",
       "BatchNorm1d                               128        True      \n",
       "Sequential                                                     \n",
       "ReLU                                                           \n",
       "____________________________________________________________________________\n",
       "                     3 x 128 x 213       \n",
       "Conv1d                                    24576      True      \n",
       "BatchNorm1d                               256        True      \n",
       "ReLU                                                           \n",
       "Conv1d                                    49152      True      \n",
       "BatchNorm1d                               256        True      \n",
       "____________________________________________________________________________\n",
       "                     3 x 64 x 213        \n",
       "AvgPool1d                                                      \n",
       "____________________________________________________________________________\n",
       "                     3 x 128 x 213       \n",
       "Conv1d                                    8192       True      \n",
       "BatchNorm1d                               256        True      \n",
       "ReLU                                                           \n",
       "Conv1d                                    49152      True      \n",
       "BatchNorm1d                               256        True      \n",
       "ReLU                                                           \n",
       "Conv1d                                    49152      True      \n",
       "BatchNorm1d                               256        True      \n",
       "Sequential                                                     \n",
       "ReLU                                                           \n",
       "____________________________________________________________________________\n",
       "                     3 x 256 x 107       \n",
       "Conv1d                                    98304      True      \n",
       "BatchNorm1d                               512        True      \n",
       "ReLU                                                           \n",
       "Conv1d                                    196608     True      \n",
       "BatchNorm1d                               512        True      \n",
       "____________________________________________________________________________\n",
       "                     3 x 128 x 107       \n",
       "AvgPool1d                                                      \n",
       "____________________________________________________________________________\n",
       "                     3 x 256 x 107       \n",
       "Conv1d                                    32768      True      \n",
       "BatchNorm1d                               512        True      \n",
       "ReLU                                                           \n",
       "Conv1d                                    196608     True      \n",
       "BatchNorm1d                               512        True      \n",
       "ReLU                                                           \n",
       "Conv1d                                    196608     True      \n",
       "BatchNorm1d                               512        True      \n",
       "Sequential                                                     \n",
       "ReLU                                                           \n",
       "____________________________________________________________________________\n",
       "                     3 x 512 x 54        \n",
       "Conv1d                                    393216     True      \n",
       "BatchNorm1d                               1024       True      \n",
       "ReLU                                                           \n",
       "Conv1d                                    786432     True      \n",
       "BatchNorm1d                               1024       True      \n",
       "____________________________________________________________________________\n",
       "                     3 x 256 x 54        \n",
       "AvgPool1d                                                      \n",
       "____________________________________________________________________________\n",
       "                     3 x 512 x 54        \n",
       "Conv1d                                    131072     True      \n",
       "BatchNorm1d                               1024       True      \n",
       "ReLU                                                           \n",
       "Conv1d                                    786432     True      \n",
       "BatchNorm1d                               1024       True      \n",
       "ReLU                                                           \n",
       "Conv1d                                    786432     True      \n",
       "BatchNorm1d                               1024       True      \n",
       "Sequential                                                     \n",
       "ReLU                                                           \n",
       "____________________________________________________________________________\n",
       "                     3 x 512 x 1         \n",
       "AdaptiveAvgPool1d                                              \n",
       "____________________________________________________________________________\n",
       "                     3 x 512             \n",
       "Flatten                                                        \n",
       "Dropout                                                        \n",
       "____________________________________________________________________________\n",
       "                     3 x 1               \n",
       "Linear                                    513        True      \n",
       "____________________________________________________________________________\n",
       "\n",
       "Total params: 3,853,409\n",
       "Total trainable params: 3,853,409\n",
       "Total non-trainable params: 0\n",
       "\n",
       "Optimizer used: <function Adam>\n",
       "Loss function: FlattenedLoss of MSELoss()\n",
       "\n",
       "Callbacks:\n",
       "  - TrainEvalCallback\n",
       "  - CastToTensor\n",
       "  - MixedPrecision\n",
       "  - Recorder\n",
       "  - ProgressCallback"
      ]
     },
     "execution_count": null,
     "metadata": {},
     "output_type": "execute_result"
    }
   ],
   "source": [
    "learn.summary()"
   ]
  },
  {
   "cell_type": "code",
   "execution_count": null,
   "id": "63ed044d",
   "metadata": {},
   "outputs": [
    {
     "data": {
      "text/html": [
       "\n",
       "<style>\n",
       "    /* Turns off some styling */\n",
       "    progress {\n",
       "        /* gets rid of default border in Firefox and Opera. */\n",
       "        border: none;\n",
       "        /* Needs to be in here for Safari polyfill so background images work as expected. */\n",
       "        background-size: auto;\n",
       "    }\n",
       "    progress:not([value]), progress:not([value])::-webkit-progress-bar {\n",
       "        background: repeating-linear-gradient(45deg, #7e7e7e, #7e7e7e 10px, #5c5c5c 10px, #5c5c5c 20px);\n",
       "    }\n",
       "    .progress-bar-interrupted, .progress-bar-interrupted::-webkit-progress-bar {\n",
       "        background: #F44336;\n",
       "    }\n",
       "</style>\n"
      ],
      "text/plain": [
       "<IPython.core.display.HTML object>"
      ]
     },
     "metadata": {},
     "output_type": "display_data"
    },
    {
     "data": {
      "text/html": [],
      "text/plain": [
       "<IPython.core.display.HTML object>"
      ]
     },
     "metadata": {},
     "output_type": "display_data"
    },
    {
     "data": {
      "text/plain": [
       "SuggestedLRs(valley=0.0005754399462603033)"
      ]
     },
     "execution_count": null,
     "metadata": {},
     "output_type": "execute_result"
    },
    {
     "data": {
      "image/png": "[encoded data removed]",
      "text/plain": [
       "<Figure size 432x288 with 1 Axes>"
      ]
     },
     "metadata": {
      "needs_background": "light"
     },
     "output_type": "display_data"
    }
   ],
   "source": [
    "learn.lr_find()"
   ]
  },
  {
   "cell_type": "code",
   "execution_count": null,
   "id": "9489e231",
   "metadata": {},
   "outputs": [
    {
     "data": {
      "text/html": [
       "\n",
       "<style>\n",
       "    /* Turns off some styling */\n",
       "    progress {\n",
       "        /* gets rid of default border in Firefox and Opera. */\n",
       "        border: none;\n",
       "        /* Needs to be in here for Safari polyfill so background images work as expected. */\n",
       "        background-size: auto;\n",
       "    }\n",
       "    progress:not([value]), progress:not([value])::-webkit-progress-bar {\n",
       "        background: repeating-linear-gradient(45deg, #7e7e7e, #7e7e7e 10px, #5c5c5c 10px, #5c5c5c 20px);\n",
       "    }\n",
       "    .progress-bar-interrupted, .progress-bar-interrupted::-webkit-progress-bar {\n",
       "        background: #F44336;\n",
       "    }\n",
       "</style>\n"
      ],
      "text/plain": [
       "<IPython.core.display.HTML object>"
      ]
     },
     "metadata": {},
     "output_type": "display_data"
    },
    {
     "data": {
      "text/html": [
       "<table border=\"1\" class=\"dataframe\">\n",
       "  <thead>\n",
       "    <tr style=\"text-align: left;\">\n",
       "      <th>epoch</th>\n",
       "      <th>train_loss</th>\n",
       "      <th>valid_loss</th>\n",
       "      <th>r2_score</th>\n",
       "      <th>time</th>\n",
       "    </tr>\n",
       "  </thead>\n",
       "  <tbody>\n",
       "    <tr>\n",
       "      <td>0</td>\n",
       "      <td>0.141457</td>\n",
       "      <td>0.123325</td>\n",
       "      <td>0.473447</td>\n",
       "      <td>06:59</td>\n",
       "    </tr>\n",
       "    <tr>\n",
       "      <td>1</td>\n",
       "      <td>0.121291</td>\n",
       "      <td>0.109823</td>\n",
       "      <td>0.531099</td>\n",
       "      <td>06:54</td>\n",
       "    </tr>\n",
       "    <tr>\n",
       "      <td>2</td>\n",
       "      <td>0.114840</td>\n",
       "      <td>0.124020</td>\n",
       "      <td>0.470482</td>\n",
       "      <td>06:55</td>\n",
       "    </tr>\n",
       "    <tr>\n",
       "      <td>3</td>\n",
       "      <td>0.098722</td>\n",
       "      <td>0.089686</td>\n",
       "      <td>0.617071</td>\n",
       "      <td>06:56</td>\n",
       "    </tr>\n",
       "    <tr>\n",
       "      <td>4</td>\n",
       "      <td>0.075183</td>\n",
       "      <td>0.081244</td>\n",
       "      <td>0.653119</td>\n",
       "      <td>06:58</td>\n",
       "    </tr>\n",
       "    <tr>\n",
       "      <td>5</td>\n",
       "      <td>0.069259</td>\n",
       "      <td>0.076557</td>\n",
       "      <td>0.673130</td>\n",
       "      <td>06:56</td>\n",
       "    </tr>\n",
       "    <tr>\n",
       "      <td>6</td>\n",
       "      <td>0.078079</td>\n",
       "      <td>0.074479</td>\n",
       "      <td>0.682002</td>\n",
       "      <td>06:56</td>\n",
       "    </tr>\n",
       "    <tr>\n",
       "      <td>7</td>\n",
       "      <td>0.056177</td>\n",
       "      <td>0.080317</td>\n",
       "      <td>0.657074</td>\n",
       "      <td>06:58</td>\n",
       "    </tr>\n",
       "    <tr>\n",
       "      <td>8</td>\n",
       "      <td>0.061138</td>\n",
       "      <td>0.069402</td>\n",
       "      <td>0.703681</td>\n",
       "      <td>07:00</td>\n",
       "    </tr>\n",
       "    <tr>\n",
       "      <td>9</td>\n",
       "      <td>0.061721</td>\n",
       "      <td>0.067104</td>\n",
       "      <td>0.713490</td>\n",
       "      <td>06:57</td>\n",
       "    </tr>\n",
       "    <tr>\n",
       "      <td>10</td>\n",
       "      <td>0.060385</td>\n",
       "      <td>0.063360</td>\n",
       "      <td>0.729478</td>\n",
       "      <td>06:57</td>\n",
       "    </tr>\n",
       "    <tr>\n",
       "      <td>11</td>\n",
       "      <td>0.057035</td>\n",
       "      <td>0.060135</td>\n",
       "      <td>0.743245</td>\n",
       "      <td>06:58</td>\n",
       "    </tr>\n",
       "    <tr>\n",
       "      <td>12</td>\n",
       "      <td>0.051501</td>\n",
       "      <td>0.055145</td>\n",
       "      <td>0.764550</td>\n",
       "      <td>07:03</td>\n",
       "    </tr>\n",
       "    <tr>\n",
       "      <td>13</td>\n",
       "      <td>0.041996</td>\n",
       "      <td>0.053854</td>\n",
       "      <td>0.770063</td>\n",
       "      <td>07:01</td>\n",
       "    </tr>\n",
       "    <tr>\n",
       "      <td>14</td>\n",
       "      <td>0.033516</td>\n",
       "      <td>0.048894</td>\n",
       "      <td>0.791239</td>\n",
       "      <td>07:01</td>\n",
       "    </tr>\n",
       "    <tr>\n",
       "      <td>15</td>\n",
       "      <td>0.034101</td>\n",
       "      <td>0.048134</td>\n",
       "      <td>0.794485</td>\n",
       "      <td>06:59</td>\n",
       "    </tr>\n",
       "    <tr>\n",
       "      <td>16</td>\n",
       "      <td>0.036729</td>\n",
       "      <td>0.047122</td>\n",
       "      <td>0.798805</td>\n",
       "      <td>06:57</td>\n",
       "    </tr>\n",
       "    <tr>\n",
       "      <td>17</td>\n",
       "      <td>0.027540</td>\n",
       "      <td>0.044754</td>\n",
       "      <td>0.808917</td>\n",
       "      <td>06:58</td>\n",
       "    </tr>\n",
       "    <tr>\n",
       "      <td>18</td>\n",
       "      <td>0.036861</td>\n",
       "      <td>0.044147</td>\n",
       "      <td>0.811510</td>\n",
       "      <td>06:59</td>\n",
       "    </tr>\n",
       "    <tr>\n",
       "      <td>19</td>\n",
       "      <td>0.026957</td>\n",
       "      <td>0.043712</td>\n",
       "      <td>0.813365</td>\n",
       "      <td>06:57</td>\n",
       "    </tr>\n",
       "  </tbody>\n",
       "</table>"
      ],
      "text/plain": [
       "<IPython.core.display.HTML object>"
      ]
     },
     "metadata": {},
     "output_type": "display_data"
    }
   ],
   "source": [
    "learn.fit_one_cycle(20, 1e-3)"
   ]
  },
  {
   "cell_type": "code",
   "execution_count": null,
   "id": "1de7c15e",
   "metadata": {},
   "outputs": [
    {
     "data": {
      "text/plain": [
       "Path('models/xresnet18-kex-mirs-kssl-20-epochs-lr-1e3-r2-0.813-260323.pth')"
      ]
     },
     "execution_count": null,
     "metadata": {},
     "output_type": "execute_result"
    }
   ],
   "source": [
    "learn.save('xresnet18-kex-mirs-kssl-20-epochs-lr-1e3-r2-0.813-260323')"
   ]
  },
  {
   "cell_type": "code",
   "execution_count": null,
   "id": "926e2edb-b76c-4329-ae64-356b759b05a7",
   "metadata": {},
   "outputs": [],
   "source": []
  }
 ],
 "metadata": {
  "kernelspec": {
   "display_name": "Python 3 (ipykernel)",
   "language": "python",
   "name": "python3"
  }
 },
 "nbformat": 4,
 "nbformat_minor": 5
}
