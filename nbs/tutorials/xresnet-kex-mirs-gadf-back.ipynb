{
 "cells": [
  {
   "cell_type": "code",
   "execution_count": null,
   "id": "4e7084f9-a24e-4019-9a0a-f731a84362b6",
   "metadata": {},
   "outputs": [],
   "source": [
    "# TBD: create bash script\n",
    "# To download kssl dataset\n",
    "# pip install gdown install --upgrade --no-cache-dir gdown\n",
    "\n",
    "# cd /root\n",
    "# python\n",
    "# import gdown\n",
    "# id = \"your_id\"\n",
    "#   - kssl v1 mirs: \"1qh8isMQIzhArsj3RNWJe6g0lx_cs7iBG\"\n",
    "#   - kssl v2 mirs: \"1SzQZqpbJuK3iCqjJYabuEobbgPXm3cHT\"\n",
    "#   - seibersdorf mirs: \"1-N4pziF8YvMTvUYljVAKLVvayYmf6NeB\"\n",
    "# gdown.download(id=id)\n",
    "# quit()\n",
    "# tar -xvf kssl.tar.gz\n",
    "\n",
    "# paperspace only\n",
    "#!pip install gdown \n",
    "#!pip install --upgrade gdown"
   ]
  },
  {
   "cell_type": "code",
   "execution_count": 1,
   "id": "2a9e18d1-d7ea-4774-9682-90db2bdd5cc6",
   "metadata": {},
   "outputs": [
    {
     "name": "stdout",
     "output_type": "stream",
     "text": [
      "Collecting spanda\n",
      "  Downloading spanda-0.0.9-py3-none-any.whl (15 kB)\n",
      "Collecting brukeropusreader\n",
      "  Downloading brukeropusreader-1.3.4.tar.gz (3.0 kB)\n",
      "  Preparing metadata (setup.py) ... \u001b[?25ldone\n",
      "\u001b[?25hRequirement already satisfied: openpyxl in /usr/lib/python3/dist-packages (from spanda) (3.0.3)\n",
      "Requirement already satisfied: fastai in /usr/local/lib/python3.9/dist-packages (from spanda) (2.7.9)\n",
      "Collecting timm\n",
      "  Downloading timm-0.6.13-py3-none-any.whl (549 kB)\n",
      "\u001b[2K     \u001b[90m━━━━━━━━━━━━━━━━━━━━━━━━━━━━━━━━━━━━━━\u001b[0m \u001b[32m549.1/549.1 kB\u001b[0m \u001b[31m35.5 MB/s\u001b[0m eta \u001b[36m0:00:00\u001b[0m\n",
      "\u001b[?25hRequirement already satisfied: matplotlib in /usr/local/lib/python3.9/dist-packages (from spanda) (3.5.2)\n",
      "Collecting kennard-stone\n",
      "  Downloading kennard_stone-2.1.0-py3-none-any.whl (10 kB)\n",
      "Requirement already satisfied: pandas in /usr/local/lib/python3.9/dist-packages (from spanda) (1.4.3)\n",
      "Requirement already satisfied: numpy>=1.13.3 in /usr/local/lib/python3.9/dist-packages (from brukeropusreader->spanda) (1.23.1)\n",
      "Requirement already satisfied: scipy>=0.19.1 in /usr/local/lib/python3.9/dist-packages (from brukeropusreader->spanda) (1.8.1)\n",
      "Requirement already satisfied: torch<1.14,>=1.7 in /usr/local/lib/python3.9/dist-packages (from fastai->spanda) (1.12.0+cu116)\n",
      "Requirement already satisfied: fastprogress>=0.2.4 in /usr/local/lib/python3.9/dist-packages (from fastai->spanda) (1.0.3)\n",
      "Requirement already satisfied: fastdownload<2,>=0.0.5 in /usr/local/lib/python3.9/dist-packages (from fastai->spanda) (0.0.7)\n",
      "Requirement already satisfied: packaging in /usr/local/lib/python3.9/dist-packages (from fastai->spanda) (21.3)\n",
      "Requirement already satisfied: pyyaml in /usr/lib/python3/dist-packages (from fastai->spanda) (5.3.1)\n",
      "Requirement already satisfied: torchvision>=0.8.2 in /usr/local/lib/python3.9/dist-packages (from fastai->spanda) (0.13.0+cu116)\n",
      "Requirement already satisfied: pillow>6.0.0 in /usr/local/lib/python3.9/dist-packages (from fastai->spanda) (9.2.0)\n",
      "Requirement already satisfied: fastcore<1.6,>=1.4.5 in /usr/local/lib/python3.9/dist-packages (from fastai->spanda) (1.5.27)\n",
      "Requirement already satisfied: requests in /usr/local/lib/python3.9/dist-packages (from fastai->spanda) (2.28.1)\n",
      "Requirement already satisfied: spacy<4 in /usr/local/lib/python3.9/dist-packages (from fastai->spanda) (3.4.0)\n",
      "Requirement already satisfied: scikit-learn in /usr/local/lib/python3.9/dist-packages (from fastai->spanda) (1.1.1)\n",
      "Requirement already satisfied: pip in /usr/local/lib/python3.9/dist-packages (from fastai->spanda) (22.2.2)\n",
      "Requirement already satisfied: python-dateutil>=2.7 in /usr/local/lib/python3.9/dist-packages (from matplotlib->spanda) (2.8.2)\n",
      "Requirement already satisfied: kiwisolver>=1.0.1 in /usr/local/lib/python3.9/dist-packages (from matplotlib->spanda) (1.4.3)\n",
      "Requirement already satisfied: fonttools>=4.22.0 in /usr/local/lib/python3.9/dist-packages (from matplotlib->spanda) (4.34.4)\n",
      "Requirement already satisfied: pyparsing>=2.2.1 in /usr/local/lib/python3.9/dist-packages (from matplotlib->spanda) (3.0.9)\n",
      "Requirement already satisfied: cycler>=0.10 in /usr/local/lib/python3.9/dist-packages (from matplotlib->spanda) (0.11.0)\n",
      "Requirement already satisfied: pytz>=2020.1 in /usr/local/lib/python3.9/dist-packages (from pandas->spanda) (2022.1)\n",
      "Requirement already satisfied: huggingface-hub in /usr/local/lib/python3.9/dist-packages (from timm->spanda) (0.8.1)\n",
      "Requirement already satisfied: six>=1.5 in /usr/lib/python3/dist-packages (from python-dateutil>=2.7->matplotlib->spanda) (1.14.0)\n",
      "Requirement already satisfied: setuptools in /usr/local/lib/python3.9/dist-packages (from spacy<4->fastai->spanda) (63.1.0)\n",
      "Requirement already satisfied: catalogue<2.1.0,>=2.0.6 in /usr/local/lib/python3.9/dist-packages (from spacy<4->fastai->spanda) (2.0.7)\n",
      "Requirement already satisfied: langcodes<4.0.0,>=3.2.0 in /usr/local/lib/python3.9/dist-packages (from spacy<4->fastai->spanda) (3.3.0)\n",
      "Requirement already satisfied: cymem<2.1.0,>=2.0.2 in /usr/local/lib/python3.9/dist-packages (from spacy<4->fastai->spanda) (2.0.6)\n",
      "Requirement already satisfied: spacy-loggers<2.0.0,>=1.0.0 in /usr/local/lib/python3.9/dist-packages (from spacy<4->fastai->spanda) (1.0.2)\n",
      "Requirement already satisfied: murmurhash<1.1.0,>=0.28.0 in /usr/local/lib/python3.9/dist-packages (from spacy<4->fastai->spanda) (1.0.7)\n",
      "Requirement already satisfied: jinja2 in /usr/local/lib/python3.9/dist-packages (from spacy<4->fastai->spanda) (3.1.2)\n",
      "Requirement already satisfied: typer<0.5.0,>=0.3.0 in /usr/local/lib/python3.9/dist-packages (from spacy<4->fastai->spanda) (0.4.2)\n",
      "Requirement already satisfied: wasabi<1.1.0,>=0.9.1 in /usr/local/lib/python3.9/dist-packages (from spacy<4->fastai->spanda) (0.9.1)\n",
      "Requirement already satisfied: pathy>=0.3.5 in /usr/local/lib/python3.9/dist-packages (from spacy<4->fastai->spanda) (0.6.2)\n",
      "Requirement already satisfied: preshed<3.1.0,>=3.0.2 in /usr/local/lib/python3.9/dist-packages (from spacy<4->fastai->spanda) (3.0.6)\n",
      "Requirement already satisfied: spacy-legacy<3.1.0,>=3.0.9 in /usr/local/lib/python3.9/dist-packages (from spacy<4->fastai->spanda) (3.0.9)\n",
      "Requirement already satisfied: tqdm<5.0.0,>=4.38.0 in /usr/local/lib/python3.9/dist-packages (from spacy<4->fastai->spanda) (4.64.0)\n",
      "Requirement already satisfied: srsly<3.0.0,>=2.4.3 in /usr/local/lib/python3.9/dist-packages (from spacy<4->fastai->spanda) (2.4.3)\n",
      "Requirement already satisfied: thinc<8.2.0,>=8.1.0 in /usr/local/lib/python3.9/dist-packages (from spacy<4->fastai->spanda) (8.1.0)\n",
      "Requirement already satisfied: pydantic!=1.8,!=1.8.1,<1.10.0,>=1.7.4 in /usr/local/lib/python3.9/dist-packages (from spacy<4->fastai->spanda) (1.9.1)\n",
      "Requirement already satisfied: idna<4,>=2.5 in /usr/lib/python3/dist-packages (from requests->fastai->spanda) (2.8)\n",
      "Requirement already satisfied: charset-normalizer<3,>=2 in /usr/local/lib/python3.9/dist-packages (from requests->fastai->spanda) (2.1.0)\n",
      "Requirement already satisfied: certifi>=2017.4.17 in /usr/lib/python3/dist-packages (from requests->fastai->spanda) (2019.11.28)\n",
      "Requirement already satisfied: urllib3<1.27,>=1.21.1 in /usr/local/lib/python3.9/dist-packages (from requests->fastai->spanda) (1.26.10)\n",
      "Requirement already satisfied: typing-extensions in /usr/local/lib/python3.9/dist-packages (from torch<1.14,>=1.7->fastai->spanda) (4.3.0)\n",
      "Requirement already satisfied: filelock in /usr/local/lib/python3.9/dist-packages (from huggingface-hub->timm->spanda) (3.7.1)\n",
      "Requirement already satisfied: joblib>=1.0.0 in /usr/local/lib/python3.9/dist-packages (from scikit-learn->fastai->spanda) (1.1.0)\n",
      "Requirement already satisfied: threadpoolctl>=2.0.0 in /usr/local/lib/python3.9/dist-packages (from scikit-learn->fastai->spanda) (3.1.0)\n",
      "Requirement already satisfied: smart-open<6.0.0,>=5.2.1 in /usr/local/lib/python3.9/dist-packages (from pathy>=0.3.5->spacy<4->fastai->spanda) (5.2.1)\n",
      "Requirement already satisfied: blis<0.8.0,>=0.7.8 in /usr/local/lib/python3.9/dist-packages (from thinc<8.2.0,>=8.1.0->spacy<4->fastai->spanda) (0.7.8)\n",
      "Requirement already satisfied: click<9.0.0,>=7.1.1 in /usr/local/lib/python3.9/dist-packages (from typer<0.5.0,>=0.3.0->spacy<4->fastai->spanda) (8.1.3)\n",
      "Requirement already satisfied: MarkupSafe>=2.0 in /usr/local/lib/python3.9/dist-packages (from jinja2->spacy<4->fastai->spanda) (2.1.1)\n",
      "Building wheels for collected packages: brukeropusreader\n",
      "  Building wheel for brukeropusreader (setup.py) ... \u001b[?25ldone\n",
      "\u001b[?25h  Created wheel for brukeropusreader: filename=brukeropusreader-1.3.4-py3-none-any.whl size=5311 sha256=3a5ec1c08d248858236033338b04d61fbeb64cedb9833df8e413bebab6670437\n",
      "  Stored in directory: /root/.cache/pip/wheels/6a/0d/86/91cddedf53ade4d06446f0efb197520a25ccc18b6725c65378\n",
      "Successfully built brukeropusreader\n",
      "Installing collected packages: brukeropusreader, timm, kennard-stone, spanda\n",
      "Successfully installed brukeropusreader-1.3.4 kennard-stone-2.1.0 spanda-0.0.9 timm-0.6.13\n",
      "\u001b[33mWARNING: Running pip as the 'root' user can result in broken permissions and conflicting behaviour with the system package manager. It is recommended to use a virtual environment instead: https://pip.pypa.io/warnings/venv\u001b[0m\u001b[33m\n",
      "\u001b[0m"
     ]
    }
   ],
   "source": [
    "!pip install spanda"
   ]
  },
  {
   "cell_type": "code",
   "execution_count": 2,
   "id": "e53d1d63",
   "metadata": {},
   "outputs": [],
   "source": [
    "%load_ext autoreload\n",
    "%autoreload 2"
   ]
  },
  {
   "cell_type": "code",
   "execution_count": 8,
   "id": "61c1205d-5b2f-42f3-8dbe-f5453425ab36",
   "metadata": {},
   "outputs": [],
   "source": [
    "from pathlib import Path\n",
    "from fastai.vision.all import *\n",
    "from fastai.data.all import *\n",
    "from tqdm import tqdm\n",
    "import timm\n",
    "\n",
    "from spanda.data.transforms import (SpectraBlock, AnalytesBlock, SpectraTfm, \n",
    "                                    AnalytesTfm, SNVTfm, RandWAvgTfm, AvgTfm, GADFTfm,\n",
    "                                    ResizeTfm, LogTfm)\n",
    "\n",
    "use_cuda = torch.cuda.is_available()\n",
    "device = torch.device('cuda:0' if use_cuda else 'cpu')\n",
    "\n",
    "analyte_name = 725"
   ]
  },
  {
   "cell_type": "code",
   "execution_count": 4,
   "id": "94c36e19-b821-4697-86a9-c4a2f03d8acf",
   "metadata": {},
   "outputs": [
    {
     "data": {
      "text/plain": [
       "(#46305) [Path('/root/kssl-mirs-v2/174608'),Path('/root/kssl-mirs-v2/174916'),Path('/root/kssl-mirs-v2/19897'),Path('/root/kssl-mirs-v2/68409'),Path('/root/kssl-mirs-v2/86746'),Path('/root/kssl-mirs-v2/172147'),Path('/root/kssl-mirs-v2/199430'),Path('/root/kssl-mirs-v2/180551'),Path('/root/kssl-mirs-v2/25251'),Path('/root/kssl-mirs-v2/176480')...]"
      ]
     },
     "execution_count": 4,
     "metadata": {},
     "output_type": "execute_result"
    }
   ],
   "source": [
    "# Only samples with spectra\n",
    "path = Path('/root/kssl-mirs-v2'); path.ls()\n",
    "#path = Path('../../_data/kssl-mirs-v2'); path.ls()"
   ]
  },
  {
   "cell_type": "code",
   "execution_count": 5,
   "id": "795a1352-268b-497c-a372-13ceca479f47",
   "metadata": {},
   "outputs": [
    {
     "name": "stderr",
     "output_type": "stream",
     "text": [
      "100%|██████████| 46305/46305 [00:02<00:00, 22616.83it/s]"
     ]
    },
    {
     "name": "stdout",
     "output_type": "stream",
     "text": [
      "n samples: 46251\n"
     ]
    },
    {
     "name": "stderr",
     "output_type": "stream",
     "text": [
      "\n"
     ]
    }
   ],
   "source": [
    "# keep only when spectra in folder\n",
    "paths = [p for p in tqdm(path.ls()) if len(p.ls()) > 1]; print(f'n samples: {len(paths)}')"
   ]
  },
  {
   "cell_type": "code",
   "execution_count": 6,
   "id": "004d2290-c913-47b0-a857-3e24381c77c6",
   "metadata": {},
   "outputs": [],
   "source": [
    "get_spectra = lambda o: L(f for f in o.ls() if not re.match('target', f.name))\n",
    "get_target = lambda o: [f for f in o.ls() if re.match('target', f.name)][0]"
   ]
  },
  {
   "cell_type": "code",
   "execution_count": 7,
   "id": "62b8766e",
   "metadata": {},
   "outputs": [
    {
     "name": "stdout",
     "output_type": "stream",
     "text": [
      "n samples: 44565\n"
     ]
    }
   ],
   "source": [
    "# Only strictly positive measurements\n",
    "paths = [p for p in paths if AnalytesTfm(analytes=[analyte_name])(get_target(p)) != 0] \n",
    "print(f'n samples: {len(paths)}')"
   ]
  },
  {
   "cell_type": "code",
   "execution_count": 32,
   "id": "724d78b0",
   "metadata": {},
   "outputs": [],
   "source": [
    "n_smp = None # None for all\n",
    "\n",
    "get_spectra = lambda o: L(f for f in o.ls() if not re.match('target', f.name))\n",
    "get_target = lambda o: [f for f in o.ls() if re.match('target', f.name)][0]\n",
    "\n",
    "dblock = DataBlock(blocks=(SpectraBlock, AnalytesBlock(analytes=[analyte_name])),\n",
    "                   get_x=get_spectra,\n",
    "                   get_y=get_target,\n",
    "                   splitter=RandomSplitter(),\n",
    "                   item_tfms=[RandWAvgTfm, GADFTfm, ResizeTfm(256),\n",
    "                              LogTfm])\n",
    "\n",
    "dls = dblock.dataloaders(paths[:n_smp], bs=32, num_workers=6)\n",
    "#dls.show_batch()"
   ]
  },
  {
   "cell_type": "code",
   "execution_count": 29,
   "id": "b0e465e5",
   "metadata": {},
   "outputs": [
    {
     "data": {
      "text/plain": [
       "torch.Size([1, 256, 256])"
      ]
     },
     "execution_count": 29,
     "metadata": {},
     "output_type": "execute_result"
    }
   ],
   "source": [
    "dls.one_batch()[0][0].shape"
   ]
  },
  {
   "cell_type": "code",
   "execution_count": 30,
   "id": "af3ef315",
   "metadata": {},
   "outputs": [
    {
     "data": {
      "image/png": "[encoded data removed]",
      "text/plain": [
       "<Figure size 432x288 with 1 Axes>"
      ]
     },
     "metadata": {
      "needs_background": "light"
     },
     "output_type": "display_data"
    }
   ],
   "source": [
    "plt.imshow(dls.one_batch()[0][0].squeeze().cpu(), cmap='Spectral', \n",
    "           origin='upper', extent=[4000,600,600,4000]);"
   ]
  },
  {
   "cell_type": "code",
   "execution_count": null,
   "id": "7e04b979",
   "metadata": {},
   "outputs": [],
   "source": [
    "# Inside vision_learner (Jarvis Labs): https://www.youtube.com/watch?v=mQMwJU4H3G8"
   ]
  },
  {
   "cell_type": "code",
   "execution_count": null,
   "id": "a2041874",
   "metadata": {},
   "outputs": [],
   "source": [
    "#model = create_timm_model('resnet34', pretrained=True, in_chans=1)"
   ]
  },
  {
   "cell_type": "code",
   "execution_count": null,
   "id": "65e1dc8c",
   "metadata": {},
   "outputs": [],
   "source": [
    "# I have to cut/create head 1\n",
    "#model = timm.create_model('resnet34', pretrained=True, in_chans=1)"
   ]
  },
  {
   "cell_type": "code",
   "execution_count": null,
   "id": "ec625382",
   "metadata": {},
   "outputs": [],
   "source": [
    "#learn = Learner(dls, model, loss_func=MSELossFlat(), metrics=R2Score()).to_fp16()"
   ]
  },
  {
   "cell_type": "code",
   "execution_count": null,
   "id": "24983d56",
   "metadata": {},
   "outputs": [],
   "source": [
    "#learn2 = vision_learner(dls, 'resnet18', loss_func=MSELossFlat(), metrics=R2Score(), n_out=1, n_in=1).to_fp16()"
   ]
  },
  {
   "cell_type": "code",
   "execution_count": 34,
   "id": "fb650ea1",
   "metadata": {},
   "outputs": [],
   "source": [
    "learn = vision_learner(dls, 'resnet18', loss_func=MSELossFlat(), metrics=R2Score(), n_out=1, n_in=1).to_fp16()"
   ]
  },
  {
   "cell_type": "code",
   "execution_count": 17,
   "id": "0068526b",
   "metadata": {},
   "outputs": [
    {
     "data": {
      "text/html": [
       "\n",
       "<style>\n",
       "    /* Turns off some styling */\n",
       "    progress {\n",
       "        /* gets rid of default border in Firefox and Opera. */\n",
       "        border: none;\n",
       "        /* Needs to be in here for Safari polyfill so background images work as expected. */\n",
       "        background-size: auto;\n",
       "    }\n",
       "    progress:not([value]), progress:not([value])::-webkit-progress-bar {\n",
       "        background: repeating-linear-gradient(45deg, #7e7e7e, #7e7e7e 10px, #5c5c5c 10px, #5c5c5c 20px);\n",
       "    }\n",
       "    .progress-bar-interrupted, .progress-bar-interrupted::-webkit-progress-bar {\n",
       "        background: #F44336;\n",
       "    }\n",
       "</style>\n"
      ],
      "text/plain": [
       "<IPython.core.display.HTML object>"
      ]
     },
     "metadata": {},
     "output_type": "display_data"
    },
    {
     "data": {
      "text/html": [],
      "text/plain": [
       "<IPython.core.display.HTML object>"
      ]
     },
     "metadata": {},
     "output_type": "display_data"
    },
    {
     "data": {
      "text/plain": [
       "Sequential (Input shape: 32 x 1 x 256 x 256)\n",
       "============================================================================\n",
       "Layer (type)         Output Shape         Param #    Trainable \n",
       "============================================================================\n",
       "                     32 x 64 x 128 x 128 \n",
       "Conv2d                                    3136       False     \n",
       "BatchNorm2d                               128        True      \n",
       "ReLU                                                           \n",
       "____________________________________________________________________________\n",
       "                     32 x 64 x 64 x 64   \n",
       "MaxPool2d                                                      \n",
       "Conv2d                                    36864      False     \n",
       "BatchNorm2d                               128        True      \n",
       "Identity                                                       \n",
       "ReLU                                                           \n",
       "Identity                                                       \n",
       "Conv2d                                    36864      False     \n",
       "BatchNorm2d                               128        True      \n",
       "ReLU                                                           \n",
       "Conv2d                                    36864      False     \n",
       "BatchNorm2d                               128        True      \n",
       "Identity                                                       \n",
       "ReLU                                                           \n",
       "Identity                                                       \n",
       "Conv2d                                    36864      False     \n",
       "BatchNorm2d                               128        True      \n",
       "ReLU                                                           \n",
       "____________________________________________________________________________\n",
       "                     32 x 128 x 32 x 32  \n",
       "Conv2d                                    73728      False     \n",
       "BatchNorm2d                               256        True      \n",
       "Identity                                                       \n",
       "ReLU                                                           \n",
       "Identity                                                       \n",
       "Conv2d                                    147456     False     \n",
       "BatchNorm2d                               256        True      \n",
       "ReLU                                                           \n",
       "Conv2d                                    8192       False     \n",
       "BatchNorm2d                               256        True      \n",
       "Conv2d                                    147456     False     \n",
       "BatchNorm2d                               256        True      \n",
       "Identity                                                       \n",
       "ReLU                                                           \n",
       "Identity                                                       \n",
       "Conv2d                                    147456     False     \n",
       "BatchNorm2d                               256        True      \n",
       "ReLU                                                           \n",
       "____________________________________________________________________________\n",
       "                     32 x 256 x 16 x 16  \n",
       "Conv2d                                    294912     False     \n",
       "BatchNorm2d                               512        True      \n",
       "Identity                                                       \n",
       "ReLU                                                           \n",
       "Identity                                                       \n",
       "Conv2d                                    589824     False     \n",
       "BatchNorm2d                               512        True      \n",
       "ReLU                                                           \n",
       "Conv2d                                    32768      False     \n",
       "BatchNorm2d                               512        True      \n",
       "Conv2d                                    589824     False     \n",
       "BatchNorm2d                               512        True      \n",
       "Identity                                                       \n",
       "ReLU                                                           \n",
       "Identity                                                       \n",
       "Conv2d                                    589824     False     \n",
       "BatchNorm2d                               512        True      \n",
       "ReLU                                                           \n",
       "____________________________________________________________________________\n",
       "                     32 x 512 x 8 x 8    \n",
       "Conv2d                                    1179648    False     \n",
       "BatchNorm2d                               1024       True      \n",
       "Identity                                                       \n",
       "ReLU                                                           \n",
       "Identity                                                       \n",
       "Conv2d                                    2359296    False     \n",
       "BatchNorm2d                               1024       True      \n",
       "ReLU                                                           \n",
       "Conv2d                                    131072     False     \n",
       "BatchNorm2d                               1024       True      \n",
       "Conv2d                                    2359296    False     \n",
       "BatchNorm2d                               1024       True      \n",
       "Identity                                                       \n",
       "ReLU                                                           \n",
       "Identity                                                       \n",
       "Conv2d                                    2359296    False     \n",
       "BatchNorm2d                               1024       True      \n",
       "ReLU                                                           \n",
       "____________________________________________________________________________\n",
       "                     32 x 512 x 1 x 1    \n",
       "AdaptiveAvgPool2d                                              \n",
       "AdaptiveMaxPool2d                                              \n",
       "____________________________________________________________________________\n",
       "                     32 x 1024           \n",
       "Flatten                                                        \n",
       "BatchNorm1d                               2048       True      \n",
       "Dropout                                                        \n",
       "____________________________________________________________________________\n",
       "                     32 x 512            \n",
       "Linear                                    524288     True      \n",
       "ReLU                                                           \n",
       "BatchNorm1d                               1024       True      \n",
       "Dropout                                                        \n",
       "____________________________________________________________________________\n",
       "                     32 x 1              \n",
       "Linear                                    512        True      \n",
       "____________________________________________________________________________\n",
       "\n",
       "Total params: 11,698,112\n",
       "Total trainable params: 537,472\n",
       "Total non-trainable params: 11,160,640\n",
       "\n",
       "Optimizer used: <function Adam at 0x7f5dabdd35e0>\n",
       "Loss function: FlattenedLoss of MSELoss()\n",
       "\n",
       "Model frozen up to parameter group #1\n",
       "\n",
       "Callbacks:\n",
       "  - TrainEvalCallback\n",
       "  - CastToTensor\n",
       "  - MixedPrecision\n",
       "  - Recorder\n",
       "  - ProgressCallback"
      ]
     },
     "execution_count": 17,
     "metadata": {},
     "output_type": "execute_result"
    }
   ],
   "source": [
    "learn.summary()"
   ]
  },
  {
   "cell_type": "code",
   "execution_count": 35,
   "id": "63ed044d",
   "metadata": {},
   "outputs": [
    {
     "data": {
      "text/html": [
       "\n",
       "<style>\n",
       "    /* Turns off some styling */\n",
       "    progress {\n",
       "        /* gets rid of default border in Firefox and Opera. */\n",
       "        border: none;\n",
       "        /* Needs to be in here for Safari polyfill so background images work as expected. */\n",
       "        background-size: auto;\n",
       "    }\n",
       "    progress:not([value]), progress:not([value])::-webkit-progress-bar {\n",
       "        background: repeating-linear-gradient(45deg, #7e7e7e, #7e7e7e 10px, #5c5c5c 10px, #5c5c5c 20px);\n",
       "    }\n",
       "    .progress-bar-interrupted, .progress-bar-interrupted::-webkit-progress-bar {\n",
       "        background: #F44336;\n",
       "    }\n",
       "</style>\n"
      ],
      "text/plain": [
       "<IPython.core.display.HTML object>"
      ]
     },
     "metadata": {},
     "output_type": "display_data"
    },
    {
     "data": {
      "text/html": [],
      "text/plain": [
       "<IPython.core.display.HTML object>"
      ]
     },
     "metadata": {},
     "output_type": "display_data"
    },
    {
     "data": {
      "text/plain": [
       "SuggestedLRs(valley=0.004365158267319202)"
      ]
     },
     "execution_count": 35,
     "metadata": {},
     "output_type": "execute_result"
    },
    {
     "data": {
      "image/png": "[encoded data removed]",
      "text/plain": [
       "<Figure size 432x288 with 1 Axes>"
      ]
     },
     "metadata": {
      "needs_background": "light"
     },
     "output_type": "display_data"
    }
   ],
   "source": [
    "learn.lr_find()"
   ]
  },
  {
   "cell_type": "code",
   "execution_count": 36,
   "id": "56933408",
   "metadata": {},
   "outputs": [
    {
     "data": {
      "text/html": [
       "\n",
       "<style>\n",
       "    /* Turns off some styling */\n",
       "    progress {\n",
       "        /* gets rid of default border in Firefox and Opera. */\n",
       "        border: none;\n",
       "        /* Needs to be in here for Safari polyfill so background images work as expected. */\n",
       "        background-size: auto;\n",
       "    }\n",
       "    progress:not([value]), progress:not([value])::-webkit-progress-bar {\n",
       "        background: repeating-linear-gradient(45deg, #7e7e7e, #7e7e7e 10px, #5c5c5c 10px, #5c5c5c 20px);\n",
       "    }\n",
       "    .progress-bar-interrupted, .progress-bar-interrupted::-webkit-progress-bar {\n",
       "        background: #F44336;\n",
       "    }\n",
       "</style>\n"
      ],
      "text/plain": [
       "<IPython.core.display.HTML object>"
      ]
     },
     "metadata": {},
     "output_type": "display_data"
    },
    {
     "data": {
      "text/html": [
       "<table border=\"1\" class=\"dataframe\">\n",
       "  <thead>\n",
       "    <tr style=\"text-align: left;\">\n",
       "      <th>epoch</th>\n",
       "      <th>train_loss</th>\n",
       "      <th>valid_loss</th>\n",
       "      <th>r2_score</th>\n",
       "      <th>time</th>\n",
       "    </tr>\n",
       "  </thead>\n",
       "  <tbody>\n",
       "    <tr>\n",
       "      <td>0</td>\n",
       "      <td>0.169851</td>\n",
       "      <td>0.112278</td>\n",
       "      <td>0.513433</td>\n",
       "      <td>06:02</td>\n",
       "    </tr>\n",
       "  </tbody>\n",
       "</table>"
      ],
      "text/plain": [
       "<IPython.core.display.HTML object>"
      ]
     },
     "metadata": {},
     "output_type": "display_data"
    },
    {
     "data": {
      "text/html": [
       "\n",
       "<style>\n",
       "    /* Turns off some styling */\n",
       "    progress {\n",
       "        /* gets rid of default border in Firefox and Opera. */\n",
       "        border: none;\n",
       "        /* Needs to be in here for Safari polyfill so background images work as expected. */\n",
       "        background-size: auto;\n",
       "    }\n",
       "    progress:not([value]), progress:not([value])::-webkit-progress-bar {\n",
       "        background: repeating-linear-gradient(45deg, #7e7e7e, #7e7e7e 10px, #5c5c5c 10px, #5c5c5c 20px);\n",
       "    }\n",
       "    .progress-bar-interrupted, .progress-bar-interrupted::-webkit-progress-bar {\n",
       "        background: #F44336;\n",
       "    }\n",
       "</style>\n"
      ],
      "text/plain": [
       "<IPython.core.display.HTML object>"
      ]
     },
     "metadata": {},
     "output_type": "display_data"
    },
    {
     "data": {
      "text/html": [
       "<table border=\"1\" class=\"dataframe\">\n",
       "  <thead>\n",
       "    <tr style=\"text-align: left;\">\n",
       "      <th>epoch</th>\n",
       "      <th>train_loss</th>\n",
       "      <th>valid_loss</th>\n",
       "      <th>r2_score</th>\n",
       "      <th>time</th>\n",
       "    </tr>\n",
       "  </thead>\n",
       "  <tbody>\n",
       "    <tr>\n",
       "      <td>0</td>\n",
       "      <td>0.086819</td>\n",
       "      <td>0.074043</td>\n",
       "      <td>0.679127</td>\n",
       "      <td>06:20</td>\n",
       "    </tr>\n",
       "    <tr>\n",
       "      <td>1</td>\n",
       "      <td>0.076483</td>\n",
       "      <td>0.070027</td>\n",
       "      <td>0.696529</td>\n",
       "      <td>06:11</td>\n",
       "    </tr>\n",
       "    <tr>\n",
       "      <td>2</td>\n",
       "      <td>0.070250</td>\n",
       "      <td>0.080275</td>\n",
       "      <td>0.652120</td>\n",
       "      <td>05:58</td>\n",
       "    </tr>\n",
       "    <tr>\n",
       "      <td>3</td>\n",
       "      <td>0.074822</td>\n",
       "      <td>0.074860</td>\n",
       "      <td>0.675585</td>\n",
       "      <td>06:06</td>\n",
       "    </tr>\n",
       "    <tr>\n",
       "      <td>4</td>\n",
       "      <td>0.069246</td>\n",
       "      <td>0.064235</td>\n",
       "      <td>0.721632</td>\n",
       "      <td>06:21</td>\n",
       "    </tr>\n",
       "    <tr>\n",
       "      <td>5</td>\n",
       "      <td>0.068235</td>\n",
       "      <td>0.066219</td>\n",
       "      <td>0.713031</td>\n",
       "      <td>06:20</td>\n",
       "    </tr>\n",
       "    <tr>\n",
       "      <td>6</td>\n",
       "      <td>0.063127</td>\n",
       "      <td>0.055640</td>\n",
       "      <td>0.758877</td>\n",
       "      <td>06:15</td>\n",
       "    </tr>\n",
       "    <tr>\n",
       "      <td>7</td>\n",
       "      <td>0.059945</td>\n",
       "      <td>0.055468</td>\n",
       "      <td>0.759623</td>\n",
       "      <td>06:15</td>\n",
       "    </tr>\n",
       "    <tr>\n",
       "      <td>8</td>\n",
       "      <td>0.057103</td>\n",
       "      <td>0.063794</td>\n",
       "      <td>0.723544</td>\n",
       "      <td>06:11</td>\n",
       "    </tr>\n",
       "    <tr>\n",
       "      <td>9</td>\n",
       "      <td>0.049702</td>\n",
       "      <td>0.054412</td>\n",
       "      <td>0.764198</td>\n",
       "      <td>06:37</td>\n",
       "    </tr>\n",
       "    <tr>\n",
       "      <td>10</td>\n",
       "      <td>0.046471</td>\n",
       "      <td>0.052845</td>\n",
       "      <td>0.770989</td>\n",
       "      <td>06:40</td>\n",
       "    </tr>\n",
       "    <tr>\n",
       "      <td>11</td>\n",
       "      <td>0.040989</td>\n",
       "      <td>0.046905</td>\n",
       "      <td>0.796732</td>\n",
       "      <td>06:14</td>\n",
       "    </tr>\n",
       "    <tr>\n",
       "      <td>12</td>\n",
       "      <td>0.037604</td>\n",
       "      <td>0.050789</td>\n",
       "      <td>0.779902</td>\n",
       "      <td>06:03</td>\n",
       "    </tr>\n",
       "    <tr>\n",
       "      <td>13</td>\n",
       "      <td>0.031766</td>\n",
       "      <td>0.043776</td>\n",
       "      <td>0.810292</td>\n",
       "      <td>06:08</td>\n",
       "    </tr>\n",
       "    <tr>\n",
       "      <td>14</td>\n",
       "      <td>0.028312</td>\n",
       "      <td>0.041944</td>\n",
       "      <td>0.818232</td>\n",
       "      <td>06:15</td>\n",
       "    </tr>\n",
       "    <tr>\n",
       "      <td>15</td>\n",
       "      <td>0.022417</td>\n",
       "      <td>0.041514</td>\n",
       "      <td>0.820096</td>\n",
       "      <td>06:10</td>\n",
       "    </tr>\n",
       "    <tr>\n",
       "      <td>16</td>\n",
       "      <td>0.021155</td>\n",
       "      <td>0.041648</td>\n",
       "      <td>0.819513</td>\n",
       "      <td>06:06</td>\n",
       "    </tr>\n",
       "    <tr>\n",
       "      <td>17</td>\n",
       "      <td>0.020517</td>\n",
       "      <td>0.040749</td>\n",
       "      <td>0.823410</td>\n",
       "      <td>06:04</td>\n",
       "    </tr>\n",
       "    <tr>\n",
       "      <td>18</td>\n",
       "      <td>0.017950</td>\n",
       "      <td>0.040627</td>\n",
       "      <td>0.823941</td>\n",
       "      <td>06:09</td>\n",
       "    </tr>\n",
       "    <tr>\n",
       "      <td>19</td>\n",
       "      <td>0.017114</td>\n",
       "      <td>0.040409</td>\n",
       "      <td>0.824884</td>\n",
       "      <td>06:04</td>\n",
       "    </tr>\n",
       "  </tbody>\n",
       "</table>"
      ],
      "text/plain": [
       "<IPython.core.display.HTML object>"
      ]
     },
     "metadata": {},
     "output_type": "display_data"
    }
   ],
   "source": [
    "learn.fine_tune(20, 1e-2)"
   ]
  },
  {
   "cell_type": "code",
   "execution_count": 37,
   "id": "1de7c15e",
   "metadata": {},
   "outputs": [
    {
     "data": {
      "text/plain": [
       "Path('models/xresnet18-kex-mirs-kssl-20-epochs-gadf-05052023.pth')"
      ]
     },
     "execution_count": 37,
     "metadata": {},
     "output_type": "execute_result"
    }
   ],
   "source": [
    "learn.save('xresnet18-kex-mirs-kssl-20-epochs-gadf-05052023')"
   ]
  },
  {
   "cell_type": "code",
   "execution_count": null,
   "id": "c44c8ac3-c9dc-430f-9287-f8be8d3c55aa",
   "metadata": {},
   "outputs": [],
   "source": []
  }
 ],
 "metadata": {
  "kernelspec": {
   "display_name": "Python 3 (ipykernel)",
   "language": "python",
   "name": "python3"
  },
  "language_info": {
   "codemirror_mode": {
    "name": "ipython",
    "version": 3
   },
   "file_extension": ".py",
   "mimetype": "text/x-python",
   "name": "python",
   "nbconvert_exporter": "python",
   "pygments_lexer": "ipython3",
   "version": "3.9.13"
  }
 },
 "nbformat": 4,
 "nbformat_minor": 5
}
