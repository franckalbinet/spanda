{
 "cells": [
  {
   "cell_type": "markdown",
   "metadata": {},
   "source": [
    "# WCRC\n",
    "\n",
    "> Various Transforms to be piped to create a DataLoader"
   ]
  },
  {
   "cell_type": "code",
   "execution_count": null,
   "metadata": {},
   "outputs": [],
   "source": [
    "#| default_exp data.transforms.wcrc"
   ]
  },
  {
   "cell_type": "code",
   "execution_count": null,
   "metadata": {},
   "outputs": [],
   "source": [
    "#| export\n",
    "from __future__ import annotations\n",
    "from fastai.vision.all import *\n",
    "from fastai.data.all import *\n",
    "from fastcore.basics import patch\n",
    "from pathlib import Path\n",
    "import pandas as pd\n",
    "from tqdm import tqdm"
   ]
  },
  {
   "cell_type": "code",
   "execution_count": null,
   "metadata": {},
   "outputs": [],
   "source": [
    "#| hide\n",
    "from nbdev.showdoc import *\n",
    "from nbdev.cli import *"
   ]
  },
  {
   "cell_type": "markdown",
   "metadata": {},
   "source": [
    "## Input (spectra)"
   ]
  },
  {
   "cell_type": "code",
   "execution_count": null,
   "metadata": {},
   "outputs": [
    {
     "data": {
      "text/plain": [
       "Path('../_data/wcrc-ct-bundled/Woodwell_vertex/potassium_cmolkg/train')"
      ]
     },
     "execution_count": null,
     "metadata": {},
     "output_type": "execute_result"
    }
   ],
   "source": [
    "#|eval: false\n",
    "org = 'Woodwell_vertex'\n",
    "analyte = 'potassium_cmolkg'\n",
    "ds = 'train'\n",
    "path = Path('../_data/wcrc-ct-bundled') / org / analyte / ds; path"
   ]
  },
  {
   "cell_type": "code",
   "execution_count": null,
   "metadata": {},
   "outputs": [
    {
     "data": {
      "text/plain": [
       "(#48) [Path('../_data/wcrc-ct-bundled/Woodwell_vertex/potassium_cmolkg/train/RT_23'),Path('../_data/wcrc-ct-bundled/Woodwell_vertex/potassium_cmolkg/train/RT_24'),Path('../_data/wcrc-ct-bundled/Woodwell_vertex/potassium_cmolkg/train/RT_12'),Path('../_data/wcrc-ct-bundled/Woodwell_vertex/potassium_cmolkg/train/RT_15'),Path('../_data/wcrc-ct-bundled/Woodwell_vertex/potassium_cmolkg/train/RT_41'),Path('../_data/wcrc-ct-bundled/Woodwell_vertex/potassium_cmolkg/train/RT_46'),Path('../_data/wcrc-ct-bundled/Woodwell_vertex/potassium_cmolkg/train/RT_48'),Path('../_data/wcrc-ct-bundled/Woodwell_vertex/potassium_cmolkg/train/RT_14'),Path('../_data/wcrc-ct-bundled/Woodwell_vertex/potassium_cmolkg/train/RT_13'),Path('../_data/wcrc-ct-bundled/Woodwell_vertex/potassium_cmolkg/train/RT_22')...]"
      ]
     },
     "execution_count": null,
     "metadata": {},
     "output_type": "execute_result"
    }
   ],
   "source": [
    "path.ls()"
   ]
  },
  {
   "cell_type": "code",
   "execution_count": null,
   "metadata": {},
   "outputs": [],
   "source": [
    "#paths = L()\n",
    "#for p in tqdm(path.ls()):\n",
    "#    is_analyte_pos = AnalytesTfm(analytes=[725])(p).item() > 0\n",
    "#    has_spectra = len(get_spectra_files(p)) > 0\n",
    "#    if is_analyte_pos and has_spectra: paths.append(p)"
   ]
  },
  {
   "cell_type": "code",
   "execution_count": null,
   "metadata": {},
   "outputs": [],
   "source": [
    "#| export\n",
    "@Transform\n",
    "def get_spectra_files(path:Path, # Directory that contains spectra replicates and wet chemistry\n",
    "                     ) -> L: # List of spectra replicates (if any) file paths in the directory\n",
    "    \"Return list of paths to spectra `.csv` files\"\n",
    "    return L(fname for fname in path.ls() if re.match('spectrum', fname.name))"
   ]
  },
  {
   "cell_type": "code",
   "execution_count": null,
   "metadata": {},
   "outputs": [
    {
     "data": {
      "text/plain": [
       "(#1) [Path('../_data/wcrc-ct-bundled/Woodwell_vertex/potassium_cmolkg/train/RT_23/spectrum.csv')]"
      ]
     },
     "execution_count": null,
     "metadata": {},
     "output_type": "execute_result"
    }
   ],
   "source": [
    "#|eval: false\n",
    "get_spectra_files(path.ls()[0])"
   ]
  },
  {
   "cell_type": "code",
   "execution_count": null,
   "metadata": {},
   "outputs": [
    {
     "data": {
      "text/plain": [
       "array([4000, 3998, 3996, ...,  606,  604,  602])"
      ]
     },
     "execution_count": null,
     "metadata": {},
     "output_type": "execute_result"
    }
   ],
   "source": [
    "wn = np.arange(4000, 600, -2); wn"
   ]
  },
  {
   "cell_type": "code",
   "execution_count": null,
   "metadata": {},
   "outputs": [],
   "source": [
    "#| export\n",
    "class Spectra(fastuple):\n",
    "    def show(self, ctx=None, figsize=(12,4), **kwargs):\n",
    "        spectra, wns, smp_id = self\n",
    "        if ctx is None: _,ctx = plt.subplots(figsize=figsize)\n",
    "        ctx.set_xlim(np.max(wns), np.min(wns))\n",
    "        ctx.set(xlabel='Wavenumber', ylabel='Absorbance')\n",
    "        ctx.set_axisbelow(True)\n",
    "        for spectrum in spectra:\n",
    "            ax = ctx.plot(wns, spectrum, c='steelblue', lw=1)\n",
    "        ctx.grid(True, which='both')\n",
    "        ctx.set_title(f'Sample ID: {smp_id}')\n",
    "        return ctx;"
   ]
  },
  {
   "cell_type": "code",
   "execution_count": null,
   "metadata": {},
   "outputs": [
    {
     "data": {
      "text/plain": [
       "'RT_23'"
      ]
     },
     "execution_count": null,
     "metadata": {},
     "output_type": "execute_result"
    }
   ],
   "source": [
    "Path('../_data/wcrc-ct-bundled/Woodwell_vertex/potassium_cmolkg/train/RT_23/spectrum.csv').parent.stem"
   ]
  },
  {
   "cell_type": "code",
   "execution_count": null,
   "metadata": {},
   "outputs": [],
   "source": [
    "#| export\n",
    "#class SpectraTransform(Transform):\n",
    "#    def __init__(self, paths):\n",
    "#        self.paths = L(fname for fname in paths \n",
    "#                       if re.match('spectrum', fname.name))\n",
    "#        self.df = pd.read_csv(self.paths[0]) \n",
    "#        self.wns = self.df['wavenumber'].values\n",
    "#        self.smp_id = paths[0].parent.stem\n",
    "#        self.n = self.df.shape[0]\n",
    "#        self.m = len(paths)\n",
    "\n",
    "#    def encodes(self, f):\n",
    "#        x = np.empty((self.m, self.n))\n",
    "#        for i, fname in enumerate(f):\n",
    "#            x[i,:] = pd.read_csv(fname)['absorbance'].values\n",
    "#        return Spectra(x, self.wns, self.smp_id)"
   ]
  },
  {
   "cell_type": "code",
   "execution_count": null,
   "metadata": {},
   "outputs": [],
   "source": [
    "#path.ls()"
   ]
  },
  {
   "cell_type": "code",
   "execution_count": null,
   "metadata": {},
   "outputs": [],
   "source": [
    "#paths = L([Path('../_data/wcrc-ct-bundled/Woodwell_vertex/potassium_cmolkg/train/RT_22/spectrum.csv')])\n",
    "#path\n",
    "#tfm = SpectraTransform(path.ls())\n",
    "#tfm(paths).show();"
   ]
  },
  {
   "cell_type": "code",
   "execution_count": null,
   "metadata": {},
   "outputs": [],
   "source": [
    "#| export\n",
    "@Transform\n",
    "def to_spectra(paths:L, # List of spectra file paths\n",
    "              ) -> torch.Tensor: # Spectra\n",
    "    \"Transform list of spectra file paths to a torch array of dimension: (n_replicates, n_wavenumbers)\"\n",
    "    df = pd.read_csv(paths[0]) \n",
    "    wns = df['wavenumber'].values\n",
    "    smp_id = paths[0].parent.stem\n",
    "    n = df.shape[0]\n",
    "    m = len(paths)\n",
    "    x = np.empty((m,n))\n",
    "    for i, fname in enumerate(paths):\n",
    "        x[i,:] = pd.read_csv(fname)['absorbance'].values\n",
    "    #return Spectra(torch.Tensor(x), wns, smp_id)\n",
    "    return torch.Tensor(x)"
   ]
  },
  {
   "cell_type": "code",
   "execution_count": null,
   "metadata": {},
   "outputs": [
    {
     "data": {
      "text/plain": [
       "tensor([-1.6334, -1.6329, -1.6325,  ...,  1.5224,  1.5367,  1.7113])"
      ]
     },
     "execution_count": null,
     "metadata": {},
     "output_type": "execute_result"
    }
   ],
   "source": [
    "#|eval: false\n",
    "#tls = TfmdLists(path.ls(), [get_spectra_files, to_spectra, snv])\n",
    "##spectraTransform = SpectraTransform(\n",
    "tls = TfmdLists(path.ls(), [get_spectra_files, to_spectra, snv])\n",
    "tls[0][0]"
   ]
  },
  {
   "cell_type": "code",
   "execution_count": null,
   "metadata": {},
   "outputs": [],
   "source": [
    "#| export\n",
    "@Transform\n",
    "def snv(x:torch.Tensor, # Spectrum \n",
    "       ) -> Tensor: # Standard Normal Variate of spectrum\n",
    "    \"Standard Normal Variate Transform of input spectrum\"\n",
    "    mean, std = torch.mean(x), torch.std(x)\n",
    "    return (x - mean)/std"
   ]
  },
  {
   "cell_type": "markdown",
   "metadata": {},
   "source": [
    "## Target (Soil properties)"
   ]
  },
  {
   "cell_type": "code",
   "execution_count": null,
   "metadata": {},
   "outputs": [],
   "source": [
    "#| export\n",
    "class Analyte(Tensor): \n",
    "    def show(self, ctx=None, **kwargs):\n",
    "        analytes = self\n",
    "        print(analytes)"
   ]
  },
  {
   "cell_type": "code",
   "execution_count": null,
   "metadata": {},
   "outputs": [],
   "source": [
    "#| export\n",
    "class AnalytesTfm(Transform):\n",
    "    def __init__(self, \n",
    "                 analytes:list|None=None): \n",
    "        self.analytes = analytes"
   ]
  },
  {
   "cell_type": "code",
   "execution_count": null,
   "metadata": {},
   "outputs": [],
   "source": [
    "#| export\n",
    "@AnalytesTfm\n",
    "def encodes(self, \n",
    "            path: Path, # Path to directory containing both spectra and analyte(s) measurement\n",
    "           ):\n",
    "    \"Transform a path to a directory into a tensor of soil analyte(s) measurement\"\n",
    "    path_target = [f for f in path.ls() if re.match('target', f.name)][0]\n",
    "    df = pd.read_csv(path_target)\n",
    "    if self.analytes:\n",
    "        df = df[df.analyte.isin(self.analytes)]\n",
    "    return Analyte(df['value'].values)"
   ]
  },
  {
   "cell_type": "code",
   "execution_count": null,
   "metadata": {},
   "outputs": [
    {
     "data": {
      "text/plain": [
       "Analyte([0.1896])"
      ]
     },
     "execution_count": null,
     "metadata": {},
     "output_type": "execute_result"
    }
   ],
   "source": [
    "#|eval: false\n",
    "AnalytesTfm(analytes=['potassium_cmolkg'])(path.ls()[0])"
   ]
  },
  {
   "cell_type": "code",
   "execution_count": null,
   "metadata": {},
   "outputs": [
    {
     "data": {
      "text/plain": [
       "Analyte([-0.7222])"
      ]
     },
     "execution_count": null,
     "metadata": {},
     "output_type": "execute_result"
    }
   ],
   "source": [
    "#|eval: false\n",
    "# Or as a TfmdLists pipeline\n",
    "tls = TfmdLists(path.ls(), [AnalytesTfm(analytes=['potassium_cmolkg']), torch.log10])\n",
    "tls[0]"
   ]
  },
  {
   "cell_type": "code",
   "execution_count": null,
   "metadata": {},
   "outputs": [
    {
     "data": {
      "text/plain": [
       "(nan, nan)"
      ]
     },
     "execution_count": null,
     "metadata": {},
     "output_type": "execute_result"
    }
   ],
   "source": [
    "#t = np.array([AnalytesTfm(analytes=['potassium_cmolkg'])(fname).item() for fname in path.ls()])\n",
    "#np.log10(t.min()), np.log10(t.max())"
   ]
  },
  {
   "cell_type": "markdown",
   "metadata": {},
   "source": [
    "## How to use these transforms?"
   ]
  },
  {
   "cell_type": "markdown",
   "metadata": {},
   "source": [
    "1. First create two // pipes (one for the features and one for the targets):"
   ]
  },
  {
   "cell_type": "code",
   "execution_count": null,
   "metadata": {},
   "outputs": [],
   "source": [
    "#|eval: false\n",
    "x_tfms = [get_spectra_files, to_spectra, snv]\n",
    "y_tfms = [AnalytesTfm(analytes=['potassium_cmolkg']), torch.log10]"
   ]
  },
  {
   "cell_type": "markdown",
   "metadata": {},
   "source": [
    "2. Create your splits and create a Fastai `Datasets`:"
   ]
  },
  {
   "cell_type": "code",
   "execution_count": null,
   "metadata": {},
   "outputs": [],
   "source": [
    "#|eval: false\n",
    "splits = RandomSplitter(seed=42)(path.ls())\n",
    "dsets = Datasets(path.ls(), [x_tfms, y_tfms], splits=splits)"
   ]
  },
  {
   "cell_type": "markdown",
   "metadata": {},
   "source": [
    "3. Then you get your Dataloader:"
   ]
  },
  {
   "cell_type": "code",
   "execution_count": null,
   "metadata": {},
   "outputs": [],
   "source": [
    "#|eval: false\n",
    "dls = dsets.dataloaders(bs=16)"
   ]
  },
  {
   "cell_type": "code",
   "execution_count": null,
   "metadata": {},
   "outputs": [
    {
     "data": {
      "text/plain": [
       "tensor([[[-1.4117, -1.4118, -1.4119,  ...,  1.7971,  1.7349,  1.7549]],\n",
       "\n",
       "        [[-1.4763, -1.4756, -1.4752,  ...,  1.6744,  1.7781,  1.7649]],\n",
       "\n",
       "        [[-1.5275, -1.5270, -1.5265,  ...,  1.5975,  1.6960,  1.7508]],\n",
       "\n",
       "        ...,\n",
       "\n",
       "        [[-1.3665, -1.3660, -1.3656,  ...,  2.1362,  2.0951,  1.9890]],\n",
       "\n",
       "        [[-1.5171, -1.5170, -1.5164,  ...,  2.0831,  1.8169,  1.7904]],\n",
       "\n",
       "        [[-1.5781, -1.5779, -1.5778,  ...,  1.1844,  1.4068,  1.3993]]])"
      ]
     },
     "execution_count": null,
     "metadata": {},
     "output_type": "execute_result"
    }
   ],
   "source": [
    "#|eval: false\n",
    "dls.train.one_batch()[0]"
   ]
  },
  {
   "cell_type": "code",
   "execution_count": null,
   "metadata": {},
   "outputs": [
    {
     "data": {
      "text/plain": [
       "Analyte([[-0.0967],\n",
       "         [-0.2080],\n",
       "         [-0.2495],\n",
       "         [-0.5222],\n",
       "         [-0.4369],\n",
       "         [-0.2424],\n",
       "         [-1.0660],\n",
       "         [-0.2549],\n",
       "         [-0.7222],\n",
       "         [-0.3017],\n",
       "         [-0.0274],\n",
       "         [-0.9488],\n",
       "         [ 0.0266],\n",
       "         [-0.0143],\n",
       "         [-0.4307],\n",
       "         [-0.3165]])"
      ]
     },
     "execution_count": null,
     "metadata": {},
     "output_type": "execute_result"
    }
   ],
   "source": [
    "#|eval: false\n",
    "dls.train.one_batch()[1]"
   ]
  },
  {
   "cell_type": "code",
   "execution_count": null,
   "metadata": {},
   "outputs": [],
   "source": [
    "#for s, a in dls.train:\n",
    "#    print(s.shape)\n",
    "#    print(a.shape)"
   ]
  },
  {
   "cell_type": "code",
   "execution_count": null,
   "metadata": {},
   "outputs": [],
   "source": [
    "#dls.show_batch(max_n=4)"
   ]
  },
  {
   "cell_type": "code",
   "execution_count": null,
   "metadata": {},
   "outputs": [],
   "source": []
  }
 ],
 "metadata": {
  "kernelspec": {
   "display_name": "Python 3 (ipykernel)",
   "language": "python",
   "name": "python3"
  }
 },
 "nbformat": 4,
 "nbformat_minor": 4
}
