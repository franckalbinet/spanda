{
 "cells": [
  {
   "cell_type": "markdown",
   "metadata": {},
   "source": [
    "# KSSL\n",
    "\n",
    "> Various Transforms to be piped to create a DataLoader"
   ]
  },
  {
   "cell_type": "code",
   "execution_count": null,
   "metadata": {},
   "outputs": [],
   "source": [
    "#| default_exp data.transforms.kssl"
   ]
  },
  {
   "cell_type": "code",
   "execution_count": null,
   "metadata": {},
   "outputs": [],
   "source": [
    "#| export\n",
    "from __future__ import annotations\n",
    "from fastai.vision.all import *\n",
    "from fastai.data.all import *\n",
    "from fastcore.basics import patch\n",
    "from pathlib import Path\n",
    "import pandas as pd\n",
    "from tqdm import tqdm"
   ]
  },
  {
   "cell_type": "code",
   "execution_count": null,
   "metadata": {},
   "outputs": [],
   "source": [
    "#| hide\n",
    "from nbdev.showdoc import *\n",
    "from nbdev.cli import *"
   ]
  },
  {
   "cell_type": "markdown",
   "metadata": {},
   "source": [
    "## Input (spectra)"
   ]
  },
  {
   "cell_type": "code",
   "execution_count": null,
   "metadata": {},
   "outputs": [],
   "source": [
    "#|eval: false\n",
    "path = Path('../_data/kssl-mirs-v2')"
   ]
  },
  {
   "cell_type": "code",
   "execution_count": null,
   "metadata": {},
   "outputs": [],
   "source": [
    "#def is_valid(path):\n",
    "#    is_analyte_pos = AnalytesTfm(analytes=[725])(path).item() > 0\n",
    "#    has_spectra = len(get_spectra_files(path)) > 0\n",
    "#    return is_analyte_pos and has_spectra"
   ]
  },
  {
   "cell_type": "code",
   "execution_count": null,
   "metadata": {},
   "outputs": [],
   "source": [
    "#%%time \n",
    "#mask = parallel(is_valid, path.ls(), n_workers=8, progress=True)\n",
    "#paths = path.ls()[mask]"
   ]
  },
  {
   "cell_type": "code",
   "execution_count": null,
   "metadata": {},
   "outputs": [],
   "source": [
    "#|eval: false\n",
    "#@paths = L()\n",
    "#for p in tqdm(path.ls()):\n",
    "#    is_analyte_pos = AnalytesTfm(analytes=[725])(p).item() > 0\n",
    "#    has_spectra = len(get_spectra_files(p)) > 0\n",
    "#    if is_analyte_pos and has_spectra: paths.append(p)"
   ]
  },
  {
   "cell_type": "code",
   "execution_count": null,
   "metadata": {},
   "outputs": [],
   "source": [
    "#| export\n",
    "#@Transform\n",
    "#def get_spectra_files(path:Path, # Directory that contains spectra replicates and wet chemistry\n",
    "#                     ) -> L: # List of spectra replicates (if any) file paths in the directory\n",
    "#    \"Return list of paths to spectra `.csv` files\"\n",
    "#    return L(fname for fname in path.ls() if re.match('\\d', fname.name))"
   ]
  },
  {
   "cell_type": "code",
   "execution_count": null,
   "metadata": {},
   "outputs": [],
   "source": [
    "#|eval: false\n",
    "#fn = path.ls()[0]\n",
    "#get_spectra_files(fn)"
   ]
  },
  {
   "cell_type": "code",
   "execution_count": null,
   "metadata": {},
   "outputs": [],
   "source": [
    "#wn = np.arange(4000, 600, -2); wn"
   ]
  },
  {
   "cell_type": "code",
   "execution_count": null,
   "metadata": {},
   "outputs": [
    {
     "data": {
      "text/plain": [
       "(#46305) [Path('../_data/kssl-mirs-v2/180338'),Path('../_data/kssl-mirs-v2/172221'),Path('../_data/kssl-mirs-v2/177753'),Path('../_data/kssl-mirs-v2/184798'),Path('../_data/kssl-mirs-v2/53759'),Path('../_data/kssl-mirs-v2/74947'),Path('../_data/kssl-mirs-v2/176681'),Path('../_data/kssl-mirs-v2/1855'),Path('../_data/kssl-mirs-v2/175004'),Path('../_data/kssl-mirs-v2/34499')...]"
      ]
     },
     "execution_count": null,
     "metadata": {},
     "output_type": "execute_result"
    }
   ],
   "source": [
    "#|eval: false\n",
    "path.ls()"
   ]
  },
  {
   "cell_type": "code",
   "execution_count": null,
   "metadata": {},
   "outputs": [],
   "source": [
    "#| export\n",
    "class Spectra(Tensor):\n",
    "    def __init__(self, x):\n",
    "        self.x = x\n",
    "        \n",
    "    def show(self, ctx=None, wn=np.arange(4000, 600, -2), figsize=(12,2), **kwargs):\n",
    "        spectra = self\n",
    "        if ctx is None: _,ctx = plt.subplots(figsize=figsize)\n",
    "        ctx.set_xlim(np.max(wn), np.min(wn))\n",
    "        ctx.set(xlabel='Wavenumber', ylabel='Absorbance')\n",
    "        ctx.set_axisbelow(True)\n",
    "        for spectrum in spectra:\n",
    "            _ = ctx.plot(wn, spectrum, c='steelblue', lw=1)\n",
    "        ctx.grid(True, which='both')\n",
    "        return ctx    "
   ]
  },
  {
   "cell_type": "code",
   "execution_count": null,
   "metadata": {},
   "outputs": [],
   "source": [
    "#| export\n",
    "class Analyte(Tensor, ShowTitle):\n",
    "    def __init__(self, y):\n",
    "        self.y = y"
   ]
  },
  {
   "cell_type": "code",
   "execution_count": null,
   "metadata": {},
   "outputs": [],
   "source": [
    "#| export\n",
    "class SpectraTfm(Transform):\n",
    "    \"Transform folder path into a torch array of dimension: (n_replicates, n_wavenumbers)\"\n",
    "    def encodes(self, \n",
    "                o:Path # Path to directory containing both spectra and analyte(s) measurement\n",
    "               ):\n",
    "        o = L(fname for fname in o.ls() if re.match('\\d', fname.name))\n",
    "        n = pd.read_csv(o[0]).shape[0]\n",
    "        m = len(o)\n",
    "        x = np.empty((m,n))\n",
    "        for i, fname in enumerate(o):\n",
    "            x[i,:] = pd.read_csv(fname)['absorbance'].values\n",
    "        return Spectra(torch.Tensor(x)) "
   ]
  },
  {
   "cell_type": "code",
   "execution_count": null,
   "metadata": {},
   "outputs": [],
   "source": [
    "#| export   \n",
    "class AnalyteTfm(Transform):\n",
    "    \"Transform a folder path into a tensor of soil analyte(s) measurement\"\n",
    "    def __init__(self, \n",
    "                 analytes:list|None=None):\n",
    "        self.analytes = analytes\n",
    "        \n",
    "    def encodes(self, \n",
    "                o:Path # Path to directory containing both spectra and analyte(s) measurement\n",
    "               ):\n",
    "        path_target = [f for f in o.ls() if re.match('target', f.name)][0]\n",
    "        df = pd.read_csv(path_target)\n",
    "        if self.analytes:\n",
    "            df = df[df.analyte.isin(self.analytes)]\n",
    "        return Analyte(df['value'].values)"
   ]
  },
  {
   "cell_type": "code",
   "execution_count": null,
   "metadata": {},
   "outputs": [],
   "source": [
    "#| export\n",
    "class RandWAvgTfm(Transform):\n",
    "    def encodes(self, x:Spectra):\n",
    "        n = len(x)\n",
    "        return torch.matmul(self._weights(n), x)  \n",
    "    def _weights(self, n):\n",
    "        weights = torch.rand(n)\n",
    "        return (weights/weights.sum()).unsqueeze(dim=0)"
   ]
  },
  {
   "cell_type": "code",
   "execution_count": null,
   "metadata": {},
   "outputs": [],
   "source": [
    "#| export\n",
    "class AvgTfm(Transform):\n",
    "    def encodes(self, x:Spectra):\n",
    "        return torch.mean(x, dim=0, keepdim=True)"
   ]
  },
  {
   "cell_type": "code",
   "execution_count": null,
   "metadata": {},
   "outputs": [],
   "source": [
    "#| export\n",
    "class SNVTfm(Transform):\n",
    "    def encodes(self, x:Spectra):\n",
    "        mean, std = torch.mean(x), torch.std(x)\n",
    "        return (x - mean)/std"
   ]
  },
  {
   "cell_type": "code",
   "execution_count": null,
   "metadata": {},
   "outputs": [],
   "source": [
    "#| export\n",
    "class NormalizeTfm(Transform):\n",
    "    def __init__(self, mean, std):\n",
    "        self.mean = mean\n",
    "        self.std = std\n",
    "    def encodes(self, x:Spectra):\n",
    "        return (x - self.mean)/self.std"
   ]
  },
  {
   "cell_type": "code",
   "execution_count": null,
   "metadata": {},
   "outputs": [],
   "source": [
    "#| export\n",
    "def SpectraBlock():\n",
    "    return TransformBlock(type_tfms=SpectraTfm())"
   ]
  },
  {
   "cell_type": "code",
   "execution_count": null,
   "metadata": {},
   "outputs": [],
   "source": [
    "#| export\n",
    "def AnalyteBlock(analytes):\n",
    "    return TransformBlock(type_tfms=AnalyteTfm(analytes))"
   ]
  },
  {
   "cell_type": "code",
   "execution_count": null,
   "metadata": {},
   "outputs": [],
   "source": []
  },
  {
   "cell_type": "code",
   "execution_count": null,
   "metadata": {},
   "outputs": [],
   "source": [
    "#| export\n",
    "class Spectra(Tensor): \n",
    "    def show(self, ctx=None, wn=np.arange(4000, 600, -2), figsize=(12,3), **kwargs):\n",
    "        spectra = self\n",
    "        if ctx is None: _,ctx = plt.subplots(figsize=figsize)\n",
    "        #ctx.imshow(im, **{**self._show_args, **kwargs})\n",
    "        ctx.set_xlim(np.max(wn), np.min(wn))\n",
    "        ctx.set(xlabel='Wavenumber', ylabel='Absorbance')\n",
    "        ctx.set_axisbelow(True)\n",
    "        for spectrum in spectra:\n",
    "            _ = ctx.plot(wn, spectrum, c='steelblue', lw=1)\n",
    "        ctx.grid(True, which='both')\n",
    "        return ctx"
   ]
  },
  {
   "cell_type": "code",
   "execution_count": null,
   "metadata": {},
   "outputs": [],
   "source": [
    "#| export\n",
    "@Transform\n",
    "def to_spectra(paths:L, # List of spectra file paths\n",
    "              ) -> Spectra: # Spectra\n",
    "    \"Transform list of spectra file paths to a torch array of dimension: (n_replicates, n_wavenumbers)\"\n",
    "    n = pd.read_csv(paths[0]).shape[0]\n",
    "    m = len(paths)\n",
    "    x = np.empty((m,n))\n",
    "    for i, fname in enumerate(paths):\n",
    "        x[i,:] = pd.read_csv(fname)['absorbance'].values\n",
    "    return Spectra(x)"
   ]
  },
  {
   "cell_type": "code",
   "execution_count": null,
   "metadata": {},
   "outputs": [
    {
     "name": "stdout",
     "output_type": "stream",
     "text": [
      "Spectra([[0.1680, 0.1682, 0.1684,  ..., 1.4982, 1.4934, 1.4900],\n",
      "         [0.1742, 0.1743, 0.1745,  ..., 1.5318, 1.5263, 1.5215],\n",
      "         [0.1706, 0.1708, 0.1710,  ..., 1.5089, 1.5031, 1.4992],\n",
      "         [0.2243, 0.2245, 0.2248,  ..., 1.5664, 1.5592, 1.5532]])\n"
     ]
    },
    {
     "data": {
      "image/png": "[encoded data removed]",
      "text/plain": [
       "<Figure size 1200x300 with 1 Axes>"
      ]
     },
     "metadata": {},
     "output_type": "display_data"
    }
   ],
   "source": [
    "#|eval: false\n",
    "pipe = Pipeline([get_spectra_files, to_spectra])\n",
    "spectra = pipe(fn)\n",
    "print(spectra)\n",
    "pipe.show(spectra);"
   ]
  },
  {
   "cell_type": "code",
   "execution_count": null,
   "metadata": {},
   "outputs": [],
   "source": [
    "#| export\n",
    "@Transform\n",
    "def rand_w_avg(x: Spectra, # Spectra replicates (n_replicates, n_wavenumbers)\n",
    "              ) -> Spectra: # Random weighted averaged spectrum\n",
    "    \"Transform spectra replicates taking their random weighted averages for data augmentation\"\n",
    "    n = len(x)\n",
    "    def weights(n):\n",
    "        weights = torch.rand(n)\n",
    "        return (weights/weights.sum()).unsqueeze(dim=0)\n",
    "    return torch.matmul(weights(n), x)"
   ]
  },
  {
   "cell_type": "code",
   "execution_count": null,
   "metadata": {},
   "outputs": [
    {
     "name": "stdout",
     "output_type": "stream",
     "text": [
      "Spectra([[0.1846, 0.1849, 0.1851,  ..., 1.5240, 1.5182, 1.5138]])\n"
     ]
    },
    {
     "data": {
      "image/png": "[encoded data removed]",
      "text/plain": [
       "<Figure size 1200x300 with 1 Axes>"
      ]
     },
     "metadata": {},
     "output_type": "display_data"
    }
   ],
   "source": [
    "#|eval: false\n",
    "pipe = Pipeline([get_spectra_files, to_spectra, rand_w_avg])\n",
    "spectra = pipe(fn)\n",
    "print(spectra)\n",
    "pipe.show(spectra);"
   ]
  },
  {
   "cell_type": "code",
   "execution_count": null,
   "metadata": {},
   "outputs": [],
   "source": [
    "#| export\n",
    "@Transform\n",
    "def avg(x: Spectra, # Spectra replicates (n_replicates, n_wavenumbers)\n",
    "       ) -> Spectra: # Averaged spectrum\n",
    "    \"Transform spectra replicates taking their average\"\n",
    "    return torch.mean(x, dim=0, keepdim=True)"
   ]
  },
  {
   "cell_type": "code",
   "execution_count": null,
   "metadata": {},
   "outputs": [
    {
     "name": "stdout",
     "output_type": "stream",
     "text": [
      "Spectra([[0.1842, 0.1845, 0.1847,  ..., 1.5263, 1.5205, 1.5160]])\n"
     ]
    },
    {
     "data": {
      "image/png": "[encoded data removed]",
      "text/plain": [
       "<Figure size 1200x300 with 1 Axes>"
      ]
     },
     "metadata": {},
     "output_type": "display_data"
    }
   ],
   "source": [
    "#|eval: false\n",
    "pipe = Pipeline([get_spectra_files, to_spectra, avg])\n",
    "spectra = pipe(fn)\n",
    "print(spectra)\n",
    "pipe.show(spectra);"
   ]
  },
  {
   "cell_type": "code",
   "execution_count": null,
   "metadata": {},
   "outputs": [],
   "source": [
    "#| export\n",
    "@Transform\n",
    "def snv(x: Spectra, # Spectrum \n",
    "       ) -> Spectra: # Standard Normal Variate of spectrum\n",
    "    \"Standard Normal Variate Transform of input spectrum\"\n",
    "    mean, std = torch.mean(x), torch.std(x)\n",
    "    return (x - mean)/std"
   ]
  },
  {
   "cell_type": "code",
   "execution_count": null,
   "metadata": {},
   "outputs": [
    {
     "name": "stdout",
     "output_type": "stream",
     "text": [
      "Spectra([[-1.6134, -1.6129, -1.6124,  ...,  1.6146,  1.6005,  1.5896]])\n"
     ]
    },
    {
     "data": {
      "image/png": "[encoded data removed]",
      "text/plain": [
       "<Figure size 1200x300 with 1 Axes>"
      ]
     },
     "metadata": {},
     "output_type": "display_data"
    }
   ],
   "source": [
    "#|eval: false\n",
    "pipe = Pipeline([get_spectra_files, to_spectra, avg, snv])\n",
    "spectra = pipe(fn)\n",
    "print(spectra)\n",
    "pipe.show(spectra);"
   ]
  },
  {
   "cell_type": "markdown",
   "metadata": {},
   "source": [
    "## Target (Soil properties)"
   ]
  },
  {
   "cell_type": "code",
   "execution_count": null,
   "metadata": {},
   "outputs": [],
   "source": [
    "#| export\n",
    "class LogTfm(Transform):\n",
    "    def encodes(self, y:Analyte):\n",
    "        return torch.log10(y)"
   ]
  },
  {
   "cell_type": "code",
   "execution_count": null,
   "metadata": {},
   "outputs": [],
   "source": [
    "#| export\n",
    "class Analyte(Tensor): \n",
    "    def show(self, ctx=None, **kwargs):\n",
    "        analytes = self"
   ]
  },
  {
   "cell_type": "code",
   "execution_count": null,
   "metadata": {},
   "outputs": [],
   "source": []
  },
  {
   "cell_type": "code",
   "execution_count": null,
   "metadata": {},
   "outputs": [],
   "source": [
    "#| export\n",
    "class AnalytesTfm(Transform):\n",
    "    def __init__(self, \n",
    "                 analytes:list|None=None): \n",
    "        self.analytes = analytes"
   ]
  },
  {
   "cell_type": "code",
   "execution_count": null,
   "metadata": {},
   "outputs": [],
   "source": [
    "#| export\n",
    "@AnalytesTfm\n",
    "def encodes(self, \n",
    "            path: Path, # Path to directory containing both spectra and analyte(s) measurement\n",
    "           ):\n",
    "    \"Transform a path to a directory into a tensor of soil analyte(s) measurement\"\n",
    "    path_target = [f for f in path.ls() if re.match('target', f.name)][0]\n",
    "    df = pd.read_csv(path_target)\n",
    "    if self.analytes:\n",
    "        df = df[df.analyte.isin(self.analytes)]\n",
    "    return Analyte(df['value'].values)"
   ]
  },
  {
   "cell_type": "code",
   "execution_count": null,
   "metadata": {},
   "outputs": [
    {
     "data": {
      "text/plain": [
       "Analyte([2.8077])"
      ]
     },
     "execution_count": null,
     "metadata": {},
     "output_type": "execute_result"
    }
   ],
   "source": [
    "#|eval: false\n",
    "AnalytesTfm(analytes=[725])(path.ls()[0])"
   ]
  },
  {
   "cell_type": "code",
   "execution_count": null,
   "metadata": {},
   "outputs": [
    {
     "name": "stdout",
     "output_type": "stream",
     "text": [
      "Analyte([2.8077])\n"
     ]
    }
   ],
   "source": [
    "AnalytesTfm(analytes=[725])(path.ls()[0]).show()"
   ]
  },
  {
   "cell_type": "code",
   "execution_count": null,
   "metadata": {},
   "outputs": [
    {
     "data": {
      "text/plain": [
       "Analyte([0.4484])"
      ]
     },
     "execution_count": null,
     "metadata": {},
     "output_type": "execute_result"
    }
   ],
   "source": [
    "#|eval: false\n",
    "# Or as a TfmdLists pipeline\n",
    "tls = TfmdLists(path.ls(), [AnalytesTfm(analytes=[725]), torch.log10])\n",
    "tls[0]"
   ]
  },
  {
   "cell_type": "code",
   "execution_count": null,
   "metadata": {},
   "outputs": [],
   "source": [
    "#t = np.array([AnalytesTfm(analytes=[725])(fname).item() for fname in path.ls()])\n",
    "#np.log10(t.min()), np.log10(t.max())"
   ]
  },
  {
   "cell_type": "markdown",
   "metadata": {},
   "source": [
    "## How to use these transforms?"
   ]
  },
  {
   "cell_type": "code",
   "execution_count": null,
   "metadata": {},
   "outputs": [],
   "source": [
    "#|eval: false\n",
    "dblock = DataBlock(blocks=(SpectraBlock, AnalyteBlock(analytes=[725])),\n",
    "                   splitter=RandomSplitter(),\n",
    "                   item_tfms=[RandWAvgTfm(), NormalizeTfm(mean=0.8813, std=0.4324),\n",
    "                              LogTfm()])\n",
    "\n",
    "dls = dblock.dataloaders(path.ls(), \n",
    "                         bs=16)\n",
    "\n",
    "dls.show_batch()"
   ]
  },
  {
   "cell_type": "markdown",
   "metadata": {},
   "source": [
    "1. First create two // pipes (one for the features and one for the targets):"
   ]
  },
  {
   "cell_type": "code",
   "execution_count": null,
   "metadata": {},
   "outputs": [],
   "source": [
    "#|eval: false\n",
    "x_tfms = [get_spectra_files, to_spectra, rand_w_avg]\n",
    "y_tfms = [AnalytesTfm(analytes=[725]), torch.log10]"
   ]
  },
  {
   "cell_type": "markdown",
   "metadata": {},
   "source": [
    "2. Create your splits and create a Fastai `Datasets`:"
   ]
  },
  {
   "cell_type": "code",
   "execution_count": null,
   "metadata": {},
   "outputs": [],
   "source": [
    "#|eval: false\n",
    "splits = RandomSplitter(seed=42)(path.ls())\n",
    "dsets = Datasets(path.ls(), [x_tfms, y_tfms], splits=splits)"
   ]
  },
  {
   "cell_type": "markdown",
   "metadata": {},
   "source": [
    "3. Then you get your Dataloader:"
   ]
  },
  {
   "cell_type": "code",
   "execution_count": null,
   "metadata": {},
   "outputs": [],
   "source": [
    "#|eval: false\n",
    "dls = dsets.dataloaders(bs=16)"
   ]
  },
  {
   "cell_type": "code",
   "execution_count": null,
   "metadata": {},
   "outputs": [
    {
     "data": {
      "text/plain": [
       "torch.Size([256, 1, 1700])"
      ]
     },
     "execution_count": null,
     "metadata": {},
     "output_type": "execute_result"
    }
   ],
   "source": [
    "#|eval: false\n",
    "dls.train.one_batch()[0].shape"
   ]
  },
  {
   "cell_type": "code",
   "execution_count": null,
   "metadata": {},
   "outputs": [],
   "source": [
    "#|eval: false\n",
    "#dls.train.one_batch()[1]"
   ]
  },
  {
   "cell_type": "code",
   "execution_count": null,
   "metadata": {},
   "outputs": [],
   "source": [
    "x, y = dls.train.one_batch()"
   ]
  },
  {
   "cell_type": "code",
   "execution_count": null,
   "metadata": {},
   "outputs": [
    {
     "data": {
      "text/plain": [
       "torch.Size([256, 1, 1700])"
      ]
     },
     "execution_count": null,
     "metadata": {},
     "output_type": "execute_result"
    }
   ],
   "source": [
    "x.shape"
   ]
  },
  {
   "cell_type": "code",
   "execution_count": null,
   "metadata": {},
   "outputs": [
    {
     "data": {
      "text/plain": [
       "(Spectra([0.9019]), Spectra([0.4334]))"
      ]
     },
     "execution_count": null,
     "metadata": {},
     "output_type": "execute_result"
    }
   ],
   "source": [
    "x.mean(dim=[0,2]), x.std(dim=[0,2])"
   ]
  },
  {
   "cell_type": "code",
   "execution_count": null,
   "metadata": {},
   "outputs": [
    {
     "data": {
      "text/plain": [
       "(Spectra([0.9242]), Spectra([0.4409]))"
      ]
     },
     "execution_count": null,
     "metadata": {},
     "output_type": "execute_result"
    }
   ],
   "source": [
    "x.mean(dim=[0,2]), x.std(dim=[0,2])\n",
    "    #,x.std(dim=[0,2,3])"
   ]
  },
  {
   "cell_type": "code",
   "execution_count": null,
   "metadata": {},
   "outputs": [],
   "source": [
    "x.mean(dim=[0,2,3]),x.std(dim=[0,2,3])"
   ]
  },
  {
   "cell_type": "code",
   "execution_count": null,
   "metadata": {},
   "outputs": [],
   "source": [
    "#for s, a in dls.train:\n",
    "#    print(s.shape)\n",
    "#    print(a.shape)"
   ]
  },
  {
   "cell_type": "code",
   "execution_count": null,
   "metadata": {},
   "outputs": [],
   "source": [
    "dls.show_batch(max_n=4)"
   ]
  },
  {
   "cell_type": "code",
   "execution_count": null,
   "metadata": {},
   "outputs": [],
   "source": [
    "x, y = dls.train.one_batch()"
   ]
  },
  {
   "cell_type": "code",
   "execution_count": null,
   "metadata": {},
   "outputs": [
    {
     "data": {
      "text/plain": [
       "torch.Size([16, 1, 1700])"
      ]
     },
     "execution_count": null,
     "metadata": {},
     "output_type": "execute_result"
    }
   ],
   "source": [
    "x.shape"
   ]
  },
  {
   "cell_type": "code",
   "execution_count": null,
   "metadata": {},
   "outputs": [
    {
     "data": {
      "text/plain": [
       "1"
      ]
     },
     "execution_count": null,
     "metadata": {},
     "output_type": "execute_result"
    }
   ],
   "source": [
    "x.size(1)"
   ]
  },
  {
   "cell_type": "code",
   "execution_count": null,
   "metadata": {},
   "outputs": [
    {
     "data": {
      "text/plain": [
       "torch.Size([16, 1, 1700])"
      ]
     },
     "execution_count": null,
     "metadata": {},
     "output_type": "execute_result"
    }
   ],
   "source": [
    "x.view(16, 1, -1).shape"
   ]
  },
  {
   "cell_type": "code",
   "execution_count": null,
   "metadata": {},
   "outputs": [],
   "source": [
    "x.mean("
   ]
  },
  {
   "cell_type": "code",
   "execution_count": null,
   "metadata": {},
   "outputs": [
    {
     "name": "stdout",
     "output_type": "stream",
     "text": [
      "16\n"
     ]
    }
   ],
   "source": [
    "mean = 0.\n",
    "std = 0.\n",
    "nb_samples = 0.\n",
    "\n",
    "for x, y in dls.train:\n",
    "    batch_samples = x.size(0)\n",
    "    x.view(batch_samples, x.size(1)\n",
    "    #print(x.shape)\n",
    "    break"
   ]
  },
  {
   "cell_type": "code",
   "execution_count": null,
   "metadata": {},
   "outputs": [],
   "source": [
    "x = np.array([1, 2, 3, 4, 5, 8, 12, 45, 33])"
   ]
  },
  {
   "cell_type": "code",
   "execution_count": null,
   "metadata": {},
   "outputs": [
    {
     "data": {
      "text/plain": [
       "12.555555555555555"
      ]
     },
     "execution_count": null,
     "metadata": {},
     "output_type": "execute_result"
    }
   ],
   "source": [
    "x.mean()"
   ]
  },
  {
   "cell_type": "code",
   "execution_count": null,
   "metadata": {},
   "outputs": [
    {
     "name": "stdout",
     "output_type": "stream",
     "text": [
      "12.555555555555555\n"
     ]
    }
   ],
   "source": [
    "n = len(x)\n",
    "avg = 0\n",
    "for el in x:\n",
    "    avg += el/n\n",
    "print(avg)"
   ]
  },
  {
   "cell_type": "code",
   "execution_count": null,
   "metadata": {},
   "outputs": [],
   "source": [
    "16,1700"
   ]
  },
  {
   "cell_type": "code",
   "execution_count": null,
   "metadata": {},
   "outputs": [],
   "source": [
    "N,C,H,W"
   ]
  },
  {
   "cell_type": "code",
   "execution_count": null,
   "metadata": {},
   "outputs": [
    {
     "name": "stdout",
     "output_type": "stream",
     "text": [
      "100\n",
      "torch.Size([100, 3, 576])\n"
     ]
    }
   ],
   "source": [
    "x = torch.randn(100, 3, 24, 24)\n",
    "batch_samples = x.size(0); print(batch_samples)\n",
    "x = x.view(batch_samples, x.size(1), -1); print(x.shape)\n"
   ]
  },
  {
   "cell_type": "code",
   "execution_count": null,
   "metadata": {},
   "outputs": [
    {
     "data": {
      "text/plain": [
       "torch.Size([100, 3])"
      ]
     },
     "execution_count": null,
     "metadata": {},
     "output_type": "execute_result"
    }
   ],
   "source": [
    "x.mean(2).shape"
   ]
  },
  {
   "cell_type": "code",
   "execution_count": null,
   "metadata": {},
   "outputs": [],
   "source": [
    "# https://discuss.pytorch.org/t/about-normalization-using-pre-trained-vgg16-networks/23560/6?u=kuzand\n",
    "mean = 0.\n",
    "std = 0.\n",
    "nb_samples = 0.\n",
    "for data in loader:\n",
    "    batch_samples = data.size(0)\n",
    "    data = data.view(batch_samples, data.size(1), -1)\n",
    "    mean += data.mean(2).sum(0)\n",
    "    std += data.std(2).sum(0)\n",
    "    nb_samples += batch_samples\n",
    "\n",
    "mean /= nb_samples\n",
    "std /= nb_samples"
   ]
  },
  {
   "cell_type": "code",
   "execution_count": null,
   "metadata": {},
   "outputs": [
    {
     "ename": "NameError",
     "evalue": "name 'Dataset' is not defined",
     "output_type": "error",
     "traceback": [
      "\u001b[0;31m---------------------------------------------------------------------------\u001b[0m",
      "\u001b[0;31mNameError\u001b[0m                                 Traceback (most recent call last)",
      "Cell \u001b[0;32mIn[204], line 1\u001b[0m\n\u001b[0;32m----> 1\u001b[0m \u001b[38;5;28;01mclass\u001b[39;00m \u001b[38;5;21;01mMyDataset\u001b[39;00m(\u001b[43mDataset\u001b[49m):\n\u001b[1;32m      2\u001b[0m     \u001b[38;5;28;01mdef\u001b[39;00m \u001b[38;5;21m__init__\u001b[39m(\u001b[38;5;28mself\u001b[39m):\n\u001b[1;32m      3\u001b[0m         \u001b[38;5;28mself\u001b[39m\u001b[38;5;241m.\u001b[39mdata \u001b[38;5;241m=\u001b[39m torch\u001b[38;5;241m.\u001b[39mrandn(\u001b[38;5;241m100\u001b[39m, \u001b[38;5;241m3\u001b[39m, \u001b[38;5;241m24\u001b[39m, \u001b[38;5;241m24\u001b[39m)\n",
      "\u001b[0;31mNameError\u001b[0m: name 'Dataset' is not defined"
     ]
    }
   ],
   "source": [
    "class MyDataset(Dataset):\n",
    "    def __init__(self):\n",
    "        self.data = torch.randn(100, 3, 24, 24)\n",
    "        \n",
    "    def __getitem__(self, index):\n",
    "        x = self.data[index]\n",
    "        return x\n",
    "\n",
    "    def __len__(self):\n",
    "        return len(self.data)\n",
    "    \n",
    "\n",
    "dataset = MyDataset()\n",
    "loader = DataLoader(\n",
    "    dataset,\n",
    "    batch_size=10,\n",
    "    num_workers=1,\n",
    "    shuffle=False\n",
    ")\n",
    "\n",
    "\n",
    "mean = 0.\n",
    "std = 0.\n",
    "nb_samples = 0.\n",
    "for data in loader:\n",
    "    batch_samples = data.size(0)\n",
    "    data = data.view(batch_samples, data.size(1), -1)\n",
    "    mean += data.mean(2).sum(0)\n",
    "    std += data.std(2).sum(0)\n",
    "    nb_samples += batch_samples\n",
    "\n",
    "mean /= nb_samples\n",
    "std /= nb_samples"
   ]
  },
  {
   "cell_type": "code",
   "execution_count": null,
   "metadata": {},
   "outputs": [],
   "source": [
    "dblock = DataBlock(blocks=(SpectraBlock, AnalyteBlock(analytes=[725])),\n",
    "                   splitter=RandomSplitter(),\n",
    "                   item_tfms=[RandWAvgTfm(), NormalizeTfm(mean=0.8813, std=0.4324),\n",
    "                              LogTfm()])\n",
    "\n",
    "dls = dblock.dataloaders(path.ls(), \n",
    "                         bs=16)\n",
    "\n",
    "model = xresnet18(ndim=1, c_in=1, ks=3, n_out=1).to(device)\n",
    "learn = Learner(dls, model, loss_func=MSELossFlat(), metrics=R2Score())\n",
    "learn.lr_find()\n",
    "learn.fit_one_cycle(40, 1e-3)"
   ]
  }
 ],
 "metadata": {
  "kernelspec": {
   "display_name": "Python 3 (ipykernel)",
   "language": "python",
   "name": "python3"
  }
 },
 "nbformat": 4,
 "nbformat_minor": 4
}
